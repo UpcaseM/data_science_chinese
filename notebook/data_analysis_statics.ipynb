{
 "cells": [
  {
   "cell_type": "markdown",
   "metadata": {},
   "source": [
    "作为数据分析师，除了熟练各种分析工具外，更重要的是分析、解决问题的能力以及扎实的数学功底，尤其是统计学。\n",
    "\n",
    "本文将用一个例子，一步一步展示1)分析问题的步骤，2)更具需求选择合适工具和数据获取，3)和统计学知识在实例中的运用。\n",
    "\n",
    "*本文涉及例子和数据纯属虚构，如有雷同纯属巧合。*"
   ]
  },
  {
   "cell_type": "markdown",
   "metadata": {},
   "source": [
    "商业问题：是否需要多招一个奶茶工？\n",
    "\n",
    "我的朋友小文在大学城开了一个奶茶店。由于开在大学城，奶茶店生意稳定，从周一到周日生意都差不多。现在奶茶店里有2个员工做奶茶，而点单则是由自助点单机器负责。一天小文去店里看运营情况，收到顾客反映等待时间太久，希望奶茶店再招些员工让等待时间短一些。考虑到工资成本，小文找到我让我帮助分析下是否需要再招个人，如果我可以出一个让他信服的商业分析报告，他就免费送我20杯奶茶的礼券。那我肯定不能错过这个免费喝奶茶的机会，于是和小文了解了奶茶店的情况后制定了以下分析步骤：\n",
    "\n",
    "* 分析、理解问题\n",
    "* 获取、导入数据\n",
    "* 数据清洗\n",
    "* 数据分析与可视化\n",
    "* 构建模型\n",
    "* 总结"
   ]
  },
  {
   "cell_type": "markdown",
   "metadata": {},
   "source": [
    "# 分析、理解问题\n",
    "\n",
    "与小文交流后，我把小文的问题“是否需要再招一个奶茶工？”转换成以下问题：为了提高顾客满意度，分析决定是否有95%的顾客实际等待时间超过他们的预期等待时间，如果是则小文需要至少再招一个人。\n",
    "\n",
    "**量化问题是解决问题的重要步骤之一**。也就是说，需要量化**等待时间**来决定是否多招人，而不是因为有几个顾客反映等待时间过长的反馈进行决策。要解决等待时间是否过长需要2个数据指标：1)目标指标，95%顾客的可接受等待时间。2)客观计算或测量数据，95%的顾客的实际等待时间。\n",
    "\n",
    "**首先要确定目标指标。** 这里95%顾客可接受等待时间是值顾客的心里预期，所以需要顾客主观给出一个认为可以接收的等待时间，而如果等待时间过长，久而久之等待时间过长的顾客就可以去其他奶茶店买奶茶了。因此，我决定使用[**随机抽样调查**](https://baike.baidu.com/item/%E6%8A%BD%E6%A0%B7%E8%B0%83%E6%9F%A5%E6%B3%95)来获取这一数据。首先，我设计了一个简单的问题：买奶茶，您愿意的等待时间？a.1分钟。b.5分钟 c.10分钟 d.15分钟 e.20分钟 f.25分钟。然后我在一周内随机去小文的奶茶店询问了正在等待的顾客，一共收集到了200个顾客的反馈。然后，我可以通过这200个随机抽取的样本去估计所有顾客的心里预期，最终得到有189的顾客(大约95%)可接受的等待时间为**15分钟或者以下**。这里到了一些常用统计学知识，可以通过[这篇文章了解为什么可以用样本去估计整体](https://blog.csdn.net/YPP0229/article/details/94594306)？以及[这个回答，为什么设置95%](https://www.zhihu.com/question/26419030)？\n",
    "\n",
    "**下一步需要选择合适的方法得到顾客实际等待时间**，我们可以通过以下方法：\n",
    "\n",
    "1. 使用数学公式计算。对于如此多步骤的复杂问题，我们很难使用数据公式求解，因此使用数学公式不是合适选项。\n",
    "\n",
    "2. 实地测量顾客等待时间。实地测量是非常耗时耗力的，对于付出(一周甚至是更久的实地测量)回报(20杯奶茶)比来说，实地测量不是一个好的选择。\n",
    "\n",
    "3. 利用模拟实验得到等待时间。模拟实验是指使用代码来模拟当前卖奶茶的流程，并通过模拟实验模拟顾客的等待时间，如果模拟实验的数据能真实可靠地获得，那模拟实验就能很好地模拟真实情况。举个简单的例子理解模拟实验：一个袋子里有3个小球，一个红球，两个白球。问随便从袋子中取一个球，取到红球的概率。使用Python进行模拟实验可以使用以下代码。\n",
    "\n",
    "```python\n",
    "import random\n",
    "import numpy as np\n",
    "# 模拟一个袋子，一个红球red,两个白球white\n",
    "pocket = ['red', 'white', 'white']\n",
    "# 记录每次摸球结果的列表\n",
    "lst_result = []\n",
    "# 模拟摸球1000000次\n",
    "for t in range(1_000_000):\n",
    "    lst_result.append(random.choice(pocket))\n",
    "# 计算1000000次摸球中，摸到红球的比例。\n",
    "lst_result = np.array(lst_result)\n",
    "print((lst_result== 'red').sum()/len(lst_result))\n",
    "0.333253\n",
    "```\n",
    "可以看到在一瞬间计算机就能进行一百万次模拟实验，最终得到摸到红球的概率是0.333253，所以在大量的模拟实验下，最终结果是非常接近真实结果的。其实对于这个简单的例子，概率公式```1/3```就能得到结果，但是对于卖奶茶的流程，不是简单的数学公式能计算出来的，而模拟实验正好能发挥他的作用。\n",
    "\n",
    "**接下来要衡量模拟实验的可行性。**\n",
    "\n",
    "* 第一，整理卖奶茶的流程。下图为卖奶茶流程图：\n",
    "\n",
    "![milk_tea](img/milk_tea_case.png)\n",
    "\n",
    "\n"
   ]
  },
  {
   "cell_type": "markdown",
   "metadata": {},
   "source": [
    "* 第二，检查数据是否可取得。\n",
    "\n",
    "通过流程整理，我们知道模拟的第一步是模拟订单数据，那就需要**历史订单数据**。通过分析历史订单数据，我们可以得出规律并生模拟新的订单数据(主要是订单生成时间，和每单奶茶杯数)。\n",
    "\n",
    "然后模拟第二步订单进入等待队列，产生的等待时间为t1，如果员工空闲那就可以立刻开始订单，此时t1=0。\n",
    "\n",
    "模拟第三步员工制作奶茶，这时候需要**每个员工制作奶茶的时间数据**，并根据这一数据生成每杯奶茶的制作时间的模拟数据，而制作奶茶的时间为t2。最终就能得到每个订单的模拟等待时间t1+t2。\n",
    "\n",
    "所以只要得到**历史订单数据**，和**员工做每杯奶茶的时间**就可以进行模拟。历史订单数据非常容易取得，只要从奶茶店销售系统中调取。员工做奶茶的时间并没有现成数据，于是我和小文商量了只要提供2个电子计时器，每次员工只要在开始和结束奶茶制作的时候按下计时器，就能得到奶茶制作时间。"
   ]
  },
  {
   "cell_type": "markdown",
   "metadata": {},
   "source": [
    "经过以上思考，我们总结下问题。\n",
    "\n",
    "**解决的问题**：为了提高顾客满意度，分析是否有95%的顾客实际等待时间超过他们的预期等待时间，来决定是否招人。\n",
    "\n",
    "**量化指标**：1)95%顾客的预期等待时间。2)95%顾客的实际等待时间\n",
    "\n",
    "**方法选择**：1)问卷调查获取顾客预期等待时间。2)模拟实验模拟实际等待时间。\n",
    "\n",
    "**数据需求**：1)历史订单数据。2)收集员工做每杯奶茶的时间。\n",
    "\n",
    "**问题前提和假设**：1)等待时间不包括点单时间，员工走动取单和送奶茶时间，只计算等待时间t1和奶茶制作时间t2作为总等待时间。2)期间没有任何促销，平均客流量稳定。3)顾客之间相互独立，即每位顾客来买奶茶不受其他顾客影响。4)员工做奶茶已经娴熟，做每杯奶茶的平均时间长期稳定，并且不同类型的奶茶平均制作时间一样。5)员工接到订单后完成整个订单，比如一个订单需要做3杯奶茶，则由一个员工完成所有奶茶。\n"
   ]
  },
  {
   "cell_type": "markdown",
   "metadata": {},
   "source": [
    "# 获取、导入数据\n",
    "\n",
    "模拟实验用到了2个数据集－历史订单数据和员工做每杯奶茶的时间。*这两个数据集是使用Python模拟的数据，非真实数据。*"
   ]
  },
  {
   "cell_type": "code",
   "execution_count": 1,
   "metadata": {},
   "outputs": [],
   "source": [
    "from collections import deque\n",
    "from datetime import datetime\n",
    "from scipy.stats import poisson, norm\n",
    "from scipy.interpolate import make_interp_spline\n",
    "import numpy as np\n",
    "import random\n",
    "import pandas as pd\n",
    "from pylab import mpl\n",
    "import matplotlib.pylab as plt # 数据可视化\n",
    "plt.style.use('ggplot') # 设置风格使图标更美观\n",
    "mpl.rcParams['font.sans-serif'] = ['SimHei'] # 指定字体雅黑，使图标可以显示中文\n",
    "mpl.rcParams['axes.unicode_minus'] = False # 解决保存图像是负号'-'显示为方块的问题"
   ]
  },
  {
   "cell_type": "code",
   "execution_count": 2,
   "metadata": {},
   "outputs": [],
   "source": [
    "file_dir = r'/mnt/data-ubuntu/Projects/data_science_chinese'\n",
    "df_lead_time = pd.read_csv(file_dir + r'/input/da_statics/lead_time.csv')\n",
    "df_sales = pd.read_csv(file_dir + r'/input/da_statics/sales_sample.csv')"
   ]
  },
  {
   "cell_type": "code",
   "execution_count": 3,
   "metadata": {},
   "outputs": [
    {
     "data": {
      "text/html": [
       "<div>\n",
       "<style scoped>\n",
       "    .dataframe tbody tr th:only-of-type {\n",
       "        vertical-align: middle;\n",
       "    }\n",
       "\n",
       "    .dataframe tbody tr th {\n",
       "        vertical-align: top;\n",
       "    }\n",
       "\n",
       "    .dataframe thead th {\n",
       "        text-align: right;\n",
       "    }\n",
       "</style>\n",
       "<table border=\"1\" class=\"dataframe\">\n",
       "  <thead>\n",
       "    <tr style=\"text-align: right;\">\n",
       "      <th></th>\n",
       "      <th>sample_group</th>\n",
       "      <th>time</th>\n",
       "      <th>order_qty</th>\n",
       "    </tr>\n",
       "  </thead>\n",
       "  <tbody>\n",
       "    <tr>\n",
       "      <th>18786</th>\n",
       "      <td>934</td>\n",
       "      <td>18:04:05</td>\n",
       "      <td>1</td>\n",
       "    </tr>\n",
       "    <tr>\n",
       "      <th>18787</th>\n",
       "      <td>934</td>\n",
       "      <td>18:09:51</td>\n",
       "      <td>1</td>\n",
       "    </tr>\n",
       "    <tr>\n",
       "      <th>18788</th>\n",
       "      <td>934</td>\n",
       "      <td>18:26:26</td>\n",
       "      <td>4</td>\n",
       "    </tr>\n",
       "    <tr>\n",
       "      <th>18789</th>\n",
       "      <td>934</td>\n",
       "      <td>18:29:35</td>\n",
       "      <td>2</td>\n",
       "    </tr>\n",
       "    <tr>\n",
       "      <th>18790</th>\n",
       "      <td>934</td>\n",
       "      <td>18:31:22</td>\n",
       "      <td>2</td>\n",
       "    </tr>\n",
       "    <tr>\n",
       "      <th>18791</th>\n",
       "      <td>934</td>\n",
       "      <td>18:40:06</td>\n",
       "      <td>1</td>\n",
       "    </tr>\n",
       "  </tbody>\n",
       "</table>\n",
       "</div>"
      ],
      "text/plain": [
       "       sample_group      time  order_qty\n",
       "18786           934  18:04:05          1\n",
       "18787           934  18:09:51          1\n",
       "18788           934  18:26:26          4\n",
       "18789           934  18:29:35          2\n",
       "18790           934  18:31:22          2\n",
       "18791           934  18:40:06          1"
      ]
     },
     "execution_count": 3,
     "metadata": {},
     "output_type": "execute_result"
    }
   ],
   "source": [
    "# 随便看一组数据\n",
    "df_sales[df_sales['sample_group']== 934]"
   ]
  },
  {
   "cell_type": "markdown",
   "metadata": {},
   "source": [
    "df_sales是在历史销售数据集中随机抽取了2000个小时的订单生成时间和下单杯数。sample_group是随机抽取小时的编号，time是在对应小时内订单生成时间，order_qty是在对应订单的奶茶下单杯数。"
   ]
  },
  {
   "cell_type": "code",
   "execution_count": 4,
   "metadata": {
    "scrolled": false
   },
   "outputs": [
    {
     "name": "stdout",
     "output_type": "stream",
     "text": [
      "<class 'pandas.core.frame.DataFrame'>\n",
      "RangeIndex: 40269 entries, 0 to 40268\n",
      "Data columns (total 3 columns):\n",
      " #   Column        Non-Null Count  Dtype \n",
      "---  ------        --------------  ----- \n",
      " 0   sample_group  40269 non-null  int64 \n",
      " 1   time          40269 non-null  object\n",
      " 2   order_qty     40269 non-null  int64 \n",
      "dtypes: int64(2), object(1)\n",
      "memory usage: 943.9+ KB\n"
     ]
    }
   ],
   "source": [
    "df_sales.info()"
   ]
  },
  {
   "cell_type": "markdown",
   "metadata": {},
   "source": [
    "数据一共40269行，并无缺失数据。"
   ]
  },
  {
   "cell_type": "code",
   "execution_count": 5,
   "metadata": {},
   "outputs": [
    {
     "data": {
      "text/html": [
       "<div>\n",
       "<style scoped>\n",
       "    .dataframe tbody tr th:only-of-type {\n",
       "        vertical-align: middle;\n",
       "    }\n",
       "\n",
       "    .dataframe tbody tr th {\n",
       "        vertical-align: top;\n",
       "    }\n",
       "\n",
       "    .dataframe thead th {\n",
       "        text-align: right;\n",
       "    }\n",
       "</style>\n",
       "<table border=\"1\" class=\"dataframe\">\n",
       "  <thead>\n",
       "    <tr style=\"text-align: right;\">\n",
       "      <th></th>\n",
       "      <th>work1</th>\n",
       "      <th>work2</th>\n",
       "    </tr>\n",
       "  </thead>\n",
       "  <tbody>\n",
       "    <tr>\n",
       "      <th>0</th>\n",
       "      <td>147</td>\n",
       "      <td>248</td>\n",
       "    </tr>\n",
       "    <tr>\n",
       "      <th>1</th>\n",
       "      <td>161</td>\n",
       "      <td>255</td>\n",
       "    </tr>\n",
       "    <tr>\n",
       "      <th>2</th>\n",
       "      <td>162</td>\n",
       "      <td>216</td>\n",
       "    </tr>\n",
       "    <tr>\n",
       "      <th>3</th>\n",
       "      <td>153</td>\n",
       "      <td>271</td>\n",
       "    </tr>\n",
       "    <tr>\n",
       "      <th>4</th>\n",
       "      <td>146</td>\n",
       "      <td>256</td>\n",
       "    </tr>\n",
       "  </tbody>\n",
       "</table>\n",
       "</div>"
      ],
      "text/plain": [
       "   work1  work2\n",
       "0    147    248\n",
       "1    161    255\n",
       "2    162    216\n",
       "3    153    271\n",
       "4    146    256"
      ]
     },
     "execution_count": 5,
     "metadata": {},
     "output_type": "execute_result"
    }
   ],
   "source": [
    "# 查看员工每杯奶茶制作时间数据\n",
    "df_lead_time.head()"
   ]
  },
  {
   "cell_type": "markdown",
   "metadata": {},
   "source": [
    "work1代表记录的员工1做每杯奶茶的时间，单位秒。work2代表记录的员工2做每杯奶茶的时间，单位秒。"
   ]
  },
  {
   "cell_type": "code",
   "execution_count": 6,
   "metadata": {},
   "outputs": [
    {
     "name": "stdout",
     "output_type": "stream",
     "text": [
      "<class 'pandas.core.frame.DataFrame'>\n",
      "RangeIndex: 996 entries, 0 to 995\n",
      "Data columns (total 2 columns):\n",
      " #   Column  Non-Null Count  Dtype\n",
      "---  ------  --------------  -----\n",
      " 0   work1   996 non-null    int64\n",
      " 1   work2   996 non-null    int64\n",
      "dtypes: int64(2)\n",
      "memory usage: 15.7 KB\n"
     ]
    }
   ],
   "source": [
    "df_lead_time.info()"
   ]
  },
  {
   "cell_type": "markdown",
   "metadata": {},
   "source": [
    "该数据有996行数据，并无缺失值。"
   ]
  },
  {
   "cell_type": "markdown",
   "metadata": {},
   "source": [
    "# 数据清洗\n",
    "\n",
    "这2个数据集为模拟数据，简单整洁且无缺失值，不需要进行数据清洗。"
   ]
  },
  {
   "cell_type": "markdown",
   "metadata": {},
   "source": [
    "# 数据分析与可视化\n",
    "\n",
    "我们的目标是在模拟实验中生成模拟订单，包含了在某一时间点生成订单与下单数量。所以我们分析历史数据订单生成有什么规律，和下单数量有什么规律。\n",
    "\n",
    "此外，对于每个员工做一杯奶茶的时间也要进行分析并找出规律，以便在模拟实验中生成合理的制作时间。\n",
    "\n",
    "## 历史订单数据\n",
    "\n",
    "### 下单时间分析\n",
    "对于单行数据我们很难看出规律，既然数据是根据一小时统计的，那我们看看一小时有多少订单生成。"
   ]
  },
  {
   "cell_type": "code",
   "execution_count": 7,
   "metadata": {},
   "outputs": [
    {
     "data": {
      "text/plain": [
       "sample_group\n",
       "0    15\n",
       "1    16\n",
       "2    27\n",
       "3    22\n",
       "4    15\n",
       "Name: time, dtype: int64"
      ]
     },
     "execution_count": 7,
     "metadata": {},
     "output_type": "execute_result"
    }
   ],
   "source": [
    "# 每小时订单数量\n",
    "df_sales.groupby('sample_group').count()['time'].head()"
   ]
  },
  {
   "cell_type": "markdown",
   "metadata": {},
   "source": [
    "可以看到每小时的订单数量各不相同。接下来我们汇总下不同“每小时订单数量”的个数，并通过可视化呈现出来。"
   ]
  },
  {
   "cell_type": "code",
   "execution_count": 8,
   "metadata": {},
   "outputs": [
    {
     "data": {
      "image/png": "[encoded data removed]",
      "text/plain": [
       "<Figure size 432x288 with 1 Axes>"
      ]
     },
     "metadata": {},
     "output_type": "display_data"
    },
    {
     "name": "stdout",
     "output_type": "stream",
     "text": [
      "每小时订单数的平均值为20。\n"
     ]
    }
   ],
   "source": [
    "# 除以总小时数得到每种可能性的概率\n",
    "df_sales \\\n",
    "    .groupby('sample_group') \\\n",
    "    .count()['time'] \\\n",
    "    .value_counts(normalize = True)\\\n",
    "    .sort_index() \\\n",
    "    .plot(kind = 'bar',\n",
    "          figsize = (6,4),\n",
    "          title = '每小时订单数概率分布图')\n",
    "plt.show()\n",
    "# 每小时订单数平均值\n",
    "mu = df_sales.groupby('sample_group').count()['time'].mean().astype('int')\n",
    "print(f'每小时订单数的平均值为{mu}。')"
   ]
  },
  {
   "cell_type": "markdown",
   "metadata": {},
   "source": [
    "图的x轴是每小时订单数的可能值，y轴是每个值对应的概率，这些不同值对应概率的总和是1。可以看到每小时订单数在20的概率最高，这也与每小时订单数的平均值20相对应。\n",
    "\n",
    "这个分布称为泊松分布([Poisson Distribution](https://en.wikipedia.org/wiki/Poisson_distribution))。泊松分布是一种[离散型概率分布](https://zh.wikipedia.org/wiki/%E6%A6%82%E7%8E%87%E5%88%86%E5%B8%83#%E7%A6%BB%E6%95%A3%E5%88%86%E5%B8%83)，用来表示在一段时间内一个事件发生数量的概率分布，并且要求事件的平均值在这段时间中不改变，每个发生点之间独立无联系。比如一个公司一小时接听到电话的数量，有可能是1通电话，10通电话，或者是20通电话。他是一个不确定的随机事件，如果每小时接听到电话的平均数量是10，那我们就可以用平均数量构建一个泊松分布。"
   ]
  },
  {
   "cell_type": "code",
   "execution_count": 9,
   "metadata": {},
   "outputs": [
    {
     "data": {
      "image/png": "[encoded data removed]",
      "text/plain": [
       "<Figure size 576x432 with 1 Axes>"
      ]
     },
     "metadata": {},
     "output_type": "display_data"
    }
   ],
   "source": [
    "test_samples = poisson.rvs(10, size = 2000, random_state = 44)\n",
    "pd.Series(test_samples) \\\n",
    "    .value_counts(normalize = True) \\\n",
    "    .sort_index() \\\n",
    "    .plot(kind = 'bar',\n",
    "          figsize = (8,6),\n",
    "          title = f'每小时平均电话数为10的泊松分布图')\n",
    "plt.show()"
   ]
  },
  {
   "cell_type": "markdown",
   "metadata": {},
   "source": [
    "但使用泊松分布公式并不能生成我们希望的模拟数据，我们需要的数据是像df_sales中的time一样的订单时间数据，这样在模拟的时候才能知道在哪个时间点会有新订单生成。因此我们需要使用指数分布函数([exponential distribution](https://en.wikipedia.org/wiki/Exponential_distribution))生成泊松分布点的时间间隔。\n",
    "\n",
    "比如，起始时间是t0=0，第一个泊松分布点出现的时间是t1，第二个点是t2，第三个点是t3...以此类推，而t1-t0=x1为一个时间间隔，t2-t1=x2为第二个时间间隔...这一系列x为随机变量，我们可以使用指数分布函数生成随机时间间隔，从而构建符合泊松分布的事件。假设一个公司每小时接到的平均电话为10通，那我们就能这样生成随机电话事件："
   ]
  },
  {
   "cell_type": "code",
   "execution_count": 10,
   "metadata": {
    "scrolled": true
   },
   "outputs": [
    {
     "name": "stdout",
     "output_type": "stream",
     "text": [
      "模拟一小时，一共收到17通电话。分别在以下时间收到：\n",
      "169s,287s,486s,932s,1224s,1251s,1349s,1409s,1567s,1789s,2240s,2429s,2544s,3020s,3236s,3392s,3474s\n"
     ]
    }
   ],
   "source": [
    "avg_calls = 10   # 每小时平均电话数\n",
    "timespan = 3600  # 每个模拟时长3600秒\n",
    "start = 0        # 起始时间0秒\n",
    "lst_calls = []   # 记录电话打进时间\n",
    "for s in range(timespan):\n",
    "    # 生成随机时间间隔，random.expovariate 是random包中的指数函数。\n",
    "    time_interval = int(random.expovariate(avg_calls/timespan))\n",
    "    start += time_interval\n",
    "    # 限定时间是一小时\n",
    "    if start < timespan:\n",
    "        lst_calls.append(start)\n",
    "lst_calls = [str(s)+'s' for s in lst_calls]\n",
    "print(f'模拟一小时，一共收到{len(lst_calls)}通电话。分别在以下时间收到：')\n",
    "print(','.join(lst_calls))"
   ]
  },
  {
   "cell_type": "markdown",
   "metadata": {},
   "source": [
    "这样我们就能生成符合泊松分布的事件发生的时间点，希望了解更多关于泊松分布的知识可以阅读[这篇文章](https://towardsdatascience.com/the-poisson-process-everything-you-need-to-know-322aa0ab9e9a)，以及[这篇](https://towardsdatascience.com/the-poisson-distribution-and-poisson-process-explained-4e2cb17d459)。接下来要解决如何生成每个订单的奶茶杯数。\n",
    "\n",
    "### 订单奶茶杯数\n",
    "\n",
    "每个订单的奶茶杯数是一个整数，我们希望通过分析历史销量得出出如何合理地生成每个订单的杯数。先看下每个订单的平均杯数的可能性："
   ]
  },
  {
   "cell_type": "code",
   "execution_count": 11,
   "metadata": {},
   "outputs": [
    {
     "data": {
      "text/plain": [
       "1    28246\n",
       "2     8112\n",
       "3     1970\n",
       "4     1565\n",
       "5      264\n",
       "6      112\n",
       "Name: order_qty, dtype: int64"
      ]
     },
     "execution_count": 11,
     "metadata": {},
     "output_type": "execute_result"
    }
   ],
   "source": [
    "df_sales.order_qty.value_counts()"
   ]
  },
  {
   "cell_type": "markdown",
   "metadata": {},
   "source": [
    "在这个数据集中，绝大多数人买1杯到6杯，肯定也有人买超过6杯，但是在我们取样了这么多订单也没有出现大于6杯的样本，说明1到6杯已经基本包括了所有可能性，我们可以忽略超过6杯的极小情况。既然这样我们可以构建一个简单的概率模型来随机生成订单杯数。"
   ]
  },
  {
   "cell_type": "code",
   "execution_count": 12,
   "metadata": {},
   "outputs": [
    {
     "data": {
      "text/plain": [
       "1    0.701\n",
       "2    0.201\n",
       "3    0.049\n",
       "4    0.039\n",
       "5    0.007\n",
       "6    0.003\n",
       "Name: order_qty, dtype: float64"
      ]
     },
     "execution_count": 12,
     "metadata": {},
     "output_type": "execute_result"
    }
   ],
   "source": [
    "df_sales.order_qty.value_counts(normalize = True).round(3)"
   ]
  },
  {
   "cell_type": "markdown",
   "metadata": {},
   "source": [
    "这样便得到了所有杯数可能性的概率，这些概率的总和是1，所以只要生成一个0到1之间的随机数，这个随机数落在哪个概率区间就生成相应杯数。"
   ]
  },
  {
   "cell_type": "code",
   "execution_count": 13,
   "metadata": {},
   "outputs": [
    {
     "data": {
      "image/png": "[encoded data removed]",
      "text/plain": [
       "<Figure size 864x144 with 1 Axes>"
      ]
     },
     "metadata": {},
     "output_type": "display_data"
    }
   ],
   "source": [
    "df_sales \\\n",
    "    .order_qty \\\n",
    "    .value_counts(normalize = True) \\\n",
    "    .round(3) \\\n",
    "    .reset_index().T \\\n",
    "    .loc[['order_qty'], :] \\\n",
    "    .plot(kind = 'barh',\n",
    "          stacked=True,\n",
    "          figsize = (12, 2),\n",
    "          legend=False)\n",
    "plt.show()"
   ]
  },
  {
   "cell_type": "markdown",
   "metadata": {},
   "source": [
    "如上图所示，如果随机数落在红色区域杯数就是1，落在蓝色区域就是2,落在紫色区域就是3，以此类推，就能生成合理的随机杯数。\n",
    "\n",
    "## 员工做每杯奶茶的时间\n",
    "\n",
    "另一个需要模拟生成的是员工做每杯奶茶的时间。不同员工做奶茶的时间和做每杯奶茶的实时间都是不同的，因此为了更真实地模拟实际情况，做每杯奶茶的时间因基于一定的规则随机生成合理值。接下来我们就来找一下这个规则。"
   ]
  },
  {
   "cell_type": "code",
   "execution_count": 14,
   "metadata": {},
   "outputs": [
    {
     "name": "stdout",
     "output_type": "stream",
     "text": [
      "==========worker1==========\n",
      "count    996.000000\n",
      "mean     149.211847\n",
      "std       10.020797\n",
      "min      121.000000\n",
      "25%      142.000000\n",
      "50%      149.000000\n",
      "75%      156.000000\n",
      "max      179.000000\n",
      "Name: work1, dtype: float64\n",
      "==========worker2==========\n",
      "count    996.000000\n",
      "mean     238.692771\n",
      "std       19.100054\n",
      "min      185.000000\n",
      "25%      226.000000\n",
      "50%      239.000000\n",
      "75%      252.000000\n",
      "max      297.000000\n",
      "Name: work2, dtype: float64\n"
     ]
    }
   ],
   "source": [
    "print('='*10 + 'worker1' + '='*10)\n",
    "print(df_lead_time.work1.describe())\n",
    "print('='*10 + 'worker2' + '='*10)\n",
    "print(df_lead_time.work2.describe())"
   ]
  },
  {
   "cell_type": "markdown",
   "metadata": {},
   "source": [
    "可以看到员工1平均做一杯奶茶的时间短与员工2，并且员工1做每杯奶茶的时间比员工2稳定(员工1的标准差10小于员工2的标准差19)。我们再用图表看下员工1做奶茶时间的分布情况。"
   ]
  },
  {
   "cell_type": "code",
   "execution_count": 15,
   "metadata": {},
   "outputs": [
    {
     "data": {
      "image/png": "[encoded data removed]",
      "text/plain": [
       "<Figure size 576x432 with 1 Axes>"
      ]
     },
     "metadata": {},
     "output_type": "display_data"
    }
   ],
   "source": [
    "fig, ax = plt.subplots(figsize = (8,6))\n",
    "ax.hist(df_lead_time.work1, alpha=0.4, density = True)\n",
    "x = df_lead_time.work1.sort_values()\n",
    "y = norm.pdf(x,\n",
    "             df_lead_time.work1.mean(),\n",
    "             df_lead_time.work1.std())\n",
    "ax.plot(x, y,\n",
    "        'b-', lw = 3, alpha = .5, label='norm pdf')\n",
    "ax.legend()\n",
    "plt.title('员工1每杯奶茶制作时间分布图')\n",
    "plt.show()"
   ]
  },
  {
   "cell_type": "markdown",
   "metadata": {},
   "source": [
    "形状和订单的泊松分布很相似，但是不同的横坐标的时间是[**连续型随机变量**](https://zhuanlan.zhihu.com/p/38224194#:~:text=%E7%A6%BB%E6%95%A3%E5%9E%8B%E9%9A%8F%E6%9C%BA%E5%8F%98%E9%87%8F%EF%BC%9A%E9%9A%8F%E6%9C%BA,%E4%B8%80%E4%B8%AA%E8%BF%9E%E7%BB%AD%E5%9E%8B%E9%9A%8F%E6%9C%BA%E5%8F%98%E9%87%8F%E3%80%82)。抽取的996个样本根据[中心极限定理](https://zh.wikipedia.org/wiki/%E4%B8%AD%E5%BF%83%E6%9E%81%E9%99%90%E5%AE%9A%E7%90%86)符合[正态分布](https://zh.wikipedia.org/wiki/%E6%AD%A3%E6%80%81%E5%88%86%E5%B8%83)，关于通俗地理解中心极限定理可以阅读[这篇文章](https://zhuanlan.zhihu.com/p/25241653)。此外有些同学可能会觉得这个是抽样调查应该按照[t分布](https://zh.wikipedia.org/wiki/%E5%AD%A6%E7%94%9Ft-%E5%88%86%E5%B8%83)计算标准差，但由于这个例子中样本量大我们直接使用总体的标准差计算公式。\n",
    "\n",
    "知道了样本数据的平均值和标准差后，我们就可以使用scipy中norm.rvs()生成模拟数据。"
   ]
  },
  {
   "cell_type": "markdown",
   "metadata": {},
   "source": [
    "# 构建模型\n",
    "\n",
    "这里的模型构建指的是根据买奶茶的流程，和分析得到的数据模拟方法来构建整个模拟实验。\n",
    "\n",
    "模型主要分为以下几步：\n",
    "\n",
    "1. 新订单生成\n",
    "2. 加入等待队列\n",
    "3. 员工制作奶茶\n",
    "5. 制作完成，计算等待时间\n",
    "6. 多次模拟实验\n",
    "\n",
    "再构建模拟实验前，我们先创建订单的类和员工的类。"
   ]
  },
  {
   "cell_type": "code",
   "execution_count": 16,
   "metadata": {},
   "outputs": [],
   "source": [
    "# 订单类\n",
    "class Order:\n",
    "    \n",
    "    def __init__(self, order_time, order_qty):\n",
    "        \"\"\"\n",
    "        创建实例对象生成订单时间和订单杯数。\n",
    "        Params:\n",
    "            order_time: int\n",
    "            订单生成的时间。\n",
    "            order_qty: int\n",
    "            订单杯数。\n",
    "        Return:\n",
    "            None.\n",
    "        \"\"\"\n",
    "        self.qty = order_qty\n",
    "        self.order_time = order_time\n",
    "    \n",
    "    def waiting_time(self, current_time):\n",
    "        \"\"\"\n",
    "        根据当期时间计算订单等待时间。\n",
    "        Params:\n",
    "            current_time: int\n",
    "            当前时间。\n",
    "        Return:\n",
    "            current_time - self.order_time: int\n",
    "            等待时间。\n",
    "        \"\"\"\n",
    "        return current_time - self.order_time\n",
    "    \n"
   ]
  },
  {
   "cell_type": "code",
   "execution_count": 17,
   "metadata": {},
   "outputs": [],
   "source": [
    "# 员工类\n",
    "class Worker:\n",
    "    \n",
    "    def __init__(self, avg_making_time, std_making_time):\n",
    "        \"\"\"\n",
    "        创建员工实例对象。\n",
    "        Params:\n",
    "            avg_making_time: float\n",
    "            每杯奶茶平均制作时间。\n",
    "            std_making_time: float\n",
    "            每杯奶茶制作时间标准差。\n",
    "        Return:\n",
    "            None.\n",
    "        \"\"\"\n",
    "        self.avg = avg_making_time\n",
    "        self.std = std_making_time\n",
    "        self.current_order = None\n",
    "        self.time_remaining = 0\n",
    "    \n",
    "    def start_new(self, new_order):\n",
    "        \"\"\"\n",
    "        开始制作新的订单。根据第五点前提和假设，\n",
    "        员工接到订单后完成整个订单，比如一个订单需要做3杯奶茶，\n",
    "        则由一个员工完成所有奶茶。\n",
    "        Params:\n",
    "            new_order: Order object\n",
    "            Order对象。\n",
    "        Return:\n",
    "            self.time_remaining: int\n",
    "            new_order中所有奶茶制作时间的总和。\n",
    "        \"\"\"\n",
    "        self.current_order = new_order\n",
    "        self.time_remaining = 0\n",
    "        for cup in range(self.current_order.qty):\n",
    "            self.time_remaining += Worker.make_time(self.avg, self.std)\n",
    "        return self.time_remaining\n",
    "\n",
    "    def making(self):\n",
    "        \"\"\"\n",
    "        开始制作新的订单。\n",
    "        Params:\n",
    "            new_order: Order object\n",
    "            Order对象。\n",
    "        Return:\n",
    "            self.time_remaining: int\n",
    "            new_order中所有奶茶制作时间的总和。\n",
    "        \"\"\"\n",
    "        if self.current_order:\n",
    "            self.time_remaining -= 1\n",
    "            if self.time_remaining <= 0:\n",
    "                self.current_order = None\n",
    "            \n",
    "    def is_busy(self):\n",
    "        \"\"\"\n",
    "        判断员工是否正在做奶茶。\n",
    "        Params:\n",
    "            None\n",
    "        Return:\n",
    "            boolean\n",
    "            正在做奶茶返回True，反之则返回False.\n",
    "        \"\"\"\n",
    "        return self.current_order is not None\n",
    "            \n",
    "    @staticmethod\n",
    "    def make_time(avg, std):\n",
    "        \"\"\"\n",
    "        静态方法，根据员工制作每杯奶茶的平均时间和标准差，利用\n",
    "        正态分布函数生成随机制作时间。如果制作直接小于或者大于\n",
    "        3个标准差则取3个标准差为其制作时间。\n",
    "        Params:\n",
    "            avg: float\n",
    "            std: float\n",
    "        Return:\n",
    "            time: int\n",
    "            一杯奶茶制作时间。\n",
    "        \"\"\"\n",
    "        time = norm.rvs(avg, std)\n",
    "        time = (lambda x: int((avg - 3*std)) \\\n",
    "                          if time < (avg - 3*std) \\\n",
    "                          else int(time) \\\n",
    "                               if time < (avg + 3*std) \\\n",
    "                               else int((avg + 3*std)))(time)\n",
    "        return time\n"
   ]
  },
  {
   "cell_type": "markdown",
   "metadata": {},
   "source": [
    "定义完类之后，我们开始创建模拟实验。"
   ]
  },
  {
   "cell_type": "code",
   "execution_count": 18,
   "metadata": {},
   "outputs": [],
   "source": [
    "# 根据我们之前分析销售记录得到的不同杯数的概率，产生随机每个订单的随机杯数。\n",
    "def order_qty(order_percentage):\n",
    "    \"\"\"\n",
    "    根据不同杯数的概率生成随机杯数。\n",
    "    Params:\n",
    "        order_percentage: list\n",
    "        不同杯数的概率。\n",
    "    Return:\n",
    "        qty: int\n",
    "        订单杯数。\n",
    "    \"\"\"\n",
    "    u = random.random()\n",
    "    qty = 0\n",
    "    p = 0\n",
    "    for i in range(len(order_percentage)):\n",
    "        p += order_percentage[i]\n",
    "        qty += 1\n",
    "        if u < p:\n",
    "            return qty\n",
    "\n",
    "# 与真实情况不同，模拟实验在开始实验就先生成了一段时间内的随机事件点\n",
    "def create_orders(avg_order, total_seconds=3600):\n",
    "    \"\"\"\n",
    "    生成一段时间内的随机事件点。生成事件符合泊松分布。\n",
    "    Params:\n",
    "        avg_order: int\n",
    "        泊松分布的平均值。\n",
    "        total_seconds: int\n",
    "        选取的事件发生时间长度。默认3600秒。\n",
    "    Return:\n",
    "        lst_order_time: lst\n",
    "        一系列随机事件的发生时间。\n",
    "    \"\"\"\n",
    "    lst_order_time = []\n",
    "    arriving_time = 0\n",
    "    for s in range(total_seconds):\n",
    "        interval = int(random.expovariate(avg_order/total_seconds))\n",
    "        arriving_time += interval\n",
    "        if arriving_time < total_seconds:\n",
    "            lst_order_time.append(arriving_time)\n",
    "        else:\n",
    "            break\n",
    "    return lst_order_time\n",
    "\n",
    "# 模拟实验\n",
    "def simulation(num_seconds = 3600):\n",
    "    # 创建等待队列\n",
    "    queue = deque()\n",
    "    # 创建列表保存模拟实验等待时间\n",
    "    lst_waiting = []\n",
    "    # 创建员工1\n",
    "    w1 = Worker(df_lead_time.work1.mean(), df_lead_time.work1.std())\n",
    "    # 创建员工2\n",
    "    w2 = Worker(df_lead_time.work2.mean(), df_lead_time.work2.std())\n",
    "    # 计算不同杯数的概率\n",
    "    lst_p = df_sales.order_qty.value_counts(normalize=True).round(3).to_list()\n",
    "    # 生成一小时内生成的随机事件。\n",
    "    set_new_orders = set(create_orders(mu))\n",
    "    \n",
    "    # 从0秒循环到3600秒\n",
    "    for s in range(num_seconds):\n",
    "        # 如果当前时间(s秒)发生随机时间，则创建新订单并排入等待队列\n",
    "        if s in set_new_orders:\n",
    "            o = Order(s, order_qty(lst_p))\n",
    "            queue.appendleft(o)\n",
    "        # 如果员工1空闲并且等待队列中有订单，则员工1开始制作该订单。\n",
    "        if (not w1.is_busy()) & (len(queue)>0):\n",
    "            new_order = queue.pop()\n",
    "            # 返回订单在等待队列的等待时间。\n",
    "            waiting_t = new_order.waiting_time(s)\n",
    "            # 员工接单，返回整单制作时间。\n",
    "            # 这里模拟实验与实际情况不同，因为在模拟中员工一接订单就生成了制作时长。\n",
    "            making_t = w1.start_new(new_order)\n",
    "            # 总等待时间等于 = 等待时间 + 制作时间, 换算成分钟方便与顾客预期对比。\n",
    "            lst_waiting.append(round((waiting_t + making_t)/60 , 2))\n",
    "        # 员工2情况与员工1相同。\n",
    "        if (not w2.is_busy()) & (len(queue)>0):\n",
    "            new_order = queue.pop()\n",
    "            waiting_t = new_order.waiting_time(s)\n",
    "            making_t = w2.start_new(new_order)\n",
    "            lst_waiting.append(round((waiting_t + making_t)/60 , 2))\n",
    "            \n",
    "\n",
    "        w1.making()  #员工1制作奶茶\n",
    "        w2.making()  #员工2制作奶茶\n",
    "    \n",
    "    return lst_waiting\n",
    "\n",
    "# 进行5000个小时模拟实验。\n",
    "num_sim = 5000\n",
    "# 保存所有订单等待时间。\n",
    "lst_w = []\n",
    "for i in range(num_sim):\n",
    "    lst_w += simulation()"
   ]
  },
  {
   "cell_type": "markdown",
   "metadata": {},
   "source": [
    "我们来分析下实验结果，看看小文是否需要再雇人。"
   ]
  },
  {
   "cell_type": "code",
   "execution_count": 19,
   "metadata": {},
   "outputs": [
    {
     "data": {
      "image/png": "[encoded data removed]",
      "text/plain": [
       "<Figure size 576x432 with 1 Axes>"
      ]
     },
     "metadata": {},
     "output_type": "display_data"
    },
    {
     "name": "stdout",
     "output_type": "stream",
     "text": [
      "进行5000次模拟实验后的平均等待时间为6.35分钟。\n",
      "百分之95的顾客等待时间少于15.3分钟。\n"
     ]
    }
   ],
   "source": [
    "lst_w.sort()\n",
    "plt.figure(figsize=(8,6))\n",
    "plt.hist(lst_w,\n",
    "         alpha=.6,\n",
    "         density = True,\n",
    "         bins=[0, 5, 10, 15, 20, 25, 30])\n",
    "\n",
    "# 落在95%的订单等待时间\n",
    "waiting_95p = lst_w[round(len(lst_w)*0.95)]\n",
    "\n",
    "plt.axvline(waiting_95p,\n",
    "            color='k',\n",
    "            linestyle='dashed',\n",
    "            linewidth=3,\n",
    "            alpha = .6,\n",
    "            label = '95%等待时间线')\n",
    "plt.title('顾客等待时间分布图')\n",
    "plt.legend()\n",
    "plt.show()\n",
    "\n",
    "print(f'进行{num_sim}次模拟实验后的平均等待时间为{round(np.mean(lst_w), 2)}分钟。')\n",
    "print(f'百分之95的顾客等待时间少于{waiting_95p}分钟。')"
   ]
  },
  {
   "cell_type": "markdown",
   "metadata": {},
   "source": [
    "从上图看到，实验的平均等待时间只有6.35分钟，百分之95的顾客等待时间少于15.3分钟，稍稍大于顾客预期15分钟，但已与95%顾客的预期接近。相信小文的选择肯定是不再多付一个人的工资成本去提高不到5%的顾客满意度了。"
   ]
  },
  {
   "cell_type": "markdown",
   "metadata": {},
   "source": [
    "# 总结\n",
    "\n",
    "通过本文例子我们学到：\n",
    "\n",
    "* 数据分析解决实际问题的思考方法和步骤，根据需求和实际情况选择工具，和获取数据。\n",
    "* 如何在数据分析中利用统计学知识：1)随机抽样获取样本。2)使用泊松分布和简单概率分布模拟订单信息。3)利用正态分布模拟每杯奶茶的制作时间。\n",
    "* 使用Python构建模拟实验为决策提供指导。\n",
    "\n",
    "感谢您的阅读，您的喜欢和点赞是我分享的动力。有兴趣的同学可以点击这里获取文章Jupyter Notebook。"
   ]
  },
  {
   "cell_type": "code",
   "execution_count": 20,
   "metadata": {},
   "outputs": [],
   "source": [
    "# # 生成测试数据\n",
    "# from scipy.stats import poisson, norm\n",
    "# import pandas as pd\n",
    "# import numpy as np\n",
    "# import random\n",
    "# import datetime\n",
    "\n",
    "\n",
    "# def order_qty(order_percentage):\n",
    "#     \"\"\"\n",
    "#     Generate order quantity.\n",
    "#     Params:\n",
    "#        The percentage corresponding to each order quantity.\n",
    "#     Return:\n",
    "#         qty: int\n",
    "#         Order quantity generated.\n",
    "#     \"\"\"\n",
    "#     u = np.random.uniform(0,1)\n",
    "#     qty = 0\n",
    "#     p = 0\n",
    "#     for i in range(len(order_percentage)):\n",
    "#         p += order_percentage[i]\n",
    "#         qty += 1\n",
    "#         if u < p:\n",
    "#             return qty\n",
    "\n",
    "# # Generate order time.\n",
    "# num_records = 2000\n",
    "# mu = 20\n",
    "# sample_len =3600\n",
    "# lst_p = [0.7, 0.2, 0.05, 0.04, 0.007, 0.003]\n",
    "\n",
    "# # List to store all order times.\n",
    "# lst_group_num = []\n",
    "# lst_order_times = []\n",
    "# lst_order_qty = []\n",
    "# # Open hour of a day.\n",
    "# lst_hours = range(12, 20)\n",
    "# for n in range(num_records):\n",
    "#     start_hour = datetime.datetime.strptime(str(lst_hours[n % len(lst_hours)]), '%H')\n",
    "#     arriving_time = 0\n",
    "#     for t in range(sample_len):\n",
    "#         interval = int(random.expovariate(mu/sample_len))\n",
    "#         arriving_time = arriving_time + interval\n",
    "#         if arriving_time < sample_len:\n",
    "#             lst_group_num.append(n)\n",
    "#             lst_order_times.append((start_hour + datetime.timedelta(seconds=arriving_time)).time())\n",
    "#             lst_order_qty.append(order_qty(lst_p))\n",
    "#         else:\n",
    "#             break\n",
    "\n",
    "# # Create a dataframe to store the order time.\n",
    "# df_orders = pd.DataFrame({'sample_group': lst_group_num, \n",
    "#                           'time': lst_order_times,\n",
    "#                           'order_qty': lst_order_qty})\n",
    "\n",
    "# df_orders.to_csv('sales_sample.csv', index = False)\n",
    "\n",
    "# # Generate making time for each worker\n",
    "# num_obs = 1000\n",
    "# mu1 = 150\n",
    "# std1 = 10\n",
    "# mu2 = 240\n",
    "# std2 = 20\n",
    "# w1_n = norm.rvs(mu1, std1, num_obs).astype('int')\n",
    "# w2_n = norm.rvs(mu2, std2, num_obs).astype('int')\n",
    "# df_making = pd.DataFrame({'work1': w1_n,\n",
    "#                           'work2': w2_n})\n",
    "# # Only keep data within 6 std\n",
    "# cond1 = (df_making['work1']>(mu1-3*std1)) & (df_making['work1']<(mu1+3*std1))\n",
    "# cond2 = (df_making['work2']>(mu2-3*std2)) & (df_making['work2']<(mu2+3*std2))\n",
    "\n",
    "# df_making = df_making[cond1 & cond2].reset_index(drop = True)\n",
    "# df_making.to_csv('lead_time.csv', index = False)"
   ]
  }
 ],
 "metadata": {
  "kernelspec": {
   "display_name": "Python 3",
   "language": "python",
   "name": "python3"
  },
  "language_info": {
   "codemirror_mode": {
    "name": "ipython",
    "version": 3
   },
   "file_extension": ".py",
   "mimetype": "text/x-python",
   "name": "python",
   "nbconvert_exporter": "python",
   "pygments_lexer": "ipython3",
   "version": "3.8.5"
  },
  "toc": {
   "base_numbering": 1,
   "nav_menu": {},
   "number_sections": true,
   "sideBar": true,
   "skip_h1_title": false,
   "title_cell": "Table of Contents",
   "title_sidebar": "Contents",
   "toc_cell": false,
   "toc_position": {},
   "toc_section_display": true,
   "toc_window_display": false
  }
 },
 "nbformat": 4,
 "nbformat_minor": 4
}
