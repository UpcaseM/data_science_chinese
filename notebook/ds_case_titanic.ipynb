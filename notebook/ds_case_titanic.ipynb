{
 "cells": [
  {
   "cell_type": "markdown",
   "metadata": {},
   "source": [
    "我在一开始学习数据科学中[机器学习(Machine Learning)](https://zh.wikipedia.org/wiki/%E6%9C%BA%E5%99%A8%E5%AD%A6%E4%B9%A0)的时候重点都放在理解每个模型上，但是真的到用机器学习去解决问题的时候发现自己完全没有思路。所以今天的主要目的是**用一个简单的例子和大家分享下使用Python的三方包sklean解决机器学习的思路。**\n",
    "\n",
    "文中使用了Kaggle上著名的[Titanic数据集](https://www.kaggle.com/c/titanic)，主要利用了Python三方包pandas，sklearn，和matloplib对数据集进行了数据分析，可视化和建立分类模型(Classification model)预测乘客是否存活。主要的步骤为：\n",
    "\n",
    "1. 提出、理解问题\n",
    "2. 导入、理解数据\n",
    "3. 数据清洗\n",
    "4. 数据分析与可视化\n",
    "5. 特征工程\n",
    "6. 建模预测\n",
    "    * 选择评估指标\n",
    "    * 数据预处理\n",
    "    * 数据降维\n",
    "    * 调参与模型评估\n",
    "7. 方案实施\n",
    "8. 总结"
   ]
  },
  {
   "cell_type": "markdown",
   "metadata": {},
   "source": [
    "# 提出、理解问题\n",
    "\n",
    "数据集分为2个文件：train.csv和test.csv。\n",
    "\n",
    "train.csv可称做样本数据([in-sample data](https://stats.stackexchange.com/questions/260899/what-is-difference-between-in-sample-and-out-of-sample-forecasts))或训练数据，在训练数据中的Survived是目标变量(target variable，即模型的输出变量)，其他变量可以称为特征变量(feature，即模型的输入变量)。训练数据用来分析，并训练一个分类模型([Classification Model](https://towardsdatascience.com/machine-learning-classifiers-a5cc4e1b0623))。使用分类模型是因为目标变量是类别数据(Categorical Data)，即存活和死亡。\n",
    "\n",
    "test.csv可以称作样本外数据(out-of-sample data)或测试数据，测试数据中只有特征变量而没有目标变量。在本例中用我们训练的模型来预测结果，并上传到kaggle评估模型的表现。\n",
    "\n",
    "\n",
    "![数据集信息](img/titanic_dataset_descri.png)\n",
    "\n",
    "这个项目主要有2个目的：\n",
    "\n",
    "* 数据分析与可视化：利用数据展现信息，和讲述数据背后的故事。\n",
    "* 建立分类模型预测是否存活：使用sklearn进行数据预处理、特征选择、模型训练和评估后，选择最优模型对测试数据进行预测，并上传到kaggle查看模型表现。"
   ]
  },
  {
   "cell_type": "markdown",
   "metadata": {},
   "source": [
    "# 导入、理解数据"
   ]
  },
  {
   "cell_type": "code",
   "execution_count": 1,
   "metadata": {},
   "outputs": [],
   "source": [
    "# 导入数据包，一般习惯在分析开头导入所有数据包。\n",
    "# 数据处理与可视化\n",
    "import re\n",
    "import pandas as pd\n",
    "import numpy as np\n",
    "import matplotlib.pylab as plt\n",
    "from pylab import mpl\n",
    "import seaborn as sns\n",
    "sns.set_theme(style='darkgrid') # 设置风格使图标更美观\n",
    "mpl.rcParams['font.sans-serif'] = ['SimHei'] # 指定字体雅黑，使图标可以显示中文\n",
    "mpl.rcParams['axes.unicode_minus'] = False # 解决保存图像是负号'-'显示为方块的问题\n",
    "\n",
    "# 建模\n",
    "from sklearn import set_config\n",
    "set_config(display = 'diagram')\n",
    "from sklearn import metrics\n",
    "from sklearn.pipeline import Pipeline\n",
    "from sklearn.compose import make_column_transformer\n",
    "from sklearn.preprocessing import StandardScaler, OneHotEncoder\n",
    "from sklearn.feature_selection import SelectFromModel\n",
    "from sklearn.model_selection import GridSearchCV, StratifiedKFold\n",
    "\n",
    "from sklearn.tree import DecisionTreeClassifier\n",
    "from sklearn.linear_model import LogisticRegression\n",
    "from sklearn.neighbors import KNeighborsClassifier\n",
    "from sklearn.ensemble import RandomForestClassifier"
   ]
  },
  {
   "cell_type": "code",
   "execution_count": 2,
   "metadata": {},
   "outputs": [],
   "source": [
    "# 导入数据\n",
    "# 文件路经\n",
    "path = r'/mnt/data-ubuntu/Projects/data_science_chinese'\n",
    "train = pd.read_csv(path + r'/input/titanic/train.csv')\n",
    "test = pd.read_csv(path + r'/input/titanic/test.csv')"
   ]
  },
  {
   "cell_type": "code",
   "execution_count": 3,
   "metadata": {},
   "outputs": [
    {
     "data": {
      "text/html": [
       "<div>\n",
       "<style scoped>\n",
       "    .dataframe tbody tr th:only-of-type {\n",
       "        vertical-align: middle;\n",
       "    }\n",
       "\n",
       "    .dataframe tbody tr th {\n",
       "        vertical-align: top;\n",
       "    }\n",
       "\n",
       "    .dataframe thead th {\n",
       "        text-align: right;\n",
       "    }\n",
       "</style>\n",
       "<table border=\"1\" class=\"dataframe\">\n",
       "  <thead>\n",
       "    <tr style=\"text-align: right;\">\n",
       "      <th></th>\n",
       "      <th>PassengerId</th>\n",
       "      <th>Survived</th>\n",
       "      <th>Pclass</th>\n",
       "      <th>Name</th>\n",
       "      <th>Sex</th>\n",
       "      <th>Age</th>\n",
       "      <th>SibSp</th>\n",
       "      <th>Parch</th>\n",
       "      <th>Ticket</th>\n",
       "      <th>Fare</th>\n",
       "      <th>Cabin</th>\n",
       "      <th>Embarked</th>\n",
       "    </tr>\n",
       "  </thead>\n",
       "  <tbody>\n",
       "    <tr>\n",
       "      <th>0</th>\n",
       "      <td>1</td>\n",
       "      <td>0</td>\n",
       "      <td>3</td>\n",
       "      <td>Braund, Mr. Owen Harris</td>\n",
       "      <td>male</td>\n",
       "      <td>22.0</td>\n",
       "      <td>1</td>\n",
       "      <td>0</td>\n",
       "      <td>A/5 21171</td>\n",
       "      <td>7.2500</td>\n",
       "      <td>NaN</td>\n",
       "      <td>S</td>\n",
       "    </tr>\n",
       "    <tr>\n",
       "      <th>1</th>\n",
       "      <td>2</td>\n",
       "      <td>1</td>\n",
       "      <td>1</td>\n",
       "      <td>Cumings, Mrs. John Bradley (Florence Briggs Th...</td>\n",
       "      <td>female</td>\n",
       "      <td>38.0</td>\n",
       "      <td>1</td>\n",
       "      <td>0</td>\n",
       "      <td>PC 17599</td>\n",
       "      <td>71.2833</td>\n",
       "      <td>C85</td>\n",
       "      <td>C</td>\n",
       "    </tr>\n",
       "  </tbody>\n",
       "</table>\n",
       "</div>"
      ],
      "text/plain": [
       "   PassengerId  Survived  Pclass  \\\n",
       "0            1         0       3   \n",
       "1            2         1       1   \n",
       "\n",
       "                                                Name     Sex   Age  SibSp  \\\n",
       "0                            Braund, Mr. Owen Harris    male  22.0      1   \n",
       "1  Cumings, Mrs. John Bradley (Florence Briggs Th...  female  38.0      1   \n",
       "\n",
       "   Parch     Ticket     Fare Cabin Embarked  \n",
       "0      0  A/5 21171   7.2500   NaN        S  \n",
       "1      0   PC 17599  71.2833   C85        C  "
      ]
     },
     "execution_count": 3,
     "metadata": {},
     "output_type": "execute_result"
    }
   ],
   "source": [
    "# 查看数据前两行\n",
    "train.head(2)"
   ]
  },
  {
   "cell_type": "code",
   "execution_count": 4,
   "metadata": {},
   "outputs": [
    {
     "data": {
      "text/html": [
       "<div>\n",
       "<style scoped>\n",
       "    .dataframe tbody tr th:only-of-type {\n",
       "        vertical-align: middle;\n",
       "    }\n",
       "\n",
       "    .dataframe tbody tr th {\n",
       "        vertical-align: top;\n",
       "    }\n",
       "\n",
       "    .dataframe thead th {\n",
       "        text-align: right;\n",
       "    }\n",
       "</style>\n",
       "<table border=\"1\" class=\"dataframe\">\n",
       "  <thead>\n",
       "    <tr style=\"text-align: right;\">\n",
       "      <th></th>\n",
       "      <th>PassengerId</th>\n",
       "      <th>Pclass</th>\n",
       "      <th>Name</th>\n",
       "      <th>Sex</th>\n",
       "      <th>Age</th>\n",
       "      <th>SibSp</th>\n",
       "      <th>Parch</th>\n",
       "      <th>Ticket</th>\n",
       "      <th>Fare</th>\n",
       "      <th>Cabin</th>\n",
       "      <th>Embarked</th>\n",
       "    </tr>\n",
       "  </thead>\n",
       "  <tbody>\n",
       "    <tr>\n",
       "      <th>0</th>\n",
       "      <td>892</td>\n",
       "      <td>3</td>\n",
       "      <td>Kelly, Mr. James</td>\n",
       "      <td>male</td>\n",
       "      <td>34.5</td>\n",
       "      <td>0</td>\n",
       "      <td>0</td>\n",
       "      <td>330911</td>\n",
       "      <td>7.8292</td>\n",
       "      <td>NaN</td>\n",
       "      <td>Q</td>\n",
       "    </tr>\n",
       "    <tr>\n",
       "      <th>1</th>\n",
       "      <td>893</td>\n",
       "      <td>3</td>\n",
       "      <td>Wilkes, Mrs. James (Ellen Needs)</td>\n",
       "      <td>female</td>\n",
       "      <td>47.0</td>\n",
       "      <td>1</td>\n",
       "      <td>0</td>\n",
       "      <td>363272</td>\n",
       "      <td>7.0000</td>\n",
       "      <td>NaN</td>\n",
       "      <td>S</td>\n",
       "    </tr>\n",
       "  </tbody>\n",
       "</table>\n",
       "</div>"
      ],
      "text/plain": [
       "   PassengerId  Pclass                              Name     Sex   Age  SibSp  \\\n",
       "0          892       3                  Kelly, Mr. James    male  34.5      0   \n",
       "1          893       3  Wilkes, Mrs. James (Ellen Needs)  female  47.0      1   \n",
       "\n",
       "   Parch  Ticket    Fare Cabin Embarked  \n",
       "0      0  330911  7.8292   NaN        Q  \n",
       "1      0  363272  7.0000   NaN        S  "
      ]
     },
     "execution_count": 4,
     "metadata": {},
     "output_type": "execute_result"
    }
   ],
   "source": [
    "# 查看test前两行\n",
    "test.head(2)"
   ]
  },
  {
   "cell_type": "code",
   "execution_count": 5,
   "metadata": {
    "scrolled": false
   },
   "outputs": [
    {
     "name": "stdout",
     "output_type": "stream",
     "text": [
      "train的数据大小：(891, 12)\n",
      "<class 'pandas.core.frame.DataFrame'>\n",
      "RangeIndex: 891 entries, 0 to 890\n",
      "Data columns (total 12 columns):\n",
      " #   Column       Non-Null Count  Dtype  \n",
      "---  ------       --------------  -----  \n",
      " 0   PassengerId  891 non-null    int64  \n",
      " 1   Survived     891 non-null    int64  \n",
      " 2   Pclass       891 non-null    int64  \n",
      " 3   Name         891 non-null    object \n",
      " 4   Sex          891 non-null    object \n",
      " 5   Age          714 non-null    float64\n",
      " 6   SibSp        891 non-null    int64  \n",
      " 7   Parch        891 non-null    int64  \n",
      " 8   Ticket       891 non-null    object \n",
      " 9   Fare         891 non-null    float64\n",
      " 10  Cabin        204 non-null    object \n",
      " 11  Embarked     889 non-null    object \n",
      "dtypes: float64(2), int64(5), object(5)\n",
      "memory usage: 83.7+ KB\n",
      "None\n",
      "========================================\n",
      "test的数据大小：(418, 11)\n",
      "<class 'pandas.core.frame.DataFrame'>\n",
      "RangeIndex: 418 entries, 0 to 417\n",
      "Data columns (total 11 columns):\n",
      " #   Column       Non-Null Count  Dtype  \n",
      "---  ------       --------------  -----  \n",
      " 0   PassengerId  418 non-null    int64  \n",
      " 1   Pclass       418 non-null    int64  \n",
      " 2   Name         418 non-null    object \n",
      " 3   Sex          418 non-null    object \n",
      " 4   Age          332 non-null    float64\n",
      " 5   SibSp        418 non-null    int64  \n",
      " 6   Parch        418 non-null    int64  \n",
      " 7   Ticket       418 non-null    object \n",
      " 8   Fare         417 non-null    float64\n",
      " 9   Cabin        91 non-null     object \n",
      " 10  Embarked     418 non-null    object \n",
      "dtypes: float64(2), int64(4), object(5)\n",
      "memory usage: 36.0+ KB\n",
      "None\n"
     ]
    }
   ],
   "source": [
    "# 查看2个数据集基本信息。\n",
    "print(f'train的数据大小：{train.shape}')\n",
    "print(train.info())\n",
    "print('='*40)\n",
    "print(f'test的数据大小：{test.shape}')\n",
    "print(test.info())"
   ]
  },
  {
   "cell_type": "markdown",
   "metadata": {},
   "source": [
    "与train不同的是，test没有Survived这一列，因为这一列需要我们通过模型预测出每一行对应的Survived值。\n",
    "\n",
    "我们接下来看下2个数据集中的缺失值。"
   ]
  },
  {
   "cell_type": "code",
   "execution_count": 6,
   "metadata": {},
   "outputs": [
    {
     "name": "stdout",
     "output_type": "stream",
     "text": [
      "Age         177\n",
      "Cabin       687\n",
      "Embarked      2\n",
      "dtype: int64\n"
     ]
    }
   ],
   "source": [
    "# 检查train中缺失值\n",
    "s_temp = train.isnull().sum()\n",
    "print(s_temp[s_temp>0])"
   ]
  },
  {
   "cell_type": "code",
   "execution_count": 7,
   "metadata": {},
   "outputs": [
    {
     "name": "stdout",
     "output_type": "stream",
     "text": [
      "Age       86\n",
      "Fare       1\n",
      "Cabin    327\n",
      "dtype: int64\n"
     ]
    }
   ],
   "source": [
    "# 检查test中缺失值\n",
    "s_temp = test.isnull().sum()\n",
    "print(s_temp[s_temp>0])"
   ]
  },
  {
   "cell_type": "code",
   "execution_count": 8,
   "metadata": {
    "scrolled": true
   },
   "outputs": [
    {
     "data": {
      "text/plain": [
       "Survived\n",
       "0    549\n",
       "1    342\n",
       "Name: PassengerId, dtype: int64"
      ]
     },
     "execution_count": 8,
     "metadata": {},
     "output_type": "execute_result"
    }
   ],
   "source": [
    "# 查看train中目标变量的分布\n",
    "train.groupby('Survived')['PassengerId'].nunique()"
   ]
  },
  {
   "cell_type": "markdown",
   "metadata": {},
   "source": [
    "初步地了解数据后，我们得到以下信息：\n",
    "\n",
    "* train有891行，而test有418行。数据量较小，在模型选择时需要选择在数据量小时训练结果较好的模型。\n",
    "* 需要改变数据类型，Pclass, Sex, Cabin, Embarked应改为类属特征(categorical feature)。\n",
    "* 在train和test中Age和Cabin都存在大量缺失值，此外在train中Embarked有2个缺失值，而test中Fare有1个缺失值，我们在数据清理阶段需要处理这些缺失值。\n",
    "* Name包含较多信息，考虑是否可以用来生成更多信息。"
   ]
  },
  {
   "cell_type": "markdown",
   "metadata": {},
   "source": [
    "# 数据清洗\n",
    "\n",
    "根据对数据集的简单理解，数据清洗分为以下几步：\n",
    "\n",
    "* 缺失值处理\n",
    "* 数据类型转换\n",
    "* 异常值处理"
   ]
  },
  {
   "cell_type": "markdown",
   "metadata": {},
   "source": [
    "## 缺失值处理\n",
    "\n",
    "要处理缺失值的原因是，缺失值会使计算、可视化、或有些模型的应用发生错误。\n",
    "处理缺失值有多种方法：一般常用方法分为2类1.直接删除缺失行或列。2.补全缺失值([Imputation](https://en.wikipedia.org/wiki/Imputation_(statistics)#:~:text=In%20statistics%2C%20imputation%20is%20the,known%20as%20%22item%20imputation%22.))。\n",
    "\n",
    "由于这个数据集数量小，我们要通过对数据的分析尽可能地补全数据。首先，为了方便后面数据处理，我们先合并train和test。"
   ]
  },
  {
   "cell_type": "code",
   "execution_count": 9,
   "metadata": {},
   "outputs": [],
   "source": [
    "# 合并train和test方便数据处理\n",
    "df_data = pd.concat([train, test])\n",
    "# 抛弃index的列PassengerId\n",
    "df_data.drop('PassengerId', axis = 1, inplace = True)"
   ]
  },
  {
   "cell_type": "code",
   "execution_count": 10,
   "metadata": {
    "scrolled": false
   },
   "outputs": [
    {
     "name": "stdout",
     "output_type": "stream",
     "text": [
      "Survived     418\n",
      "Age          263\n",
      "Fare           1\n",
      "Cabin       1014\n",
      "Embarked       2\n",
      "dtype: int64\n"
     ]
    }
   ],
   "source": [
    "# 合并后缺失值汇总\n",
    "s_temp = df_data.isnull().sum()\n",
    "print(s_temp[s_temp>0])"
   ]
  },
  {
   "cell_type": "markdown",
   "metadata": {},
   "source": [
    "test中没有Survived列，所以合并后有418个缺失值。Fare和Embarked缺失值较少，而Age和Cabin的缺失值较多。"
   ]
  },
  {
   "cell_type": "markdown",
   "metadata": {},
   "source": [
    "**补全Embarked**"
   ]
  },
  {
   "cell_type": "code",
   "execution_count": 11,
   "metadata": {
    "scrolled": false
   },
   "outputs": [
    {
     "data": {
      "text/html": [
       "<div>\n",
       "<style scoped>\n",
       "    .dataframe tbody tr th:only-of-type {\n",
       "        vertical-align: middle;\n",
       "    }\n",
       "\n",
       "    .dataframe tbody tr th {\n",
       "        vertical-align: top;\n",
       "    }\n",
       "\n",
       "    .dataframe thead th {\n",
       "        text-align: right;\n",
       "    }\n",
       "</style>\n",
       "<table border=\"1\" class=\"dataframe\">\n",
       "  <thead>\n",
       "    <tr style=\"text-align: right;\">\n",
       "      <th></th>\n",
       "      <th>Survived</th>\n",
       "      <th>Pclass</th>\n",
       "      <th>Name</th>\n",
       "      <th>Sex</th>\n",
       "      <th>Age</th>\n",
       "      <th>SibSp</th>\n",
       "      <th>Parch</th>\n",
       "      <th>Ticket</th>\n",
       "      <th>Fare</th>\n",
       "      <th>Cabin</th>\n",
       "      <th>Embarked</th>\n",
       "    </tr>\n",
       "  </thead>\n",
       "  <tbody>\n",
       "    <tr>\n",
       "      <th>61</th>\n",
       "      <td>1.0</td>\n",
       "      <td>1</td>\n",
       "      <td>Icard, Miss. Amelie</td>\n",
       "      <td>female</td>\n",
       "      <td>38.0</td>\n",
       "      <td>0</td>\n",
       "      <td>0</td>\n",
       "      <td>113572</td>\n",
       "      <td>80.0</td>\n",
       "      <td>B28</td>\n",
       "      <td>NaN</td>\n",
       "    </tr>\n",
       "    <tr>\n",
       "      <th>829</th>\n",
       "      <td>1.0</td>\n",
       "      <td>1</td>\n",
       "      <td>Stone, Mrs. George Nelson (Martha Evelyn)</td>\n",
       "      <td>female</td>\n",
       "      <td>62.0</td>\n",
       "      <td>0</td>\n",
       "      <td>0</td>\n",
       "      <td>113572</td>\n",
       "      <td>80.0</td>\n",
       "      <td>B28</td>\n",
       "      <td>NaN</td>\n",
       "    </tr>\n",
       "  </tbody>\n",
       "</table>\n",
       "</div>"
      ],
      "text/plain": [
       "     Survived  Pclass                                       Name     Sex  \\\n",
       "61        1.0       1                        Icard, Miss. Amelie  female   \n",
       "829       1.0       1  Stone, Mrs. George Nelson (Martha Evelyn)  female   \n",
       "\n",
       "      Age  SibSp  Parch  Ticket  Fare Cabin Embarked  \n",
       "61   38.0      0      0  113572  80.0   B28      NaN  \n",
       "829  62.0      0      0  113572  80.0   B28      NaN  "
      ]
     },
     "execution_count": 11,
     "metadata": {},
     "output_type": "execute_result"
    }
   ],
   "source": [
    "# Embarked\n",
    "df_data[df_data.Embarked.isnull()]"
   ]
  },
  {
   "cell_type": "markdown",
   "metadata": {},
   "source": [
    "我们注意到Embarked缺失的行Pclass是1，Fare是80。可以通过分析Embarked，Fare和Pclass的关系推测Embarked的可能值。"
   ]
  },
  {
   "cell_type": "code",
   "execution_count": 12,
   "metadata": {
    "scrolled": false
   },
   "outputs": [
    {
     "data": {
      "image/png": "[encoded data removed]",
      "text/plain": [
       "<Figure size 576x432 with 1 Axes>"
      ]
     },
     "metadata": {},
     "output_type": "display_data"
    }
   ],
   "source": [
    "# 可视化数据方便观察数据\n",
    "plt.figure(figsize=(8,6))\n",
    "g = sns.boxplot(x='Embarked', y='Fare', hue='Pclass', data=df_data)\n",
    "g.axhline(80, color = 'red')\n",
    "plt.title('Embarked, Fare, Pclass关系图')\n",
    "plt.show()"
   ]
  },
  {
   "cell_type": "markdown",
   "metadata": {},
   "source": [
    "从上图展示了不同Embarked和Pclass下Fare的分布情况(红线表示Fare=80)，可以看出Pclass=1，Fare=80时Embarked=C的概率最大。所以缺失的Embarked补全为'C'。"
   ]
  },
  {
   "cell_type": "code",
   "execution_count": 13,
   "metadata": {},
   "outputs": [],
   "source": [
    "# 补全Embarked\n",
    "df_data.Embarked.fillna('C', inplace = True)"
   ]
  },
  {
   "cell_type": "markdown",
   "metadata": {},
   "source": [
    "**补全Fare**\n",
    "\n",
    "Fare只有一个缺失值，我们先看看Fare的统计学信息。"
   ]
  },
  {
   "cell_type": "code",
   "execution_count": 14,
   "metadata": {
    "scrolled": true
   },
   "outputs": [
    {
     "data": {
      "text/plain": [
       "count    1308.000000\n",
       "mean       33.295479\n",
       "std        51.758668\n",
       "min         0.000000\n",
       "25%         7.895800\n",
       "50%        14.454200\n",
       "75%        31.275000\n",
       "max       512.329200\n",
       "Name: Fare, dtype: float64"
      ]
     },
     "execution_count": 14,
     "metadata": {},
     "output_type": "execute_result"
    }
   ],
   "source": [
    "df_data['Fare'].describe()"
   ]
  },
  {
   "cell_type": "markdown",
   "metadata": {},
   "source": [
    "Fare平均值为33.3而最大值却有512.3，最大值会极大影响平均值，因此选择中位数补全更合理。"
   ]
  },
  {
   "cell_type": "code",
   "execution_count": 15,
   "metadata": {},
   "outputs": [],
   "source": [
    "# 补全Fare\n",
    "df_data.Fare.fillna(df_data.Fare.median(), inplace = True)"
   ]
  },
  {
   "cell_type": "markdown",
   "metadata": {},
   "source": [
    "**补全Cabin**\n",
    "\n",
    "Cabin包含大量缺失值，所以我采取的措施是用U(Unknown)补全缺失值。"
   ]
  },
  {
   "cell_type": "code",
   "execution_count": 16,
   "metadata": {},
   "outputs": [],
   "source": [
    "# 补全Cabin\n",
    "df_data.Cabin.fillna('U', inplace = True)"
   ]
  },
  {
   "cell_type": "code",
   "execution_count": 17,
   "metadata": {},
   "outputs": [
    {
     "name": "stdout",
     "output_type": "stream",
     "text": [
      "Survived    418\n",
      "Age         263\n",
      "dtype: int64\n"
     ]
    }
   ],
   "source": [
    "# 合并后缺失值汇总\n",
    "s_temp = df_data.isnull().sum()\n",
    "print(s_temp[s_temp>0])"
   ]
  },
  {
   "cell_type": "markdown",
   "metadata": {},
   "source": [
    "**补全Age**\n",
    "\n",
    "Age包含263个缺失值，对于如此多的缺失值，我们可以选择用模型去估计缺失值，但在本例中用模型估计不是本文的重点，因此选择简单的中位数补全。"
   ]
  },
  {
   "cell_type": "code",
   "execution_count": 18,
   "metadata": {},
   "outputs": [],
   "source": [
    "# 补全Age\n",
    "df_data.Age.fillna(df_data.Age.median(), inplace = True)"
   ]
  },
  {
   "cell_type": "markdown",
   "metadata": {},
   "source": [
    "## 数据类型转换"
   ]
  },
  {
   "cell_type": "code",
   "execution_count": 19,
   "metadata": {},
   "outputs": [],
   "source": [
    "df_data['Survived'] = df_data['Survived'].astype('category')\n",
    "df_data['Pclass'] = df_data['Pclass'].astype('category')\n",
    "df_data['Sex'] = df_data['Sex'].astype('category')\n",
    "df_data['Embarked'] = df_data['Embarked'].astype('category')"
   ]
  },
  {
   "cell_type": "markdown",
   "metadata": {},
   "source": [
    "## 异常值处理\n",
    "\n",
    "我们注意到Fare有离群值512.33。数据中有4个人是同一张票，如果除以4，人均票价还算合理。此外，因为数据总少在这里我不做任何操作。"
   ]
  },
  {
   "cell_type": "code",
   "execution_count": 20,
   "metadata": {},
   "outputs": [
    {
     "data": {
      "text/html": [
       "<div>\n",
       "<style scoped>\n",
       "    .dataframe tbody tr th:only-of-type {\n",
       "        vertical-align: middle;\n",
       "    }\n",
       "\n",
       "    .dataframe tbody tr th {\n",
       "        vertical-align: top;\n",
       "    }\n",
       "\n",
       "    .dataframe thead th {\n",
       "        text-align: right;\n",
       "    }\n",
       "</style>\n",
       "<table border=\"1\" class=\"dataframe\">\n",
       "  <thead>\n",
       "    <tr style=\"text-align: right;\">\n",
       "      <th></th>\n",
       "      <th>Survived</th>\n",
       "      <th>Pclass</th>\n",
       "      <th>Name</th>\n",
       "      <th>Sex</th>\n",
       "      <th>Age</th>\n",
       "      <th>SibSp</th>\n",
       "      <th>Parch</th>\n",
       "      <th>Ticket</th>\n",
       "      <th>Fare</th>\n",
       "      <th>Cabin</th>\n",
       "      <th>Embarked</th>\n",
       "    </tr>\n",
       "  </thead>\n",
       "  <tbody>\n",
       "    <tr>\n",
       "      <th>258</th>\n",
       "      <td>1.0</td>\n",
       "      <td>1</td>\n",
       "      <td>Ward, Miss. Anna</td>\n",
       "      <td>female</td>\n",
       "      <td>35.0</td>\n",
       "      <td>0</td>\n",
       "      <td>0</td>\n",
       "      <td>PC 17755</td>\n",
       "      <td>512.3292</td>\n",
       "      <td>U</td>\n",
       "      <td>C</td>\n",
       "    </tr>\n",
       "    <tr>\n",
       "      <th>679</th>\n",
       "      <td>1.0</td>\n",
       "      <td>1</td>\n",
       "      <td>Cardeza, Mr. Thomas Drake Martinez</td>\n",
       "      <td>male</td>\n",
       "      <td>36.0</td>\n",
       "      <td>0</td>\n",
       "      <td>1</td>\n",
       "      <td>PC 17755</td>\n",
       "      <td>512.3292</td>\n",
       "      <td>B51 B53 B55</td>\n",
       "      <td>C</td>\n",
       "    </tr>\n",
       "    <tr>\n",
       "      <th>737</th>\n",
       "      <td>1.0</td>\n",
       "      <td>1</td>\n",
       "      <td>Lesurer, Mr. Gustave J</td>\n",
       "      <td>male</td>\n",
       "      <td>35.0</td>\n",
       "      <td>0</td>\n",
       "      <td>0</td>\n",
       "      <td>PC 17755</td>\n",
       "      <td>512.3292</td>\n",
       "      <td>B101</td>\n",
       "      <td>C</td>\n",
       "    </tr>\n",
       "    <tr>\n",
       "      <th>343</th>\n",
       "      <td>NaN</td>\n",
       "      <td>1</td>\n",
       "      <td>Cardeza, Mrs. James Warburton Martinez (Charlo...</td>\n",
       "      <td>female</td>\n",
       "      <td>58.0</td>\n",
       "      <td>0</td>\n",
       "      <td>1</td>\n",
       "      <td>PC 17755</td>\n",
       "      <td>512.3292</td>\n",
       "      <td>B51 B53 B55</td>\n",
       "      <td>C</td>\n",
       "    </tr>\n",
       "  </tbody>\n",
       "</table>\n",
       "</div>"
      ],
      "text/plain": [
       "    Survived Pclass                                               Name  \\\n",
       "258      1.0      1                                   Ward, Miss. Anna   \n",
       "679      1.0      1                 Cardeza, Mr. Thomas Drake Martinez   \n",
       "737      1.0      1                             Lesurer, Mr. Gustave J   \n",
       "343      NaN      1  Cardeza, Mrs. James Warburton Martinez (Charlo...   \n",
       "\n",
       "        Sex   Age  SibSp  Parch    Ticket      Fare        Cabin Embarked  \n",
       "258  female  35.0      0      0  PC 17755  512.3292            U        C  \n",
       "679    male  36.0      0      1  PC 17755  512.3292  B51 B53 B55        C  \n",
       "737    male  35.0      0      0  PC 17755  512.3292         B101        C  \n",
       "343  female  58.0      0      1  PC 17755  512.3292  B51 B53 B55        C  "
      ]
     },
     "execution_count": 20,
     "metadata": {},
     "output_type": "execute_result"
    }
   ],
   "source": [
    "df_data[df_data['Fare'] > 300]"
   ]
  },
  {
   "cell_type": "markdown",
   "metadata": {},
   "source": [
    "# 数据分析与可视化\n",
    "\n",
    "这一步的目的是分析、探索数据并可视化(EDA, [exploratory data analysis](https://en.wikipedia.org/wiki/Exploratory_data_analysis#Techniques_and_tools))，从而有助于揭示数据隐藏的信息(趋势，变量之间的关系等)，或为特征工程([feature engineering](https://en.wikipedia.org/wiki/Feature_engineering#:~:text=Feature%20engineering%20is%20the%20process,as%20applied%20machine%20learning%20itself.))提供更多依据。\n",
    "\n",
    "我们探索下以下特征关系：\n",
    "\n",
    "* Pclass VS Survived\n",
    "* Sex VS Survived\n",
    "* Embarked VS Survived\n",
    "* SibSp VS Survived\n",
    "* Parch VS Survived\n",
    "* Age VS Survived\n",
    "* Fare VS Survived\n"
   ]
  },
  {
   "cell_type": "code",
   "execution_count": 21,
   "metadata": {
    "scrolled": false
   },
   "outputs": [
    {
     "data": {
      "image/png": "[encoded data removed]",
      "text/plain": [
       "<Figure size 576x720 with 6 Axes>"
      ]
     },
     "metadata": {},
     "output_type": "display_data"
    }
   ],
   "source": [
    "# 绘制Pclass,Sex,Embarked,SibSp,Parch与Survived关系图\n",
    "fig, ax = plt.subplots(3, 2, figsize=(8,10))\n",
    "ax[1, 1].axis('off')\n",
    "\n",
    "# Pclass VS Survived\n",
    "sns.countplot(x = 'Pclass', hue = 'Survived',\n",
    "              data = df_data, ax = ax[0, 0])\n",
    "ax[0, 0].set_title('Pclass VS Survived')\n",
    "ax[0, 0].get_legend().remove()\n",
    "\n",
    "# Sex VS Survived\n",
    "sns.countplot(x = 'Sex', hue = 'Survived',\n",
    "              data = df_data, ax = ax[0, 1])\n",
    "ax[0, 1].set_title('Sex VS Survived')\n",
    "ax[0, 1].get_legend().remove()\n",
    "\n",
    "# Embarked VS Survived\n",
    "sns.countplot(x = 'Embarked', hue = 'Survived',\n",
    "              data = df_data, ax = ax[1, 0])\n",
    "ax[1, 0].set_title('Embarked VS Survived')\n",
    "ax[1, 0].get_legend().remove()\n",
    "\n",
    "# SibSp VS Survived\n",
    "sns.countplot(x = 'SibSp', hue = 'Survived',\n",
    "              data = df_data, ax = ax[2, 0])\n",
    "ax[2, 0].set_title('SibSp VS Survived')\n",
    "ax[2, 0].get_legend().remove()\n",
    "\n",
    "# Parch VS Survived\n",
    "sns.countplot(x = 'Parch', hue = 'Survived',\n",
    "              data = df_data, ax = ax[2, 1])\n",
    "ax[2, 1].set_title('Parch VS Survived')\n",
    "ax[2, 1].get_legend().remove()\n",
    "\n",
    "handles, labels = ax[0,0].get_legend_handles_labels()\n",
    "ax[1, 1].legend(handles, labels, title = 'Survived', loc = 10)\n",
    "fig.tight_layout()\n",
    "plt.show()"
   ]
  },
  {
   "cell_type": "markdown",
   "metadata": {},
   "source": [
    "从上图我们得到以下信息：\n",
    "\n",
    "* 越好的客仓等级(class)生存率越高，其中1和2的生存率相差不大，但客仓等级3的生存率相比其他等级大幅降低。\n",
    "* 女性的生存率大于男性，这也与电影中“让女人和小孩先走”吻合。\n",
    "* 从港口S上船的生存率最低，从C上船的生存率最高，超过半数C上船的人存活了。\n",
    "* 单身的人(SibSp+Parch = 0)存活率低于有家庭的存活率。"
   ]
  },
  {
   "cell_type": "code",
   "execution_count": 22,
   "metadata": {
    "scrolled": false
   },
   "outputs": [
    {
     "data": {
      "image/png": "[encoded data removed]",
      "text/plain": [
       "<Figure size 597.05x180 with 1 Axes>"
      ]
     },
     "metadata": {},
     "output_type": "display_data"
    }
   ],
   "source": [
    "# 绘制Age与Survived关系图\n",
    "g = sns.FacetGrid(df_data, hue = 'Survived', height = 2.5, aspect=3)\n",
    "g.map(sns.kdeplot, 'Age', shade= True )\n",
    "g.set(xlim=(0 , df_data['Age'].max()))\n",
    "g.add_legend()\n",
    "plt.title('Age VS Survived')\n",
    "plt.show()"
   ]
  },
  {
   "cell_type": "markdown",
   "metadata": {},
   "source": [
    "从Age和Survived的关系图中我们得到以下信息：\n",
    "\n",
    "* 未成年人生存率高于成年人，这也与电影中“让女人和小孩先走”吻合。"
   ]
  },
  {
   "cell_type": "code",
   "execution_count": 23,
   "metadata": {},
   "outputs": [
    {
     "data": {
      "image/png": "[encoded data removed]",
      "text/plain": [
       "<Figure size 597.05x180 with 1 Axes>"
      ]
     },
     "metadata": {},
     "output_type": "display_data"
    }
   ],
   "source": [
    "# 绘制Fare与Survived关系图\n",
    "g = sns.FacetGrid(df_data, hue = 'Survived', height = 2.5, aspect=3)\n",
    "g.map(sns.kdeplot, 'Fare', shade= True )\n",
    "g.set(xlim=(0 , df_data['Fare'].max()))\n",
    "g.add_legend()\n",
    "plt.title('Fare VS Survived')\n",
    "plt.show()"
   ]
  },
  {
   "cell_type": "markdown",
   "metadata": {},
   "source": [
    "从上图我们得到以下信息：\n",
    "\n",
    "* 票价越高生还几率越高。\n",
    "* 有票价超过500，也许是离群值。"
   ]
  },
  {
   "cell_type": "markdown",
   "metadata": {},
   "source": [
    "# 特征工程\n",
    "\n",
    "特征工程(Feature Engineering)是指从现有变量中通过数据挖掘生成新变量，这些新变量可用于提高模型的预测准确度。通过数据分析与可视化，我们可以生成以下新变量：\n",
    "\n",
    "* familySize: 船上每个人的家庭大小等于SibSp+Parch+1。\n",
    "* isAlone: 船上仅有自己一人，即familySize = 1。\n",
    "* singleFare: 有些船票价格是一个人的价格，通过Fare/familySize计算出对应每个人的船票价格。\n",
    "* nameLen: 名字(Name)的长度。\n",
    "* Cabin: 只获取字母\n",
    "* title: 从name中分离出头衔信息。"
   ]
  },
  {
   "cell_type": "code",
   "execution_count": 24,
   "metadata": {},
   "outputs": [],
   "source": [
    "#familySize\n",
    "df_data['familySize'] = df_data['SibSp'] + df_data['Parch'] + 1\n",
    "#isAlone\n",
    "df_data['isAlone'] = (df_data['familySize'] == 1).astype('category')\n",
    "#singleFare\n",
    "df_data['singleFare'] = df_data['Fare']/df_data['familySize']\n",
    "# nameLen\n",
    "df_data['nameLen'] = df_data['Name'].str.len()\n",
    "# Cabin\n",
    "df_data['Cabin'] = df_data['Cabin'] \\\n",
    "                    .map(lambda x: re.search('\\D',x, re.IGNORECASE).group(0)) \\\n",
    "                    .astype('category')"
   ]
  },
  {
   "cell_type": "markdown",
   "metadata": {},
   "source": [
    "这里比较复杂的特征是Name，它包含较多信息，我们先随机看10条找找规律。"
   ]
  },
  {
   "cell_type": "code",
   "execution_count": 25,
   "metadata": {},
   "outputs": [
    {
     "data": {
      "text/plain": [
       "162                                 Wright, Miss. Marion\n",
       "730                        Allen, Miss. Elisabeth Walton\n",
       "372                           Beavan, Mr. William Thomas\n",
       "72                        Nieminen, Miss. Manta Josefina\n",
       "260                 de Messemaeker, Mr. Guillaume Joseph\n",
       "639                           Thorneycroft, Mr. Percival\n",
       "230         Harris, Mrs. Henry Birkhardt (Irene Wallach)\n",
       "198                     Madigan, Miss. Margaret \"Maggie\"\n",
       "842                              Serepeca, Miss. Augusta\n",
       "323    Caldwell, Mrs. Albert Francis (Sylvia Mae Harb...\n",
       "Name: Name, dtype: object"
      ]
     },
     "execution_count": 25,
     "metadata": {},
     "output_type": "execute_result"
    }
   ],
   "source": [
    "df_data['Name'].sample(10)"
   ]
  },
  {
   "cell_type": "markdown",
   "metadata": {},
   "source": [
    "我们发现Name是由名+头衔+姓组成的，那就看下有哪些头衔。"
   ]
  },
  {
   "cell_type": "code",
   "execution_count": 26,
   "metadata": {
    "scrolled": true
   },
   "outputs": [
    {
     "data": {
      "text/plain": [
       "title\n",
       "Capt              1\n",
       "Mme               1\n",
       "Sir               1\n",
       "Lady              1\n",
       "Jonkheer          1\n",
       "the Countess      1\n",
       "Dona              1\n",
       "Don               1\n",
       "Major             2\n",
       "Mlle              2\n",
       "Ms                2\n",
       "Col               4\n",
       "Rev               8\n",
       "Dr                8\n",
       "Master           61\n",
       "Mrs             197\n",
       "Miss            260\n",
       "Mr              757\n",
       "Name: Ticket, dtype: int64"
      ]
     },
     "execution_count": 26,
     "metadata": {},
     "output_type": "execute_result"
    }
   ],
   "source": [
    "# 拆分名，头衔，姓得到所有头衔\n",
    "df_data['title'] = df_data.Name.map(lambda x: re.split(', |\\. ',x)[1])\n",
    "# 查看每个title的个数\n",
    "df_data.groupby('title').count()['Ticket'].sort_values()"
   ]
  },
  {
   "cell_type": "markdown",
   "metadata": {},
   "source": [
    "有些title是重复的，只是不同国家或地区表示title的方法不同，比如Ms,Miss同指Miss。此外，有些title非常少，可以合并为一类rare。"
   ]
  },
  {
   "cell_type": "code",
   "execution_count": 27,
   "metadata": {},
   "outputs": [],
   "source": [
    "# 需要查询每个title是否有对应值比如Mme和Ｍrs是同一个意思。\n",
    "dict_title = {'Capt': 'rare', 'Mme': 'Mrs', 'Lady': 'rare', 'Lady': 'rare',\n",
    "              'Jonkheer': 'rare', 'the Countess': 'rare', 'Dona': 'Mrs',\n",
    "              'Don': 'rare', 'Major': 'rare', 'Mlle': 'Miss', 'Ms': 'Miss',\n",
    "              'Col': 'rare', 'Rev': 'rare', 'Dr':'rare', 'Sir': 'rare'}\n",
    "# 根据dict_title替换title\n",
    "df_data['title'] = df_data['title'].map(lambda x: dict_title.get(x, x)).astype('category')"
   ]
  },
  {
   "cell_type": "markdown",
   "metadata": {},
   "source": [
    "# 建模预测\n",
    "\n",
    "建立模型对test数据进行预测是我们项目的第二个目的。使用所有train数据，进行数据预处理，数据降维，并训练比较模型得到最优模型进行预测。"
   ]
  },
  {
   "cell_type": "code",
   "execution_count": 28,
   "metadata": {},
   "outputs": [],
   "source": [
    "# 首先移除不需要的列\n",
    "to_drop = ['Name', 'Ticket']\n",
    "df_data.drop(to_drop, axis = 1, inplace = True)\n",
    "\n",
    "# 拆分train和test\n",
    "train = df_data[~df_data['Survived'].isnull()].copy()\n",
    "test = df_data[df_data['Survived'].isnull()].iloc[:, 1:].copy()\n",
    "\n",
    "# 分开X与y\n",
    "X = train.iloc[:, 1:]\n",
    "y = train.iloc[:, 0]"
   ]
  },
  {
   "cell_type": "markdown",
   "metadata": {},
   "source": [
    "## 选择评估指标\n",
    "\n",
    "建立模型前，首先需要选择评估指标，指标用于量化模型预测能力的好坏。对于不同的预测目的需要选择相应的评估指标，比如预测类别使用AUC, confusion matrix, log loss等;回归预测则使用MAE，R-Squared，MAPE等。对于指标选择的问题可以参考[这篇文章](https://www.kaggle.com/vipulgandhi/how-to-choose-right-metric-for-evaluating-ml-model)。\n",
    "\n",
    "根据kaggle上的说明，titanic预测结果需要用[accuracy](https://en.wikipedia.org/wiki/Accuracy_and_precision)，即正确预测率：正确预测数/总预测数。"
   ]
  },
  {
   "cell_type": "markdown",
   "metadata": {},
   "source": [
    "## 数据预处理\n",
    "\n",
    "模型数据预处理是指对数据进行特征缩放([Feature Scaling](https://en.wikipedia.org/wiki/Feature_scaling))或对类别数据的编码([Encoding](https://www.analyticsvidhya.com/blog/2020/08/types-of-categorical-data-encoding/))。通过数据预处理后，减小了极值对模型准确度的影响；使得类别数据可以运用于某些模型，从而提高预测准确率。\n",
    "\n",
    "对与titanic数据我们采取以下预处理：\n",
    "\n",
    "* 对非类别数据如Age, singleFare等进行[StandardScaler](https://scikit-learn.org/stable/modules/generated/sklearn.preprocessing.StandardScaler.html?highlight=standardscaler#sklearn.preprocessing.StandardScaler)处理。\n",
    "* 对所有类别数据(category)进行[OneHotEncoder](https://scikit-learn.org/stable/modules/generated/sklearn.preprocessing.OneHotEncoder.html?highlight=onehotencod#sklearn.preprocessing.OneHotEncoder) 处理"
   ]
  },
  {
   "cell_type": "code",
   "execution_count": 29,
   "metadata": {},
   "outputs": [],
   "source": [
    "# 所有非category列\n",
    "col_s = X.dtypes[~(X.dtypes == 'category')].index.tolist()\n",
    "# 所有category列\n",
    "col_c = X.dtypes[(X.dtypes == 'category')].index.tolist()\n",
    "col_trans = make_column_transformer((StandardScaler(), col_s),\n",
    "                                    (OneHotEncoder(handle_unknown='ignore'), col_c),\n",
    "                                    remainder = 'passthrough')"
   ]
  },
  {
   "cell_type": "markdown",
   "metadata": {},
   "source": [
    "## 数据降维\n",
    "\n",
    "简单来说，数据降维([dimensionality reduction](https://en.wikipedia.org/wiki/Dimensionality_reduction))就是只选择一些特征作为输入，或者合并特征后输入模型的特征。因为过多的特征会导致模型预测准确率下降或者过拟合([overfitting](https://en.wikipedia.org/wiki/Overfitting))。一般常用的特征选择主要分为三类：Filter Methods，Ｗrapper Methods，Embeded Methods。因为特征选择不是本文重点，有兴趣的同学可以阅读[这篇文章](https://www.analyticsvidhya.com/blog/2016/12/introduction-to-feature-selection-methods-with-an-example-or-how-to-select-the-right-variables/)。\n",
    "\n",
    "对于titanic数据集，我们使用模型选择特征。利用[SelectFromModel](https://scikit-learn.org/stable/modules/generated/sklearn.feature_selection.SelectFromModel.html?highlight=select%20from%20model#sklearn.feature_selection.SelectFromModel)和[LogisticRegression](https://scikit-learn.org/stable/modules/generated/sklearn.linear_model.LogisticRegression.html)对训练数据集进行训练后，得到每个特征对于预测的重要性(重要性可以理解为训练后每个特征得到一个分数，分数越高特征越重要。)排序，然后根据重要性排序选择前n个特征作为后面模型训练的输入特征。\n",
    "\n",
    "这里我使用了sklearn中的[Pipeline](https://scikit-learn.org/stable/modules/generated/sklearn.pipeline.Pipeline.html#sklearn.pipeline.Pipeline)构建一个模型预处理，特征选择，模型训练的整体流程。这样在与测试集数据(test)预测的时候，我不需要再重复数据预处理和模型选择的步骤。"
   ]
  },
  {
   "cell_type": "code",
   "execution_count": 30,
   "metadata": {},
   "outputs": [],
   "source": [
    "pipeline = Pipeline([('preprocessing', col_trans),\n",
    "                     ('feat_selection', SelectFromModel(LogisticRegression(),\n",
    "                                                        threshold=-np.inf,\n",
    "                                                        max_features = 30)),\n",
    "                     ('model', RandomForestClassifier())])"
   ]
  },
  {
   "cell_type": "code",
   "execution_count": 31,
   "metadata": {},
   "outputs": [
    {
     "data": {
      "text/html": [
       "<style>div.sk-top-container {color: black;background-color: white;}div.sk-toggleable {background-color: white;}label.sk-toggleable__label {cursor: pointer;display: block;width: 100%;margin-bottom: 0;padding: 0.2em 0.3em;box-sizing: border-box;text-align: center;}div.sk-toggleable__content {max-height: 0;max-width: 0;overflow: hidden;text-align: left;background-color: #f0f8ff;}div.sk-toggleable__content pre {margin: 0.2em;color: black;border-radius: 0.25em;background-color: #f0f8ff;}input.sk-toggleable__control:checked~div.sk-toggleable__content {max-height: 200px;max-width: 100%;overflow: auto;}div.sk-estimator input.sk-toggleable__control:checked~label.sk-toggleable__label {background-color: #d4ebff;}div.sk-label input.sk-toggleable__control:checked~label.sk-toggleable__label {background-color: #d4ebff;}input.sk-hidden--visually {border: 0;clip: rect(1px 1px 1px 1px);clip: rect(1px, 1px, 1px, 1px);height: 1px;margin: -1px;overflow: hidden;padding: 0;position: absolute;width: 1px;}div.sk-estimator {font-family: monospace;background-color: #f0f8ff;margin: 0.25em 0.25em;border: 1px dotted black;border-radius: 0.25em;box-sizing: border-box;}div.sk-estimator:hover {background-color: #d4ebff;}div.sk-parallel-item::after {content: \"\";width: 100%;border-bottom: 1px solid gray;flex-grow: 1;}div.sk-label:hover label.sk-toggleable__label {background-color: #d4ebff;}div.sk-serial::before {content: \"\";position: absolute;border-left: 1px solid gray;box-sizing: border-box;top: 2em;bottom: 0;left: 50%;}div.sk-serial {display: flex;flex-direction: column;align-items: center;background-color: white;}div.sk-item {z-index: 1;}div.sk-parallel {display: flex;align-items: stretch;justify-content: center;background-color: white;}div.sk-parallel-item {display: flex;flex-direction: column;position: relative;background-color: white;}div.sk-parallel-item:first-child::after {align-self: flex-end;width: 50%;}div.sk-parallel-item:last-child::after {align-self: flex-start;width: 50%;}div.sk-parallel-item:only-child::after {width: 0;}div.sk-dashed-wrapped {border: 1px dashed gray;margin: 0.2em;box-sizing: border-box;padding-bottom: 0.1em;background-color: white;position: relative;}div.sk-label label {font-family: monospace;font-weight: bold;background-color: white;display: inline-block;line-height: 1.2em;}div.sk-label-container {position: relative;z-index: 2;text-align: center;}div.sk-container {display: inline-block;position: relative;}</style><div class=\"sk-top-container\"><div class=\"sk-container\"><div class=\"sk-item sk-dashed-wrapped\"><div class=\"sk-label-container\"><div class=\"sk-label sk-toggleable\"><input class=\"sk-toggleable__control sk-hidden--visually\" id=\"12e4d003-a936-4b18-8cbc-b4c4857259b0\" type=\"checkbox\" ><label class=\"sk-toggleable__label\" for=\"12e4d003-a936-4b18-8cbc-b4c4857259b0\">Pipeline</label><div class=\"sk-toggleable__content\"><pre>Pipeline(steps=[('preprocessing',\n",
       "                 ColumnTransformer(remainder='passthrough',\n",
       "                                   transformers=[('standardscaler',\n",
       "                                                  StandardScaler(),\n",
       "                                                  ['Age', 'SibSp', 'Parch',\n",
       "                                                   'Fare', 'familySize',\n",
       "                                                   'singleFare', 'nameLen']),\n",
       "                                                 ('onehotencoder',\n",
       "                                                  OneHotEncoder(handle_unknown='ignore'),\n",
       "                                                  ['Pclass', 'Sex', 'Cabin',\n",
       "                                                   'Embarked', 'isAlone',\n",
       "                                                   'title'])])),\n",
       "                ('feat_selection',\n",
       "                 SelectFromModel(estimator=LogisticRegression(),\n",
       "                                 max_features=30, threshold=-inf)),\n",
       "                ('model', RandomForestClassifier())])</pre></div></div></div><div class=\"sk-serial\"><div class=\"sk-item sk-dashed-wrapped\"><div class=\"sk-label-container\"><div class=\"sk-label sk-toggleable\"><input class=\"sk-toggleable__control sk-hidden--visually\" id=\"d1dea01c-a5d6-4903-b90d-45d18a65a9dd\" type=\"checkbox\" ><label class=\"sk-toggleable__label\" for=\"d1dea01c-a5d6-4903-b90d-45d18a65a9dd\">preprocessing: ColumnTransformer</label><div class=\"sk-toggleable__content\"><pre>ColumnTransformer(remainder='passthrough',\n",
       "                  transformers=[('standardscaler', StandardScaler(),\n",
       "                                 ['Age', 'SibSp', 'Parch', 'Fare', 'familySize',\n",
       "                                  'singleFare', 'nameLen']),\n",
       "                                ('onehotencoder',\n",
       "                                 OneHotEncoder(handle_unknown='ignore'),\n",
       "                                 ['Pclass', 'Sex', 'Cabin', 'Embarked',\n",
       "                                  'isAlone', 'title'])])</pre></div></div></div><div class=\"sk-parallel\"><div class=\"sk-parallel-item\"><div class=\"sk-item\"><div class=\"sk-label-container\"><div class=\"sk-label sk-toggleable\"><input class=\"sk-toggleable__control sk-hidden--visually\" id=\"eccc66aa-ca1c-4650-8a72-8fcf833de83c\" type=\"checkbox\" ><label class=\"sk-toggleable__label\" for=\"eccc66aa-ca1c-4650-8a72-8fcf833de83c\">standardscaler</label><div class=\"sk-toggleable__content\"><pre>['Age', 'SibSp', 'Parch', 'Fare', 'familySize', 'singleFare', 'nameLen']</pre></div></div></div><div class=\"sk-serial\"><div class=\"sk-item\"><div class=\"sk-estimator sk-toggleable\"><input class=\"sk-toggleable__control sk-hidden--visually\" id=\"7ab9a664-708f-4b73-8ec0-cc5e2e9d160a\" type=\"checkbox\" ><label class=\"sk-toggleable__label\" for=\"7ab9a664-708f-4b73-8ec0-cc5e2e9d160a\">StandardScaler</label><div class=\"sk-toggleable__content\"><pre>StandardScaler()</pre></div></div></div></div></div></div><div class=\"sk-parallel-item\"><div class=\"sk-item\"><div class=\"sk-label-container\"><div class=\"sk-label sk-toggleable\"><input class=\"sk-toggleable__control sk-hidden--visually\" id=\"17e17db2-080a-4164-bc71-4d1a7e577483\" type=\"checkbox\" ><label class=\"sk-toggleable__label\" for=\"17e17db2-080a-4164-bc71-4d1a7e577483\">onehotencoder</label><div class=\"sk-toggleable__content\"><pre>['Pclass', 'Sex', 'Cabin', 'Embarked', 'isAlone', 'title']</pre></div></div></div><div class=\"sk-serial\"><div class=\"sk-item\"><div class=\"sk-estimator sk-toggleable\"><input class=\"sk-toggleable__control sk-hidden--visually\" id=\"c4ceb6f5-e8ed-4f00-9e84-0901f0e3bb3c\" type=\"checkbox\" ><label class=\"sk-toggleable__label\" for=\"c4ceb6f5-e8ed-4f00-9e84-0901f0e3bb3c\">OneHotEncoder</label><div class=\"sk-toggleable__content\"><pre>OneHotEncoder(handle_unknown='ignore')</pre></div></div></div></div></div></div></div></div><div class=\"sk-item sk-dashed-wrapped\"><div class=\"sk-label-container\"><div class=\"sk-label sk-toggleable\"><input class=\"sk-toggleable__control sk-hidden--visually\" id=\"48676a2f-c3e3-44f2-8639-d14685d1a7cb\" type=\"checkbox\" ><label class=\"sk-toggleable__label\" for=\"48676a2f-c3e3-44f2-8639-d14685d1a7cb\">feat_selection: SelectFromModel</label><div class=\"sk-toggleable__content\"><pre>SelectFromModel(estimator=LogisticRegression(), max_features=30, threshold=-inf)</pre></div></div></div><div class=\"sk-parallel\"><div class=\"sk-parallel-item\"><div class=\"sk-item\"><div class=\"sk-serial\"><div class=\"sk-item\"><div class=\"sk-estimator sk-toggleable\"><input class=\"sk-toggleable__control sk-hidden--visually\" id=\"382624a8-7cda-45a2-aca7-dc56d381cda2\" type=\"checkbox\" ><label class=\"sk-toggleable__label\" for=\"382624a8-7cda-45a2-aca7-dc56d381cda2\">LogisticRegression</label><div class=\"sk-toggleable__content\"><pre>LogisticRegression()</pre></div></div></div></div></div></div></div></div><div class=\"sk-item\"><div class=\"sk-estimator sk-toggleable\"><input class=\"sk-toggleable__control sk-hidden--visually\" id=\"3df6433e-a4b6-4454-b784-29e343a8a647\" type=\"checkbox\" ><label class=\"sk-toggleable__label\" for=\"3df6433e-a4b6-4454-b784-29e343a8a647\">RandomForestClassifier</label><div class=\"sk-toggleable__content\"><pre>RandomForestClassifier()</pre></div></div></div></div></div></div></div>"
      ],
      "text/plain": [
       "Pipeline(steps=[('preprocessing',\n",
       "                 ColumnTransformer(remainder='passthrough',\n",
       "                                   transformers=[('standardscaler',\n",
       "                                                  StandardScaler(),\n",
       "                                                  ['Age', 'SibSp', 'Parch',\n",
       "                                                   'Fare', 'familySize',\n",
       "                                                   'singleFare', 'nameLen']),\n",
       "                                                 ('onehotencoder',\n",
       "                                                  OneHotEncoder(handle_unknown='ignore'),\n",
       "                                                  ['Pclass', 'Sex', 'Cabin',\n",
       "                                                   'Embarked', 'isAlone',\n",
       "                                                   'title'])])),\n",
       "                ('feat_selection',\n",
       "                 SelectFromModel(estimator=LogisticRegression(),\n",
       "                                 max_features=30, threshold=-inf)),\n",
       "                ('model', RandomForestClassifier())])"
      ]
     },
     "execution_count": 31,
     "metadata": {},
     "output_type": "execute_result"
    }
   ],
   "source": [
    "pipeline"
   ]
  },
  {
   "cell_type": "markdown",
   "metadata": {},
   "source": [
    "从pipeline的步骤图可以看出，对于数据集我们先进行数据预处理－preprocessing，对于类别数据使用了OneHotEncorder，而对数值型数据进行了StandardScaler。其次，使用模型LogisticRegression进行了特征的选择－feat_selection。最后，用一个模型训练数据，得到最终模型。\n",
    "\n",
    "需要注意的是这里RandomForestClassifier是可以替换成其他模型的，在调参与模型评估中，我们会看到如何比较不同模型的预测表现。"
   ]
  },
  {
   "cell_type": "markdown",
   "metadata": {},
   "source": [
    "## 调参与模型评估\n",
    "\n",
    "机器学习中调参就是从一系列参数组合中找到最优参数组，使得模型的评估指标最高。\n",
    "\n",
    "在我们建立了Pipline后，它其实就相当于一个模型。这个模型同时包含了数据预处理，特征选择和分类模型。所以我们可以对Pipline这个模型进行优化，比如改变特征选择(feat_selection)这一步的特征选择个数(max_features)，使用不同分类模型(Pipline中的model)或者改变对应模型的超参数([hyperparameter](https://medium.com/@jorgesleonel/hyperparameters-in-machine-deep-learning-ca69ad10b981))等。\n",
    "\n",
    "基于这个理解，我们先建立一个search_grid的列表包含了所有的超参数和模型的组合。列表中每个元素是一个字典，其中字典的key是Pipeline中的步骤名，比如\"model\"或者加上两个下划线(\\_\\_)代表了一个超参数，比如\"model_C\"，而value是我们需要搜索的值的列表。这样就构成了一个Pipeline所有超参数的搜索组合。\n",
    "\n",
    "其次，我们使用[GridSearchCV](https://scikit-learn.org/stable/modules/generated/sklearn.model_selection.GridSearchCV.html?highlight=gridsearchcv#sklearn.model_selection.GridSearchCV)尝试所有search_grid中的组合，并从中找到评估指标(accuracy)最高的模型和它的超参数作为最终模型。\n",
    "\n",
    "值得注意的是GridSearchCV中的参数cv使用的是[StratifiedKFold](https://scikit-learn.org/stable/modules/generated/sklearn.model_selection.StratifiedKFold.html#sklearn.model_selection.StratifiedKFold)，这意味着在训练过程中每次训练集合会被分成默认的5份，有4份作为训练集，而剩下的一份作为测试集来检测模型的预测准确度，并且每一份中存活和死亡的比率都和整个训练集的比例相同。对于为什么要把所有训练数据分为训练集和测试集，或者什么是K Fold Cross-Validation请阅读[这篇文章](https://machinelearningmastery.com/train-test-split-for-evaluating-machine-learning-algorithms/#:~:text=The%20train%2Dtest%20split%20is,dividing%20it%20into%20two%20subsets.)，以及[这篇](https://en.wikipedia.org/wiki/Cross-validation_(statistics))。\n",
    "\n",
    "这里我们会训练4种不同的模型并评估它们的预测准确度(accuracy)。对于每个模型的理解不是本文的目的，有兴趣的同学可以阅读以下相关文章。\n",
    "\n",
    "* [Logistic Regression](https://machinelearningmastery.com/logistic-regression-for-machine-learning/)\n",
    "* [Decision Tree Classifier](https://www.datacamp.com/community/tutorials/decision-tree-classification-python)\n",
    "* [K Neighbors Classifier](https://www.datacamp.com/community/tutorials/k-nearest-neighbor-classification-scikit-learn)\n",
    "* [Random Forest Classifier](https://www.datacamp.com/community/tutorials/random-forests-classifier-python)\n",
    "\n"
   ]
  },
  {
   "cell_type": "code",
   "execution_count": 32,
   "metadata": {
    "scrolled": true
   },
   "outputs": [
    {
     "name": "stdout",
     "output_type": "stream",
     "text": [
      "Fitting 5 folds for each of 6171 candidates, totalling 30855 fits\n"
     ]
    },
    {
     "name": "stderr",
     "output_type": "stream",
     "text": [
      "[Parallel(n_jobs=-1)]: Using backend LokyBackend with 12 concurrent workers.\n",
      "[Parallel(n_jobs=-1)]: Done  26 tasks      | elapsed:    1.2s\n",
      "[Parallel(n_jobs=-1)]: Done 440 tasks      | elapsed:    3.1s\n",
      "[Parallel(n_jobs=-1)]: Done 1440 tasks      | elapsed:    7.4s\n",
      "[Parallel(n_jobs=-1)]: Done 2840 tasks      | elapsed:   13.2s\n",
      "[Parallel(n_jobs=-1)]: Done 4640 tasks      | elapsed:   20.8s\n",
      "[Parallel(n_jobs=-1)]: Done 6840 tasks      | elapsed:   29.8s\n",
      "[Parallel(n_jobs=-1)]: Done 9440 tasks      | elapsed:   40.8s\n",
      "[Parallel(n_jobs=-1)]: Done 12440 tasks      | elapsed:   53.2s\n",
      "[Parallel(n_jobs=-1)]: Done 15840 tasks      | elapsed:  1.1min\n",
      "[Parallel(n_jobs=-1)]: Done 19640 tasks      | elapsed:  1.4min\n",
      "[Parallel(n_jobs=-1)]: Done 23840 tasks      | elapsed:  1.7min\n",
      "[Parallel(n_jobs=-1)]: Done 28440 tasks      | elapsed:  2.3min\n",
      "[Parallel(n_jobs=-1)]: Done 30855 out of 30855 | elapsed:  2.9min finished\n"
     ]
    }
   ],
   "source": [
    "search_grid = [{'feat_selection__max_features': range(15,26),\n",
    "                'model': [LogisticRegression()],\n",
    "                    'model__C': [0.01,0.1,1.0]},\n",
    "               {'feat_selection__max_features': range(15,26),\n",
    "                'model': [DecisionTreeClassifier()],\n",
    "                    'model__max_depth':list(range(1, 10)) + [None],\n",
    "                    'model__max_leaf_nodes':[5, 10, 15, None],\n",
    "                    'model__min_samples_leaf':[1, 5, 10, 15], \n",
    "                    'model__min_samples_split':[2, 3, 4]},\n",
    "               {'feat_selection__max_features': range(15,26),\n",
    "                'model': [KNeighborsClassifier()],\n",
    "                    'model__n_neighbors':[3, 5, 7, 9],\n",
    "                    'model__weights':['uniform', 'distance']},\n",
    "               {'feat_selection__max_features': range(15,26),\n",
    "                'model': [RandomForestClassifier()],\n",
    "                    'model__max_depth':list(range(1, 10)) + [None],\n",
    "                    'model__n_estimators':[20,40,60,80,100,120,140]}]\n",
    "\n",
    "clf = GridSearchCV(pipeline, search_grid,\n",
    "                   cv = StratifiedKFold(),\n",
    "                   scoring = 'accuracy',\n",
    "                   n_jobs = -1,\n",
    "                   verbose = 1)\n",
    "# GridSearchCV自动使用最优模型和参数对所有数据进行训练。\n",
    "clf = clf.fit(X, y)"
   ]
  },
  {
   "cell_type": "code",
   "execution_count": 33,
   "metadata": {
    "scrolled": true
   },
   "outputs": [
    {
     "data": {
      "text/plain": [
       "{'feat_selection__max_features': 18,\n",
       " 'model': RandomForestClassifier(max_depth=7),\n",
       " 'model__max_depth': 7,\n",
       " 'model__n_estimators': 100}"
      ]
     },
     "execution_count": 33,
     "metadata": {},
     "output_type": "execute_result"
    }
   ],
   "source": [
    "# 查看最优参数\n",
    "clf.best_params_"
   ]
  },
  {
   "cell_type": "code",
   "execution_count": 34,
   "metadata": {},
   "outputs": [
    {
     "data": {
      "text/plain": [
       "0.8383780051471972"
      ]
     },
     "execution_count": 34,
     "metadata": {},
     "output_type": "execute_result"
    }
   ],
   "source": [
    "# 查看最优模型的accuracy。\n",
    "clf.best_score_"
   ]
  },
  {
   "cell_type": "markdown",
   "metadata": {},
   "source": [
    "# 方案实施\n",
    "\n",
    "在模型建立后，使用最终模型对测试集(test)进行预测，并保存到一个csv文件中。"
   ]
  },
  {
   "cell_type": "code",
   "execution_count": 35,
   "metadata": {},
   "outputs": [],
   "source": [
    "y_pred = clf.predict(test)\n",
    "df_result = pd.DataFrame({'PassengerId': range(892, len(y_pred)+892), 'Survived': y_pred})\n",
    "df_result['Survived'] = df_result['Survived'].astype('int')\n",
    "df_result.to_csv(path + r'/output/randomForest_submission.csv', index = False)"
   ]
  },
  {
   "cell_type": "markdown",
   "metadata": {},
   "source": [
    "生成csv文件后，进入[Kaggle Titanic预测提交界面](https://www.kaggle.com/c/titanic/submit)。\n",
    "\n",
    "![titanic_sub1](img/titanic_sub1.png)\n",
    "\n",
    "点击上传图标选择生成的csv结果，然后点击页面底部的“Make Submission”。\n",
    "\n",
    "![titanic_sub2](img/titanic_sub2.png)\n",
    "\n",
    "在点击上传后，就会出现你的预测准确度。你也可以点击“Jump to your position on the leaderboard”查看你的排名。\n",
    "\n",
    "![titanic_sub3](img/titanic_sub_score.png)"
   ]
  },
  {
   "cell_type": "markdown",
   "metadata": {},
   "source": [
    "# 总结"
   ]
  },
  {
   "cell_type": "markdown",
   "metadata": {},
   "source": [
    "这篇文章我们学习了使用Python和sklearn进行机器学习的流程框架，主要内容包括了：\n",
    "\n",
    "* 使用pandas进行数据清洗，对数据类型的转换，和处理缺失值和异常值。\n",
    "* 使用matplotlib和seabron进行可视化分析，展示数据的隐藏信息。\n",
    "* 基于对数据的理解进行特征工程，生成新的特征用于提高模型准确度。\n",
    "* 讨论了模型训练一般步骤：选择评估指标，数据预处理，数据降维，和模型的调参与选择。\n",
    "* 使用sklearn的pipeline整合特征预处理，特征选择和训练模型；利用GridSearchCV自动化模型调参和评估。\n",
    "\n",
    "当然，我们可以进一步提高模型的预测准确度。比如特征工程生成更多特征，使用其他方式选择特征，采用更强大的模型和尝试更多的超级参数。这些问题就留给不断学习的你去完成。\n",
    "\n",
    "感谢阅读！"
   ]
  }
 ],
 "metadata": {
  "kernelspec": {
   "display_name": "Python 3",
   "language": "python",
   "name": "python3"
  },
  "language_info": {
   "codemirror_mode": {
    "name": "ipython",
    "version": 3
   },
   "file_extension": ".py",
   "mimetype": "text/x-python",
   "name": "python",
   "nbconvert_exporter": "python",
   "pygments_lexer": "ipython3",
   "version": "3.8.5"
  },
  "toc": {
   "base_numbering": 1,
   "nav_menu": {},
   "number_sections": true,
   "sideBar": true,
   "skip_h1_title": false,
   "title_cell": "Table of Contents",
   "title_sidebar": "Contents",
   "toc_cell": false,
   "toc_position": {},
   "toc_section_display": true,
   "toc_window_display": false
  }
 },
 "nbformat": 4,
 "nbformat_minor": 4
}
