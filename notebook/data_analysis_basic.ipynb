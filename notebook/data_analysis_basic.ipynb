{
 "cells": [
  {
   "cell_type": "markdown",
   "metadata": {},
   "source": [
    "学习了Python的各种基础语法和常用包后，你是否对如何使用Python在实际工作中进行数据分析一头雾水？如果是，今天这篇文章一定能带给你一些用数据分析解决实际问题的思路。\n",
    "\n",
    "数据分析的目的决定了你的分析步骤，比如你的分析的目标是提供商业可视化方案，或者是建立模型进行预测，再或者是通过数据挖掘发现并改善现有流程等。今天我们介绍一个简单的数据分析例子－根据销售记录创建可视化报表。\n",
    "\n",
    "我是一名药品销售公司的分析师，今天运营部的小丽发给我一份我们某一家药店的销售记录，希望我可以从销售数据中得到以下指标：\n",
    "\n",
    "* 月均消费次数\n",
    "* 月均消费金额\n",
    "* 客单价\n",
    "* 消费趋势\n",
    "\n",
    "我想作为一个优秀的数据分析师，这个请求完全小菜一叠。我告诉小丽：没问题，我会用代码计算这些指标并做一个pdf的可视化报告给你，未来有相似的需求只要改改数据和参数就能生成一样的报表啦！\n",
    "\n",
    "在分析前，我先整理了一下这个分析任务的大致步骤：\n",
    "1. 提出问题，理解需求\n",
    "2. 导入、理解数据\n",
    "3. 数据清洗\n",
    "4. 构建模型\n",
    "5. 数据可视化"
   ]
  },
  {
   "cell_type": "markdown",
   "metadata": {},
   "source": [
    "# 提出问题，理解需求\n",
    "\n",
    "这是用数据分析解决问题非常重要的一步。因为如果没有理解业务背景、前提和需求就进行分析，就很难得到满足客户要求的解决方案。\n",
    "\n",
    "我首先要理解小丽的需求和方案的截至日期，明白这4个指标的含义和计算方法。一般来说对于新的概念我会在网络搜索相关信息再与客户确认，从而确保对问题的理解和前提是和客户一致的。我通过网络查询和小丽的讨论我整理了指标的计算：\n",
    "\n",
    "* 月均消费次数 = 总消费次数/月份数　（一个社保卡号代表一个人，同一天内的同一个卡号的所有消费算一次消费）\n",
    "* 月均消费金额　= 总消费金额/月份数\n",
    "* 客单价　= 总消费金额/总消费次数\n",
    "* 消费趋势 可视化图标展现1.每月消费次数变化 2.每月消费金额变化 3.每月客单价变化\n",
    "\n",
    "其次我会确定需要的数据。根据问题的不同，可能需要从数据库，网络，或者文件（CSV, EXCEL, TXT）获取数据。这个需求中小丽提供给我的Excel销售记录就够用了。\n",
    "\n",
    "最后要和客户确认问题的解决方案是什么，是一个模型、一份商业分析报告、还是可视化报表。这里小丽要求是pdf的指标和可视化报告，所以我决定使用Python和Jupyter Notebook分析数据，设计指标和制作可视化图形。这样下次有相似的需求只要输入数据改动一些参数就可以另存为pdf文档。"
   ]
  },
  {
   "cell_type": "markdown",
   "metadata": {},
   "source": [
    "# 导入、理解数据\n",
    "\n",
    "接下来就是导入数据，理解数据的基本属性，比如数据的类型、数据的大小、是否有缺失值、是否需要转换数据等。"
   ]
  },
  {
   "cell_type": "code",
   "execution_count": 1,
   "metadata": {},
   "outputs": [],
   "source": [
    "# 导入数据包，一般习惯在分析开头导入所有数据包。\n",
    "from datetime import datetime\n",
    "import pandas as pd\n",
    "from pylab import mpl\n",
    "import matplotlib.pylab as plt # 数据可视化\n",
    "plt.style.use('ggplot') # 设置风格使图标更美观\n",
    "mpl.rcParams['font.sans-serif'] = ['SimHei'] # 指定字体雅黑，使图标可以显示中文\n",
    "mpl.rcParams['axes.unicode_minus'] = False # 解决保存图像是负号'-'显示为方块的问题\n",
    "\n",
    "# 关闭warnings\n",
    "import warnings\n",
    "warnings.filterwarnings('ignore')"
   ]
  },
  {
   "cell_type": "code",
   "execution_count": 2,
   "metadata": {},
   "outputs": [
    {
     "data": {
      "text/html": [
       "<div>\n",
       "<style scoped>\n",
       "    .dataframe tbody tr th:only-of-type {\n",
       "        vertical-align: middle;\n",
       "    }\n",
       "\n",
       "    .dataframe tbody tr th {\n",
       "        vertical-align: top;\n",
       "    }\n",
       "\n",
       "    .dataframe thead th {\n",
       "        text-align: right;\n",
       "    }\n",
       "</style>\n",
       "<table border=\"1\" class=\"dataframe\">\n",
       "  <thead>\n",
       "    <tr style=\"text-align: right;\">\n",
       "      <th></th>\n",
       "      <th>购药时间</th>\n",
       "      <th>社保卡号</th>\n",
       "      <th>商品编码</th>\n",
       "      <th>商品名称</th>\n",
       "      <th>销售数量</th>\n",
       "      <th>应收金额</th>\n",
       "      <th>实收金额</th>\n",
       "    </tr>\n",
       "  </thead>\n",
       "  <tbody>\n",
       "    <tr>\n",
       "      <th>0</th>\n",
       "      <td>2018-01-01 星期五</td>\n",
       "      <td>1.616528e+06</td>\n",
       "      <td>236701.0</td>\n",
       "      <td>强力VC银翘片</td>\n",
       "      <td>6.0</td>\n",
       "      <td>82.8</td>\n",
       "      <td>69.00</td>\n",
       "    </tr>\n",
       "    <tr>\n",
       "      <th>1</th>\n",
       "      <td>2018-01-02 星期六</td>\n",
       "      <td>1.616528e+06</td>\n",
       "      <td>236701.0</td>\n",
       "      <td>清热解毒口服液</td>\n",
       "      <td>1.0</td>\n",
       "      <td>28.0</td>\n",
       "      <td>24.64</td>\n",
       "    </tr>\n",
       "    <tr>\n",
       "      <th>2</th>\n",
       "      <td>2018-01-06 星期三</td>\n",
       "      <td>1.260283e+07</td>\n",
       "      <td>236701.0</td>\n",
       "      <td>感康</td>\n",
       "      <td>2.0</td>\n",
       "      <td>16.8</td>\n",
       "      <td>15.00</td>\n",
       "    </tr>\n",
       "    <tr>\n",
       "      <th>3</th>\n",
       "      <td>2018-01-11 星期一</td>\n",
       "      <td>1.007034e+10</td>\n",
       "      <td>236701.0</td>\n",
       "      <td>三九感冒灵</td>\n",
       "      <td>1.0</td>\n",
       "      <td>28.0</td>\n",
       "      <td>28.00</td>\n",
       "    </tr>\n",
       "    <tr>\n",
       "      <th>4</th>\n",
       "      <td>2018-01-15 星期五</td>\n",
       "      <td>1.015543e+08</td>\n",
       "      <td>236701.0</td>\n",
       "      <td>三九感冒灵</td>\n",
       "      <td>8.0</td>\n",
       "      <td>224.0</td>\n",
       "      <td>208.00</td>\n",
       "    </tr>\n",
       "  </tbody>\n",
       "</table>\n",
       "</div>"
      ],
      "text/plain": [
       "             购药时间          社保卡号      商品编码     商品名称  销售数量   应收金额    实收金额\n",
       "0  2018-01-01 星期五  1.616528e+06  236701.0  强力VC银翘片   6.0   82.8   69.00\n",
       "1  2018-01-02 星期六  1.616528e+06  236701.0  清热解毒口服液   1.0   28.0   24.64\n",
       "2  2018-01-06 星期三  1.260283e+07  236701.0       感康   2.0   16.8   15.00\n",
       "3  2018-01-11 星期一  1.007034e+10  236701.0    三九感冒灵   1.0   28.0   28.00\n",
       "4  2018-01-15 星期五  1.015543e+08  236701.0    三九感冒灵   8.0  224.0  208.00"
      ]
     },
     "execution_count": 2,
     "metadata": {},
     "output_type": "execute_result"
    }
   ],
   "source": [
    "# 数据导入\n",
    "# Excel文件路经\n",
    "f_path = r'/mnt/data-ubuntu/Projects/data_science_chinese/input/朝阳医院2018年销售数据.xlsx'\n",
    "df = pd.read_excel(f_path)\n",
    "# 打印查看数据前5行\n",
    "df.head()"
   ]
  },
  {
   "cell_type": "code",
   "execution_count": 3,
   "metadata": {},
   "outputs": [
    {
     "data": {
      "text/plain": [
       "购药时间     object\n",
       "社保卡号    float64\n",
       "商品编码    float64\n",
       "商品名称     object\n",
       "销售数量    float64\n",
       "应收金额    float64\n",
       "实收金额    float64\n",
       "dtype: object"
      ]
     },
     "execution_count": 3,
     "metadata": {},
     "output_type": "execute_result"
    }
   ],
   "source": [
    "# 查看数据类型\n",
    "df.dtypes"
   ]
  },
  {
   "cell_type": "code",
   "execution_count": 4,
   "metadata": {},
   "outputs": [
    {
     "data": {
      "text/plain": [
       "(6578, 7)"
      ]
     },
     "execution_count": 4,
     "metadata": {},
     "output_type": "execute_result"
    }
   ],
   "source": [
    "#数据大小\n",
    "df.shape"
   ]
  },
  {
   "cell_type": "code",
   "execution_count": 5,
   "metadata": {},
   "outputs": [
    {
     "data": {
      "text/plain": [
       "购药时间    2\n",
       "社保卡号    2\n",
       "商品编码    1\n",
       "商品名称    1\n",
       "销售数量    1\n",
       "应收金额    1\n",
       "实收金额    1\n",
       "dtype: int64"
      ]
     },
     "execution_count": 5,
     "metadata": {},
     "output_type": "execute_result"
    }
   ],
   "source": [
    "# 检查缺失值\n",
    "df.isnull().sum()"
   ]
  },
  {
   "cell_type": "code",
   "execution_count": 6,
   "metadata": {
    "scrolled": false
   },
   "outputs": [
    {
     "data": {
      "text/html": [
       "<div>\n",
       "<style scoped>\n",
       "    .dataframe tbody tr th:only-of-type {\n",
       "        vertical-align: middle;\n",
       "    }\n",
       "\n",
       "    .dataframe tbody tr th {\n",
       "        vertical-align: top;\n",
       "    }\n",
       "\n",
       "    .dataframe thead th {\n",
       "        text-align: right;\n",
       "    }\n",
       "</style>\n",
       "<table border=\"1\" class=\"dataframe\">\n",
       "  <thead>\n",
       "    <tr style=\"text-align: right;\">\n",
       "      <th></th>\n",
       "      <th>社保卡号</th>\n",
       "      <th>商品编码</th>\n",
       "      <th>销售数量</th>\n",
       "      <th>应收金额</th>\n",
       "      <th>实收金额</th>\n",
       "    </tr>\n",
       "  </thead>\n",
       "  <tbody>\n",
       "    <tr>\n",
       "      <th>count</th>\n",
       "      <td>6.576000e+03</td>\n",
       "      <td>6.577000e+03</td>\n",
       "      <td>6577.000000</td>\n",
       "      <td>6577.000000</td>\n",
       "      <td>6577.000000</td>\n",
       "    </tr>\n",
       "    <tr>\n",
       "      <th>mean</th>\n",
       "      <td>6.091254e+09</td>\n",
       "      <td>1.015869e+06</td>\n",
       "      <td>2.386194</td>\n",
       "      <td>50.473803</td>\n",
       "      <td>46.317510</td>\n",
       "    </tr>\n",
       "    <tr>\n",
       "      <th>std</th>\n",
       "      <td>4.889284e+09</td>\n",
       "      <td>5.131153e+05</td>\n",
       "      <td>2.375202</td>\n",
       "      <td>87.595925</td>\n",
       "      <td>80.976702</td>\n",
       "    </tr>\n",
       "    <tr>\n",
       "      <th>min</th>\n",
       "      <td>1.616528e+06</td>\n",
       "      <td>2.367010e+05</td>\n",
       "      <td>-10.000000</td>\n",
       "      <td>-374.000000</td>\n",
       "      <td>-374.000000</td>\n",
       "    </tr>\n",
       "    <tr>\n",
       "      <th>25%</th>\n",
       "      <td>1.014234e+08</td>\n",
       "      <td>8.614560e+05</td>\n",
       "      <td>1.000000</td>\n",
       "      <td>14.000000</td>\n",
       "      <td>12.320000</td>\n",
       "    </tr>\n",
       "    <tr>\n",
       "      <th>50%</th>\n",
       "      <td>1.001650e+10</td>\n",
       "      <td>8.615070e+05</td>\n",
       "      <td>2.000000</td>\n",
       "      <td>28.000000</td>\n",
       "      <td>26.600000</td>\n",
       "    </tr>\n",
       "    <tr>\n",
       "      <th>75%</th>\n",
       "      <td>1.004882e+10</td>\n",
       "      <td>8.690690e+05</td>\n",
       "      <td>2.000000</td>\n",
       "      <td>59.600000</td>\n",
       "      <td>53.000000</td>\n",
       "    </tr>\n",
       "    <tr>\n",
       "      <th>max</th>\n",
       "      <td>1.283612e+10</td>\n",
       "      <td>2.367012e+06</td>\n",
       "      <td>50.000000</td>\n",
       "      <td>2950.000000</td>\n",
       "      <td>2650.000000</td>\n",
       "    </tr>\n",
       "  </tbody>\n",
       "</table>\n",
       "</div>"
      ],
      "text/plain": [
       "               社保卡号          商品编码         销售数量         应收金额         实收金额\n",
       "count  6.576000e+03  6.577000e+03  6577.000000  6577.000000  6577.000000\n",
       "mean   6.091254e+09  1.015869e+06     2.386194    50.473803    46.317510\n",
       "std    4.889284e+09  5.131153e+05     2.375202    87.595925    80.976702\n",
       "min    1.616528e+06  2.367010e+05   -10.000000  -374.000000  -374.000000\n",
       "25%    1.014234e+08  8.614560e+05     1.000000    14.000000    12.320000\n",
       "50%    1.001650e+10  8.615070e+05     2.000000    28.000000    26.600000\n",
       "75%    1.004882e+10  8.690690e+05     2.000000    59.600000    53.000000\n",
       "max    1.283612e+10  2.367012e+06    50.000000  2950.000000  2650.000000"
      ]
     },
     "execution_count": 6,
     "metadata": {},
     "output_type": "execute_result"
    }
   ],
   "source": [
    "# 检查数据统计\n",
    "df.describe()"
   ]
  },
  {
   "cell_type": "markdown",
   "metadata": {},
   "source": [
    "经过上面步骤我知道：\n",
    "* 购药时间不是日期格式，我们需要转换时间格式。\n",
    "* 社保卡号和商品编码应该转换为字符格式，因为它们只是一串编号。\n",
    "* 数据存在少量缺失值需要处理。\n",
    "* 销售数量、应收金额和实收金额存在不合理的负值需要查看。\n",
    "* 应收金额和实收金额出现较大值(可能为异常值)需要进一步查看。"
   ]
  },
  {
   "cell_type": "markdown",
   "metadata": {},
   "source": [
    "# 数据清洗\n",
    "\n",
    "数据清洗的目的是使得数据更整洁，方便后续建模和可视化。一般数据清洗的步骤分为1.选择子集。2.列名重命名。3.缺失值处理。4.数据类型转换。5.异常值处理。6.数据排序。\n",
    "\n",
    "根据问题的需求和对数据的理解，我确定了以下数据清洗步骤。\n",
    "\n",
    "## 缺失值处理\n",
    "\n",
    "要处理缺失值的原因是，缺失值会使计算、可视化、或有些模型的应用发生错误。\n",
    "处理缺失值有多种方法：一般常用方法有1.删除行或列。2.补全缺失值。其中补全缺失值需要对数据和业务背景有一定了解。这里不再展开，有兴趣的同学可以看下[这篇文章](https://machinelearningmastery.com/handle-missing-data-python/#Impute%20Missing%20Values)。"
   ]
  },
  {
   "cell_type": "code",
   "execution_count": 7,
   "metadata": {},
   "outputs": [
    {
     "data": {
      "text/html": [
       "<div>\n",
       "<style scoped>\n",
       "    .dataframe tbody tr th:only-of-type {\n",
       "        vertical-align: middle;\n",
       "    }\n",
       "\n",
       "    .dataframe tbody tr th {\n",
       "        vertical-align: top;\n",
       "    }\n",
       "\n",
       "    .dataframe thead th {\n",
       "        text-align: right;\n",
       "    }\n",
       "</style>\n",
       "<table border=\"1\" class=\"dataframe\">\n",
       "  <thead>\n",
       "    <tr style=\"text-align: right;\">\n",
       "      <th></th>\n",
       "      <th>购药时间</th>\n",
       "      <th>社保卡号</th>\n",
       "      <th>商品编码</th>\n",
       "      <th>商品名称</th>\n",
       "      <th>销售数量</th>\n",
       "      <th>应收金额</th>\n",
       "      <th>实收金额</th>\n",
       "    </tr>\n",
       "  </thead>\n",
       "  <tbody>\n",
       "    <tr>\n",
       "      <th>6570</th>\n",
       "      <td>NaN</td>\n",
       "      <td>11778628.0</td>\n",
       "      <td>2367011.0</td>\n",
       "      <td>高特灵</td>\n",
       "      <td>10.0</td>\n",
       "      <td>56.0</td>\n",
       "      <td>56.00</td>\n",
       "    </tr>\n",
       "    <tr>\n",
       "      <th>6571</th>\n",
       "      <td>2018-04-25 星期二</td>\n",
       "      <td>NaN</td>\n",
       "      <td>2367011.0</td>\n",
       "      <td>高特灵</td>\n",
       "      <td>2.0</td>\n",
       "      <td>11.2</td>\n",
       "      <td>9.86</td>\n",
       "    </tr>\n",
       "    <tr>\n",
       "      <th>6574</th>\n",
       "      <td>NaN</td>\n",
       "      <td>NaN</td>\n",
       "      <td>NaN</td>\n",
       "      <td>NaN</td>\n",
       "      <td>NaN</td>\n",
       "      <td>NaN</td>\n",
       "      <td>NaN</td>\n",
       "    </tr>\n",
       "  </tbody>\n",
       "</table>\n",
       "</div>"
      ],
      "text/plain": [
       "                购药时间        社保卡号       商品编码 商品名称  销售数量  应收金额   实收金额\n",
       "6570             NaN  11778628.0  2367011.0  高特灵  10.0  56.0  56.00\n",
       "6571  2018-04-25 星期二         NaN  2367011.0  高特灵   2.0  11.2   9.86\n",
       "6574             NaN         NaN        NaN  NaN   NaN   NaN    NaN"
      ]
     },
     "execution_count": 7,
     "metadata": {},
     "output_type": "execute_result"
    }
   ],
   "source": [
    "# 简单看下缺失值\n",
    "df[df.isna().any(axis=1)]"
   ]
  },
  {
   "cell_type": "code",
   "execution_count": 8,
   "metadata": {},
   "outputs": [
    {
     "name": "stdout",
     "output_type": "stream",
     "text": [
      "删除缺失值前：(6578, 7)\n",
      "删除缺失值后：(6575, 7)\n"
     ]
    }
   ],
   "source": [
    "# 删除所有缺失值的行\n",
    "print(f'删除缺失值前：{df.shape}')\n",
    "df.dropna(inplace = True)\n",
    "print(f'删除缺失值后：{df.shape}')"
   ]
  },
  {
   "cell_type": "markdown",
   "metadata": {},
   "source": [
    "这样我们就删除了包含缺失值的3行数据。"
   ]
  },
  {
   "cell_type": "markdown",
   "metadata": {},
   "source": [
    "## 数据类型转换\n",
    "\n",
    "正确的数据类型才能使得后面数据分析正常进行，我们需要根据问题的背景去决定数据类型。这里根据经验社保卡号和商品编码是字符串类型，而不是数字。"
   ]
  },
  {
   "cell_type": "code",
   "execution_count": 9,
   "metadata": {
    "scrolled": true
   },
   "outputs": [
    {
     "name": "stdout",
     "output_type": "stream",
     "text": [
      "删除错误日期前：(6575, 7)\n",
      "删除错误日期后：(6552, 7)\n"
     ]
    },
    {
     "data": {
      "text/plain": [
       "购药时间    datetime64[ns]\n",
       "社保卡号            object\n",
       "商品编码            object\n",
       "商品名称            object\n",
       "销售数量           float64\n",
       "应收金额           float64\n",
       "实收金额           float64\n",
       "dtype: object"
      ]
     },
     "execution_count": 9,
     "metadata": {},
     "output_type": "execute_result"
    }
   ],
   "source": [
    "# 购药时间转换成日期格式\n",
    "df['购药时间'] = df['购药时间'] \\\n",
    "                .map(lambda x: x.split(' ')[0])\n",
    "# errors='coerce'值如果有不合理日期格式'%Y-%m-%d'则返回NaT。\n",
    "df['购药时间'] = pd.to_datetime(df.loc[:,'购药时间'],\n",
    "                               errors='coerce',\n",
    "                               format = '%Y-%m-%d')\n",
    "# 社保卡号和商品编码转换成字符格式\n",
    "df['社保卡号'] = df['社保卡号'].astype('int').astype('str')\n",
    "df['商品编码'] = df['商品编码'].astype('int').astype('str')\n",
    "\n",
    "# 删除日期错误的行\n",
    "print(f'删除错误日期前：{df.shape}')\n",
    "df.dropna(inplace = True)\n",
    "print(f'删除错误日期后：{df.shape}')\n",
    "df.dtypes"
   ]
  },
  {
   "cell_type": "markdown",
   "metadata": {},
   "source": [
    "## 异常值处理\n",
    "\n",
    "异常值的出现可能会导致我们分析中计算或者模型的不准确。异常值一般是指极大值、极小值或者其他不符合问题背景的值，然后通过对问题和数据的再理解，搜集背景知识，或和客户讨论是否要进行相应的数据处理。"
   ]
  },
  {
   "cell_type": "code",
   "execution_count": 10,
   "metadata": {
    "scrolled": false
   },
   "outputs": [
    {
     "data": {
      "text/html": [
       "<div>\n",
       "<style scoped>\n",
       "    .dataframe tbody tr th:only-of-type {\n",
       "        vertical-align: middle;\n",
       "    }\n",
       "\n",
       "    .dataframe tbody tr th {\n",
       "        vertical-align: top;\n",
       "    }\n",
       "\n",
       "    .dataframe thead th {\n",
       "        text-align: right;\n",
       "    }\n",
       "</style>\n",
       "<table border=\"1\" class=\"dataframe\">\n",
       "  <thead>\n",
       "    <tr style=\"text-align: right;\">\n",
       "      <th></th>\n",
       "      <th>购药时间</th>\n",
       "      <th>社保卡号</th>\n",
       "      <th>商品编码</th>\n",
       "      <th>商品名称</th>\n",
       "      <th>销售数量</th>\n",
       "      <th>应收金额</th>\n",
       "      <th>实收金额</th>\n",
       "    </tr>\n",
       "  </thead>\n",
       "  <tbody>\n",
       "    <tr>\n",
       "      <th>61</th>\n",
       "      <td>2018-05-02</td>\n",
       "      <td>11616528</td>\n",
       "      <td>236702</td>\n",
       "      <td>强力VC银翘片</td>\n",
       "      <td>-1.0</td>\n",
       "      <td>-13.8</td>\n",
       "      <td>-13.80</td>\n",
       "    </tr>\n",
       "    <tr>\n",
       "      <th>100</th>\n",
       "      <td>2018-06-19</td>\n",
       "      <td>11487628</td>\n",
       "      <td>236704</td>\n",
       "      <td>氨加黄敏胶囊</td>\n",
       "      <td>-1.0</td>\n",
       "      <td>-12.4</td>\n",
       "      <td>-11.00</td>\n",
       "    </tr>\n",
       "    <tr>\n",
       "      <th>201</th>\n",
       "      <td>2018-02-24</td>\n",
       "      <td>10012556628</td>\n",
       "      <td>236706</td>\n",
       "      <td>阿司匹林</td>\n",
       "      <td>-2.0</td>\n",
       "      <td>-93.6</td>\n",
       "      <td>-84.00</td>\n",
       "    </tr>\n",
       "    <tr>\n",
       "      <th>271</th>\n",
       "      <td>2018-01-31</td>\n",
       "      <td>1616528</td>\n",
       "      <td>236709</td>\n",
       "      <td>心痛定</td>\n",
       "      <td>-1.0</td>\n",
       "      <td>-44.8</td>\n",
       "      <td>-39.80</td>\n",
       "    </tr>\n",
       "    <tr>\n",
       "      <th>444</th>\n",
       "      <td>2018-01-19</td>\n",
       "      <td>10019172628</td>\n",
       "      <td>2367011</td>\n",
       "      <td>开博通</td>\n",
       "      <td>-2.0</td>\n",
       "      <td>-56.0</td>\n",
       "      <td>-49.28</td>\n",
       "    </tr>\n",
       "    <tr>\n",
       "      <th>1268</th>\n",
       "      <td>2018-06-14</td>\n",
       "      <td>10046703028</td>\n",
       "      <td>861409</td>\n",
       "      <td>非洛地平缓释片(波依定)</td>\n",
       "      <td>-2.0</td>\n",
       "      <td>-65.0</td>\n",
       "      <td>-58.00</td>\n",
       "    </tr>\n",
       "    <tr>\n",
       "      <th>1336</th>\n",
       "      <td>2018-01-24</td>\n",
       "      <td>13493028</td>\n",
       "      <td>861435</td>\n",
       "      <td>缬沙坦胶囊(代文)</td>\n",
       "      <td>-2.0</td>\n",
       "      <td>-83.6</td>\n",
       "      <td>-75.00</td>\n",
       "    </tr>\n",
       "    <tr>\n",
       "      <th>1620</th>\n",
       "      <td>2018-03-21</td>\n",
       "      <td>10082289228</td>\n",
       "      <td>861456</td>\n",
       "      <td>酒石酸美托洛尔片(倍他乐克)</td>\n",
       "      <td>-1.0</td>\n",
       "      <td>-7.0</td>\n",
       "      <td>-6.30</td>\n",
       "    </tr>\n",
       "    <tr>\n",
       "      <th>1674</th>\n",
       "      <td>2018-04-14</td>\n",
       "      <td>10083778428</td>\n",
       "      <td>861456</td>\n",
       "      <td>酒石酸美托洛尔片(倍他乐克)</td>\n",
       "      <td>-1.0</td>\n",
       "      <td>-7.0</td>\n",
       "      <td>-6.30</td>\n",
       "    </tr>\n",
       "    <tr>\n",
       "      <th>2553</th>\n",
       "      <td>2018-02-18</td>\n",
       "      <td>10052521128</td>\n",
       "      <td>861494</td>\n",
       "      <td>尼群地平片</td>\n",
       "      <td>-5.0</td>\n",
       "      <td>-8.5</td>\n",
       "      <td>-7.50</td>\n",
       "    </tr>\n",
       "    <tr>\n",
       "      <th>3253</th>\n",
       "      <td>2018-05-14</td>\n",
       "      <td>10034505828</td>\n",
       "      <td>861519</td>\n",
       "      <td>厄贝沙坦片(安博维)</td>\n",
       "      <td>-10.0</td>\n",
       "      <td>-374.0</td>\n",
       "      <td>-374.00</td>\n",
       "    </tr>\n",
       "    <tr>\n",
       "      <th>4361</th>\n",
       "      <td>2018-06-23</td>\n",
       "      <td>10009354128</td>\n",
       "      <td>870240</td>\n",
       "      <td>缬沙坦氢氯噻嗪片(复代文)</td>\n",
       "      <td>50.0</td>\n",
       "      <td>2950.0</td>\n",
       "      <td>2650.00</td>\n",
       "    </tr>\n",
       "    <tr>\n",
       "      <th>4507</th>\n",
       "      <td>2018-01-31</td>\n",
       "      <td>10083894728</td>\n",
       "      <td>873343</td>\n",
       "      <td>高特灵</td>\n",
       "      <td>-1.0</td>\n",
       "      <td>-10.2</td>\n",
       "      <td>-10.20</td>\n",
       "    </tr>\n",
       "    <tr>\n",
       "      <th>4540</th>\n",
       "      <td>2018-01-12</td>\n",
       "      <td>10079859328</td>\n",
       "      <td>873714</td>\n",
       "      <td>缬沙坦氨氯地平片(I)(倍博特)</td>\n",
       "      <td>-1.0</td>\n",
       "      <td>-68.6</td>\n",
       "      <td>-68.60</td>\n",
       "    </tr>\n",
       "    <tr>\n",
       "      <th>5151</th>\n",
       "      <td>2018-02-28</td>\n",
       "      <td>1616528</td>\n",
       "      <td>871158</td>\n",
       "      <td>厄贝沙坦片(吉加)</td>\n",
       "      <td>-1.0</td>\n",
       "      <td>-19.0</td>\n",
       "      <td>-17.00</td>\n",
       "    </tr>\n",
       "    <tr>\n",
       "      <th>5241</th>\n",
       "      <td>2018-01-26</td>\n",
       "      <td>10020846928</td>\n",
       "      <td>865099</td>\n",
       "      <td>硝苯地平片(心痛定)</td>\n",
       "      <td>-2.0</td>\n",
       "      <td>-3.4</td>\n",
       "      <td>-2.99</td>\n",
       "    </tr>\n",
       "    <tr>\n",
       "      <th>5521</th>\n",
       "      <td>2018-05-21</td>\n",
       "      <td>104670828</td>\n",
       "      <td>877475</td>\n",
       "      <td>D替格瑞洛片</td>\n",
       "      <td>10.0</td>\n",
       "      <td>2500.0</td>\n",
       "      <td>1820.00</td>\n",
       "    </tr>\n",
       "    <tr>\n",
       "      <th>5742</th>\n",
       "      <td>2018-04-14</td>\n",
       "      <td>10083764928</td>\n",
       "      <td>864340</td>\n",
       "      <td>苯磺酸左旋氨氯地平片(施慧达)</td>\n",
       "      <td>-2.0</td>\n",
       "      <td>-79.0</td>\n",
       "      <td>-70.00</td>\n",
       "    </tr>\n",
       "  </tbody>\n",
       "</table>\n",
       "</div>"
      ],
      "text/plain": [
       "           购药时间         社保卡号     商品编码              商品名称  销售数量    应收金额     实收金额\n",
       "61   2018-05-02     11616528   236702           强力VC银翘片  -1.0   -13.8   -13.80\n",
       "100  2018-06-19     11487628   236704            氨加黄敏胶囊  -1.0   -12.4   -11.00\n",
       "201  2018-02-24  10012556628   236706              阿司匹林  -2.0   -93.6   -84.00\n",
       "271  2018-01-31      1616528   236709               心痛定  -1.0   -44.8   -39.80\n",
       "444  2018-01-19  10019172628  2367011               开博通  -2.0   -56.0   -49.28\n",
       "1268 2018-06-14  10046703028   861409      非洛地平缓释片(波依定)  -2.0   -65.0   -58.00\n",
       "1336 2018-01-24     13493028   861435         缬沙坦胶囊(代文)  -2.0   -83.6   -75.00\n",
       "1620 2018-03-21  10082289228   861456    酒石酸美托洛尔片(倍他乐克)  -1.0    -7.0    -6.30\n",
       "1674 2018-04-14  10083778428   861456    酒石酸美托洛尔片(倍他乐克)  -1.0    -7.0    -6.30\n",
       "2553 2018-02-18  10052521128   861494             尼群地平片  -5.0    -8.5    -7.50\n",
       "3253 2018-05-14  10034505828   861519        厄贝沙坦片(安博维) -10.0  -374.0  -374.00\n",
       "4361 2018-06-23  10009354128   870240     缬沙坦氢氯噻嗪片(复代文)  50.0  2950.0  2650.00\n",
       "4507 2018-01-31  10083894728   873343               高特灵  -1.0   -10.2   -10.20\n",
       "4540 2018-01-12  10079859328   873714  缬沙坦氨氯地平片(I)(倍博特)  -1.0   -68.6   -68.60\n",
       "5151 2018-02-28      1616528   871158         厄贝沙坦片(吉加)  -1.0   -19.0   -17.00\n",
       "5241 2018-01-26  10020846928   865099        硝苯地平片(心痛定)  -2.0    -3.4    -2.99\n",
       "5521 2018-05-21    104670828   877475            D替格瑞洛片  10.0  2500.0  1820.00\n",
       "5742 2018-04-14  10083764928   864340   苯磺酸左旋氨氯地平片(施慧达)  -2.0   -79.0   -70.00"
      ]
     },
     "execution_count": 10,
     "metadata": {},
     "output_type": "execute_result"
    }
   ],
   "source": [
    "# 查看极值\n",
    "df[(df['应收金额']>2000)|(df['销售数量']<0)]"
   ]
  },
  {
   "cell_type": "markdown",
   "metadata": {},
   "source": [
    "经过与小丽的确认后呢，我知道负数代表退货，**我不需要计算进去**。此外有2笔销售金额较大的是正常数据，因为购买数量大并且药价相对高。\n",
    "\n",
    "在实际工作中也会碰到相似的问题，有时候需要一定的背景知识才能决定如何处理。"
   ]
  },
  {
   "cell_type": "code",
   "execution_count": 11,
   "metadata": {},
   "outputs": [
    {
     "name": "stdout",
     "output_type": "stream",
     "text": [
      "删除销量为负前：(6552, 7)\n",
      "删除销量为负后：(6509, 7)\n"
     ]
    }
   ],
   "source": [
    "# 删除销量为负数的行\n",
    "print(f'删除销量为负前：{df.shape}')\n",
    "df = df[df['销售数量']>0]\n",
    "print(f'删除销量为负后：{df.shape}')"
   ]
  },
  {
   "cell_type": "markdown",
   "metadata": {},
   "source": [
    "## 数据排序\n",
    "\n",
    "因为我处理的数据是销售数据有销售时间，按照时间排序有助于建模和数据可视化。"
   ]
  },
  {
   "cell_type": "code",
   "execution_count": 12,
   "metadata": {},
   "outputs": [
    {
     "data": {
      "text/html": [
       "<div>\n",
       "<style scoped>\n",
       "    .dataframe tbody tr th:only-of-type {\n",
       "        vertical-align: middle;\n",
       "    }\n",
       "\n",
       "    .dataframe tbody tr th {\n",
       "        vertical-align: top;\n",
       "    }\n",
       "\n",
       "    .dataframe thead th {\n",
       "        text-align: right;\n",
       "    }\n",
       "</style>\n",
       "<table border=\"1\" class=\"dataframe\">\n",
       "  <thead>\n",
       "    <tr style=\"text-align: right;\">\n",
       "      <th></th>\n",
       "      <th>购药时间</th>\n",
       "      <th>社保卡号</th>\n",
       "      <th>商品编码</th>\n",
       "      <th>商品名称</th>\n",
       "      <th>销售数量</th>\n",
       "      <th>应收金额</th>\n",
       "      <th>实收金额</th>\n",
       "    </tr>\n",
       "  </thead>\n",
       "  <tbody>\n",
       "    <tr>\n",
       "      <th>0</th>\n",
       "      <td>2018-01-01</td>\n",
       "      <td>1616528</td>\n",
       "      <td>236701</td>\n",
       "      <td>强力VC银翘片</td>\n",
       "      <td>6.0</td>\n",
       "      <td>82.8</td>\n",
       "      <td>69.0</td>\n",
       "    </tr>\n",
       "    <tr>\n",
       "      <th>1</th>\n",
       "      <td>2018-01-01</td>\n",
       "      <td>1616528</td>\n",
       "      <td>861417</td>\n",
       "      <td>雷米普利片(瑞素坦)</td>\n",
       "      <td>1.0</td>\n",
       "      <td>28.5</td>\n",
       "      <td>28.5</td>\n",
       "    </tr>\n",
       "    <tr>\n",
       "      <th>2</th>\n",
       "      <td>2018-01-01</td>\n",
       "      <td>13448228</td>\n",
       "      <td>861507</td>\n",
       "      <td>苯磺酸氨氯地平片(安内真)</td>\n",
       "      <td>1.0</td>\n",
       "      <td>9.5</td>\n",
       "      <td>8.5</td>\n",
       "    </tr>\n",
       "    <tr>\n",
       "      <th>3</th>\n",
       "      <td>2018-01-01</td>\n",
       "      <td>10073966328</td>\n",
       "      <td>866634</td>\n",
       "      <td>硝苯地平控释片(欣然)</td>\n",
       "      <td>6.0</td>\n",
       "      <td>111.0</td>\n",
       "      <td>92.5</td>\n",
       "    </tr>\n",
       "    <tr>\n",
       "      <th>4</th>\n",
       "      <td>2018-01-01</td>\n",
       "      <td>11743428</td>\n",
       "      <td>861405</td>\n",
       "      <td>苯磺酸氨氯地平片(络活喜)</td>\n",
       "      <td>1.0</td>\n",
       "      <td>34.5</td>\n",
       "      <td>31.0</td>\n",
       "    </tr>\n",
       "  </tbody>\n",
       "</table>\n",
       "</div>"
      ],
      "text/plain": [
       "        购药时间         社保卡号    商品编码           商品名称  销售数量   应收金额  实收金额\n",
       "0 2018-01-01      1616528  236701        强力VC银翘片   6.0   82.8  69.0\n",
       "1 2018-01-01      1616528  861417     雷米普利片(瑞素坦)   1.0   28.5  28.5\n",
       "2 2018-01-01     13448228  861507  苯磺酸氨氯地平片(安内真)   1.0    9.5   8.5\n",
       "3 2018-01-01  10073966328  866634    硝苯地平控释片(欣然)   6.0  111.0  92.5\n",
       "4 2018-01-01     11743428  861405  苯磺酸氨氯地平片(络活喜)   1.0   34.5  31.0"
      ]
     },
     "execution_count": 12,
     "metadata": {},
     "output_type": "execute_result"
    }
   ],
   "source": [
    "# 数据按照购药时间\n",
    "df = df.sort_values(by = '购药时间')\n",
    "# 重写整理index\n",
    "df.reset_index(drop = True, inplace = True)\n",
    "df.head()"
   ]
  },
  {
   "cell_type": "markdown",
   "metadata": {},
   "source": [
    "# 模型构建\n",
    "\n",
    "根据我们的目的，这里模型构建是指计算客户要求的指标。通过之前和小丽的讨论已经理整理好了指标的计算：\n",
    "\n",
    "* 月均消费次数 = 总消费次数/月份数　（一个社保卡号代表一个人，同一天内的同一个卡号的所有消费算一次消费）\n",
    "* 月均消费金额　= 总消费金额/月份数\n",
    "* 客单价　= 总消费金额/总消费次数\n",
    "* 消费趋势 可视化图标展现1.每月消费次数变化 2.每月消费金额变化 3.每月客单价变化\n",
    "\n",
    "首先要确定总月份数，如果不是完整的月份数据，我们再计算月均值的时候需要额外考虑。"
   ]
  },
  {
   "cell_type": "code",
   "execution_count": 13,
   "metadata": {
    "scrolled": true
   },
   "outputs": [
    {
     "data": {
      "text/plain": [
       "购药时间_年  购药时间_月\n",
       "2018    1         31\n",
       "        2         28\n",
       "        3         31\n",
       "        4         30\n",
       "        5         31\n",
       "        6         30\n",
       "        7         19\n",
       "Name: 购药时间, dtype: int64"
      ]
     },
     "execution_count": 13,
     "metadata": {},
     "output_type": "execute_result"
    }
   ],
   "source": [
    "# 生成年列和月列方便后期计算\n",
    "df['购药时间_年'] = df['购药时间'].dt.year\n",
    "df['购药时间_月'] = df['购药时间'].dt.month\n",
    "# 检查每个月天数\n",
    "df \\\n",
    "    .groupby([df['购药时间_年'],df['购药时间_月']]) \\\n",
    "    .nunique() \\\n",
    "    .loc[:,'购药时间']"
   ]
  },
  {
   "cell_type": "markdown",
   "metadata": {},
   "source": [
    "我发现７月只有19天的数据，于是与小丽确认后我只要计算完整月份的数据，所以我就删除了７月的数据。"
   ]
  },
  {
   "cell_type": "code",
   "execution_count": 14,
   "metadata": {},
   "outputs": [
    {
     "name": "stdout",
     "output_type": "stream",
     "text": [
      "数据一共包含6个月份。\n"
     ]
    }
   ],
   "source": [
    "# 删除７月数据\n",
    "df = df[df['购药时间_月'] != 7]\n",
    "# 总月份数，以年月合并数据。表格的index数量就是月份数\n",
    "num_month = df \\\n",
    "            .groupby([df['购药时间_年'],df['购药时间_月']]) \\\n",
    "            .count() \\\n",
    "            .index \\\n",
    "            .size\n",
    "print(f'数据一共包含{num_month}个月份。')"
   ]
  },
  {
   "cell_type": "markdown",
   "metadata": {},
   "source": [
    "下一步我需要生成一个指标的数据表格df_kpi，方便数据处理和计算。"
   ]
  },
  {
   "cell_type": "code",
   "execution_count": 15,
   "metadata": {
    "scrolled": true
   },
   "outputs": [
    {
     "data": {
      "text/html": [
       "<div>\n",
       "<style scoped>\n",
       "    .dataframe tbody tr th:only-of-type {\n",
       "        vertical-align: middle;\n",
       "    }\n",
       "\n",
       "    .dataframe tbody tr th {\n",
       "        vertical-align: top;\n",
       "    }\n",
       "\n",
       "    .dataframe thead th {\n",
       "        text-align: right;\n",
       "    }\n",
       "</style>\n",
       "<table border=\"1\" class=\"dataframe\">\n",
       "  <thead>\n",
       "    <tr style=\"text-align: right;\">\n",
       "      <th></th>\n",
       "      <th>购药时间_年</th>\n",
       "      <th>购药时间_月</th>\n",
       "      <th>当月消费次数</th>\n",
       "      <th>当月消费金额</th>\n",
       "      <th>当月客单价</th>\n",
       "    </tr>\n",
       "  </thead>\n",
       "  <tbody>\n",
       "    <tr>\n",
       "      <th>0</th>\n",
       "      <td>2018</td>\n",
       "      <td>1</td>\n",
       "      <td>666</td>\n",
       "      <td>49461.19</td>\n",
       "      <td>74.27</td>\n",
       "    </tr>\n",
       "    <tr>\n",
       "      <th>1</th>\n",
       "      <td>2018</td>\n",
       "      <td>2</td>\n",
       "      <td>512</td>\n",
       "      <td>38790.38</td>\n",
       "      <td>75.76</td>\n",
       "    </tr>\n",
       "    <tr>\n",
       "      <th>2</th>\n",
       "      <td>2018</td>\n",
       "      <td>3</td>\n",
       "      <td>684</td>\n",
       "      <td>41597.51</td>\n",
       "      <td>60.82</td>\n",
       "    </tr>\n",
       "    <tr>\n",
       "      <th>3</th>\n",
       "      <td>2018</td>\n",
       "      <td>4</td>\n",
       "      <td>825</td>\n",
       "      <td>48812.70</td>\n",
       "      <td>59.17</td>\n",
       "    </tr>\n",
       "    <tr>\n",
       "      <th>4</th>\n",
       "      <td>2018</td>\n",
       "      <td>5</td>\n",
       "      <td>632</td>\n",
       "      <td>46925.27</td>\n",
       "      <td>74.25</td>\n",
       "    </tr>\n",
       "    <tr>\n",
       "      <th>5</th>\n",
       "      <td>2018</td>\n",
       "      <td>6</td>\n",
       "      <td>608</td>\n",
       "      <td>48327.70</td>\n",
       "      <td>79.49</td>\n",
       "    </tr>\n",
       "  </tbody>\n",
       "</table>\n",
       "</div>"
      ],
      "text/plain": [
       "   购药时间_年  购药时间_月  当月消费次数    当月消费金额  当月客单价\n",
       "0    2018       1     666  49461.19  74.27\n",
       "1    2018       2     512  38790.38  75.76\n",
       "2    2018       3     684  41597.51  60.82\n",
       "3    2018       4     825  48812.70  59.17\n",
       "4    2018       5     632  46925.27  74.25\n",
       "5    2018       6     608  48327.70  79.49"
      ]
     },
     "execution_count": 15,
     "metadata": {},
     "output_type": "execute_result"
    }
   ],
   "source": [
    "# 月消费次数表并合并到总表\n",
    "df_kpi = df \\\n",
    "            .groupby([df['购药时间_年'],df['购药时间_月']]) \\\n",
    "            .nunique() \\\n",
    "            .reset_index() \\\n",
    "            .loc[:, ['购药时间_年', '购药时间_月', '社保卡号']]\n",
    "df_kpi.columns = ['购药时间_年', '购药时间_月', '当月消费次数']\n",
    "# 当月消费金额表并合并到总表\n",
    "df_temp = df \\\n",
    "            .groupby([df['购药时间_年'],df['购药时间_月']]) \\\n",
    "            .sum() \\\n",
    "            .reset_index() \\\n",
    "            .loc[:, ['购药时间_年', '购药时间_月', '实收金额']]\n",
    "df_temp.columns = ['购药时间_年', '购药时间_月', '当月消费金额']\n",
    "df_kpi = df_kpi.merge(df_temp, how = 'inner', on =['购药时间_年', '购药时间_月'])\n",
    "# 当月客单价\n",
    "df_kpi['当月客单价'] = (df_kpi['当月消费金额']/df_kpi['当月消费次数']).round(2)\n",
    "df_kpi"
   ]
  },
  {
   "cell_type": "code",
   "execution_count": 16,
   "metadata": {},
   "outputs": [
    {
     "name": "stdout",
     "output_type": "stream",
     "text": [
      "月均消费次数为：654.50\n",
      "月均消费金额：45652.46\n",
      "客单价：69.75\n"
     ]
    }
   ],
   "source": [
    "# 计算指标\n",
    "kpi_avg_visit = df_kpi['当月消费次数'].sum()/num_month\n",
    "kpi_avg_sales = df_kpi['当月消费金额'].sum()/num_month\n",
    "print(f'月均消费次数为：{kpi_avg_visit:.2f}')\n",
    "print(f'月均消费金额：{kpi_avg_sales:.2f}')\n",
    "print(f'客单价：{kpi_avg_sales/kpi_avg_visit:.2f}')"
   ]
  },
  {
   "cell_type": "markdown",
   "metadata": {},
   "source": [
    "# 数据可视化\n",
    "\n",
    "俗话说“一图胜千言”(我也不知道哪里来的俗话。。。)，用图表来展示数据可以更简洁地表达内容，还可以展示出一些隐藏信息。"
   ]
  },
  {
   "cell_type": "code",
   "execution_count": 17,
   "metadata": {
    "scrolled": false
   },
   "outputs": [
    {
     "data": {
      "image/png": "[encoded data removed]",
      "text/plain": [
       "<Figure size 720x432 with 1 Axes>"
      ]
     },
     "metadata": {},
     "output_type": "display_data"
    }
   ],
   "source": [
    "# 月消费次数趋势图\n",
    "df_kpi.set_index(['购药时间_年', '购药时间_月'])['当月消费次数'] \\\n",
    "    .plot(kind = 'bar',\n",
    "          figsize = (10,6),\n",
    "          title = '月消费次数趋势图',\n",
    "          color = 'steelblue')\n",
    "plt.show()"
   ]
  },
  {
   "cell_type": "code",
   "execution_count": 18,
   "metadata": {},
   "outputs": [
    {
     "data": {
      "image/png": "[encoded data removed]",
      "text/plain": [
       "<Figure size 720x432 with 1 Axes>"
      ]
     },
     "metadata": {},
     "output_type": "display_data"
    }
   ],
   "source": [
    "# 月消费金额趋势图\n",
    "df_kpi.set_index(['购药时间_年', '购药时间_月'])['当月消费金额'] \\\n",
    "    .plot(kind = 'bar',\n",
    "          figsize = (10,6),\n",
    "          title = '月消费金额趋势图',\n",
    "          color = 'darkseagreen')\n",
    "plt.show()"
   ]
  },
  {
   "cell_type": "code",
   "execution_count": 19,
   "metadata": {
    "scrolled": false
   },
   "outputs": [
    {
     "data": {
      "image/png": "[encoded data removed]",
      "text/plain": [
       "<Figure size 720x432 with 1 Axes>"
      ]
     },
     "metadata": {},
     "output_type": "display_data"
    }
   ],
   "source": [
    "# 月消费次数趋势图\n",
    "df_kpi.set_index(['购药时间_年', '购药时间_月'])['当月客单价'] \\\n",
    "    .plot(kind = 'bar',\n",
    "          figsize = (10,6),\n",
    "          title = '月客单价趋势图',\n",
    "          color = 'coral')\n",
    "plt.show()"
   ]
  },
  {
   "cell_type": "markdown",
   "metadata": {},
   "source": [
    "从月趋势图我们看到：\n",
    "\n",
    "* 月消费次数和月消费金额在2月比较低，也许是因为春节放假和2月天数少的影响。\n",
    "* 客单价在3,4月相对较低，而其他月份比较平稳。"
   ]
  },
  {
   "cell_type": "markdown",
   "metadata": {},
   "source": [
    "以上就是用Python进行数据分析的简单步骤，感谢大家的阅读。"
   ]
  }
 ],
 "metadata": {
  "kernelspec": {
   "display_name": "Python 3",
   "language": "python",
   "name": "python3"
  },
  "language_info": {
   "codemirror_mode": {
    "name": "ipython",
    "version": 3
   },
   "file_extension": ".py",
   "mimetype": "text/x-python",
   "name": "python",
   "nbconvert_exporter": "python",
   "pygments_lexer": "ipython3",
   "version": "3.8.5"
  },
  "toc": {
   "base_numbering": 1,
   "nav_menu": {},
   "number_sections": true,
   "sideBar": true,
   "skip_h1_title": false,
   "title_cell": "Table of Contents",
   "title_sidebar": "Contents",
   "toc_cell": false,
   "toc_position": {},
   "toc_section_display": true,
   "toc_window_display": false
  }
 },
 "nbformat": 4,
 "nbformat_minor": 4
}
