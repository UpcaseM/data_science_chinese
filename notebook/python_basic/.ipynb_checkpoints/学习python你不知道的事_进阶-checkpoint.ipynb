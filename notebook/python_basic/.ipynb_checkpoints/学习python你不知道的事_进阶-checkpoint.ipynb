{
 "cells": [
  {
   "cell_type": "markdown",
   "metadata": {},
   "source": [
    "这一篇是接着之前的基础篇，主要讨论下创建函数、常用函数的使用、闭包(closure)的使用场景和装饰器(decorator)。"
   ]
  },
  {
   "cell_type": "markdown",
   "metadata": {},
   "source": [
    "# 目录\n",
    "\n",
    "1. 构建函数时如何设置默认参数？\n",
    "2. 如何理解函数中\\*args和\\**kwargs？\n",
    "3. def log(msg, dt=datetime.now())调用函数为什么dt不是当前时间？\n",
    "4. def foo(x, alist=[ ])可变数据类型(mutable)作为默认参数导致的问题。\n",
    "5. lambda和sorted()的组合使用。\n",
    "6. 什么是列表解析(list comprehensions)？\n",
    "7. 如何理解python中的闭包和使用场景。\n",
    "8. 什么是装饰器(Decorator)？"
   ]
  },
  {
   "cell_type": "markdown",
   "metadata": {},
   "source": [
    "## 构建函数时如何设置默认参数？"
   ]
  },
  {
   "cell_type": "markdown",
   "metadata": {},
   "source": [
    "设置默认参数只需要在构建函数时指定默认值。我们来看一个例子："
   ]
  },
  {
   "cell_type": "code",
   "execution_count": 1,
   "metadata": {},
   "outputs": [
    {
     "name": "stdout",
     "output_type": "stream",
     "text": [
      "20, 5 are entered!\n",
      "20, 60 are entered!\n",
      "20, 60 are entered!\n"
     ]
    }
   ],
   "source": [
    "def my_func(x, y = 5):\n",
    "    return f'{x}, {y} are entered!'\n",
    "\n",
    "a = 20\n",
    "b = 60\n",
    "# 调用函数并使用默认参数。\n",
    "print(my_func(a))\n",
    "# 调用函数，并指定第二个参数的值\n",
    "print(my_func(a, b))\n",
    "# python支持以位置或者指定参数名输入。\n",
    "# 使用指定参数名输入可以随意交换输入参数的位置。\n",
    "print(my_func(y = b, x = a))"
   ]
  },
  {
   "cell_type": "markdown",
   "metadata": {},
   "source": [
    "在这里例子中我们设置了默认参数y=5，所以y是可选输入参数。即使只输入x而没有输入y，函数也可以成功调用。此外，从上面例子可以看出在输入参数时指定参数名可以随意交换输入参数的位置。\n",
    "\n",
    "那我们在默认参数后再加一个参数会怎么样呢？"
   ]
  },
  {
   "cell_type": "code",
   "execution_count": 2,
   "metadata": {},
   "outputs": [
    {
     "ename": "SyntaxError",
     "evalue": "non-default argument follows default argument (<ipython-input-2-46f294ce8cdf>, line 1)",
     "output_type": "error",
     "traceback": [
      "\u001b[0;36m  File \u001b[0;32m\"<ipython-input-2-46f294ce8cdf>\"\u001b[0;36m, line \u001b[0;32m1\u001b[0m\n\u001b[0;31m    def my_func(x, y=5, z):\u001b[0m\n\u001b[0m                ^\u001b[0m\n\u001b[0;31mSyntaxError\u001b[0m\u001b[0;31m:\u001b[0m non-default argument follows default argument\n"
     ]
    }
   ],
   "source": [
    "def my_func(x, y=5, z):\n",
    "    return f'{x}, {y}, {z} are entered!'\n",
    "print(my_func(5,10, 20))"
   ]
  },
  {
   "cell_type": "markdown",
   "metadata": {},
   "source": [
    "加了一个非默认参数后出现了语法错误：非默认参数跟随在默认参数后面。\n",
    "\n",
    "这里要注意所有默认参数必须放在最后，如果有非默认参数放在默认参数后（比如my_func(x, y=5, z)，或者my_func(x, y=6, z=10, k)）则会报错。"
   ]
  },
  {
   "cell_type": "markdown",
   "metadata": {},
   "source": [
    "## 如何理解函数中\\*args和\\**kwargs？"
   ]
  },
  {
   "cell_type": "markdown",
   "metadata": {},
   "source": [
    "我们肯定在查阅python三方包的时候见过类似my_func(\\*args, \\*\\*kwargs)的输入参数。要理解\\*args, \\*\\*kwargs我们要先理解什么是packed values和unpacking packed values。\n",
    "\n",
    "简单来说任何可循环对象(iterable，比如元组，列表，字符串，集合和字典等)都可以看作packed values。而unpacking packed values就是指把packed values拆分（指让几个变量指向可循环对象中的单一元素）给单一变量的过程。"
   ]
  },
  {
   "cell_type": "code",
   "execution_count": 24,
   "metadata": {},
   "outputs": [
    {
     "name": "stdout",
     "output_type": "stream",
     "text": [
      "5 6 7\n",
      "y e s\n"
     ]
    },
    {
     "ename": "ValueError",
     "evalue": "too many values to unpack (expected 2)",
     "output_type": "error",
     "traceback": [
      "\u001b[0;31m---------------------------------------------------------------------------\u001b[0m",
      "\u001b[0;31mValueError\u001b[0m                                Traceback (most recent call last)",
      "\u001b[0;32m<ipython-input-24-2a400b96a5df>\u001b[0m in \u001b[0;36m<module>\u001b[0;34m\u001b[0m\n\u001b[1;32m      6\u001b[0m \u001b[0mprint\u001b[0m\u001b[0;34m(\u001b[0m\u001b[0ma\u001b[0m\u001b[0;34m,\u001b[0m \u001b[0mb\u001b[0m\u001b[0;34m,\u001b[0m \u001b[0mc\u001b[0m\u001b[0;34m)\u001b[0m\u001b[0;34m\u001b[0m\u001b[0;34m\u001b[0m\u001b[0m\n\u001b[1;32m      7\u001b[0m \u001b[0;31m# 尝试把有３个元素的元组赋值给２个参数\u001b[0m\u001b[0;34m\u001b[0m\u001b[0;34m\u001b[0m\u001b[0;34m\u001b[0m\u001b[0m\n\u001b[0;32m----> 8\u001b[0;31m \u001b[0ma\u001b[0m\u001b[0;34m,\u001b[0m \u001b[0mb\u001b[0m \u001b[0;34m=\u001b[0m \u001b[0;34m(\u001b[0m\u001b[0;36m5\u001b[0m\u001b[0;34m,\u001b[0m\u001b[0;36m6\u001b[0m\u001b[0;34m,\u001b[0m\u001b[0;36m7\u001b[0m\u001b[0;34m)\u001b[0m\u001b[0;34m\u001b[0m\u001b[0;34m\u001b[0m\u001b[0m\n\u001b[0m",
      "\u001b[0;31mValueError\u001b[0m: too many values to unpack (expected 2)"
     ]
    }
   ],
   "source": [
    "# 比如把一个元组中的三个数值赋值给a, b, c \n",
    "a, b, c = (5, 6, 7)\n",
    "print(a, b, c)\n",
    "# 把字符串中的每个字符赋值给a, b, c\n",
    "a, b, c = 'yes'\n",
    "print(a, b, c)\n",
    "# 尝试把有３个元素的元组赋值给２个参数\n",
    "a, b = (5,6,7)"
   ]
  },
  {
   "cell_type": "markdown",
   "metadata": {},
   "source": [
    "我们看到当unpack 3个元素给2个变量时，出现了数值错误(ValueError)，所以这种unpack方式必须使等式左侧和右侧数量相同。但有时候我们想要把３个值拆分给２个变量，这时候就需要用到\\*。\\*的作用可以理解为把一个循环体(iterable)中每个元素拆分开为单独的对象。\n",
    "\n",
    "我们用几个简单的例子来看下unpack的应用。"
   ]
  },
  {
   "cell_type": "code",
   "execution_count": 27,
   "metadata": {},
   "outputs": [
    {
     "name": "stdout",
     "output_type": "stream",
     "text": [
      "o t e\n",
      "p ['o', 't', 'e'] n\n",
      "['a', 'b', 5, 6, 'g']\n"
     ]
    }
   ],
   "source": [
    "# *在右边使用，*b可以理解为拆开b后等于3个单独的对象'o','t','e'\n",
    "# 所以b = ['o', 't', 'e']\n",
    "a, *b, c= ('p','o','t','e','n')\n",
    "print(*b)\n",
    "print(a, b, c)\n",
    "# *可以在右边使用，拆开循环体后可以用来组成新的循环体。\n",
    "a = 'ab'\n",
    "b = 5,6\n",
    "c = 'g'\n",
    "x = [*a, *b, *c]\n",
    "print(x)"
   ]
  },
  {
   "cell_type": "markdown",
   "metadata": {},
   "source": [
    "同样的，\\*\\*的作用是把字典拆分开把每个key加上value作为一个单独的对象。但是与\\*不同的是\\*\\*只能用在等式右侧，而且当有重复key出现的使用，后出现的值会覆盖之前的值。"
   ]
  },
  {
   "cell_type": "code",
   "execution_count": 28,
   "metadata": {},
   "outputs": [
    {
     "name": "stdout",
     "output_type": "stream",
     "text": [
      "{'k': 10, 'p': 5, 'g': 4}\n"
     ]
    }
   ],
   "source": [
    "# **只能在右侧使用\n",
    "a = {'k':1, 'p':2}\n",
    "b = {'g':4, 'p':5, 'k':10}\n",
    "# 有重复的key，这里字典b在a后面\n",
    "# 所以key p和k的值更新为字典b里对应key的值。\n",
    "c = {**a, **b}\n",
    "print(c)"
   ]
  },
  {
   "cell_type": "markdown",
   "metadata": {},
   "source": [
    "了解了\\*和\\*\\*的用法后，\\*args和\\*\\*kwargs就很好理解了。\\*args相当于拆开args，所以输入的对应位置参数[(positional arguments)](https://problemsolvingwithpython.com/07-Functions-and-Modules/07.07-Positional-and-Keyword-Arguments/#:~:text=Positional%20arguments%20are%20arguments%20that,positional%20argument%20listed%20third%2C%20etc.)等于一个被拆开的元组(tuple)，而\\*\\*kwargs就相当于拆开字典，输入的对应关键词参数(Keyword Arguments)等于一个被拆开的字典。此外，在定义函数的时候args或者kwargs可以用其他变量名代替。"
   ]
  },
  {
   "cell_type": "code",
   "execution_count": 29,
   "metadata": {},
   "outputs": [
    {
     "name": "stdout",
     "output_type": "stream",
     "text": [
      "I am a\n",
      "These values are entered：(5, 7, 8)\n",
      "These key words are entered：{'kw1': 'y', 'kw2': 'e', 'lw3': 's'}\n"
     ]
    }
   ],
   "source": [
    "# 这里使用values和kw_values，在有些情况下\n",
    "# 使用更有意义的参数命名方法是推荐的。\n",
    "def foo(a,*values, **kw_values):\n",
    "    print(a)\n",
    "    print(f'These values are entered：{values}')\n",
    "    print(f'These key words are entered：{kw_values}')\n",
    "\n",
    "# values = (5,7,8)\n",
    "# kw_values = {'kw1': 'y', 'kw2': 'e', 'lw3': 's'}\n",
    "foo('I am a', 5, 7, 8, kw1 = 'y', kw2 = 'e', lw3 = 's')"
   ]
  },
  {
   "cell_type": "markdown",
   "metadata": {},
   "source": [
    "在这个例子中我们看到，没有参数名的5,7,8是位置参数组成一个元组对应values，而kw1 = 'y', kw2 = 'e', lw3 = 's'是关键词参数组成一个字典对应kw_values。\n",
    "\n",
    "需要注意的是在\\*args后不能再输入位置参数，只能接收关键词参数。否则会出现类型错误(TyepError)。"
   ]
  },
  {
   "cell_type": "code",
   "execution_count": 30,
   "metadata": {},
   "outputs": [
    {
     "name": "stdout",
     "output_type": "stream",
     "text": [
      "I am a\n",
      "These values are entered：(5, 7, 8)\n",
      "These key words are entered：8\n"
     ]
    },
    {
     "ename": "TypeError",
     "evalue": "foo() missing 1 required keyword-only argument: 'b'",
     "output_type": "error",
     "traceback": [
      "\u001b[0;31m---------------------------------------------------------------------------\u001b[0m",
      "\u001b[0;31mTypeError\u001b[0m                                 Traceback (most recent call last)",
      "\u001b[0;32m<ipython-input-30-87ab3c81d391>\u001b[0m in \u001b[0;36m<module>\u001b[0;34m\u001b[0m\n\u001b[1;32m      7\u001b[0m \u001b[0;31m# 但是在使用的时候，只能接收关键词参数。\u001b[0m\u001b[0;34m\u001b[0m\u001b[0;34m\u001b[0m\u001b[0;34m\u001b[0m\u001b[0m\n\u001b[1;32m      8\u001b[0m \u001b[0mfoo\u001b[0m\u001b[0;34m(\u001b[0m\u001b[0;34m'I am a'\u001b[0m\u001b[0;34m,\u001b[0m \u001b[0;36m5\u001b[0m\u001b[0;34m,\u001b[0m \u001b[0;36m7\u001b[0m\u001b[0;34m,\u001b[0m \u001b[0;36m8\u001b[0m\u001b[0;34m,\u001b[0m \u001b[0mb\u001b[0m \u001b[0;34m=\u001b[0m \u001b[0;36m8\u001b[0m\u001b[0;34m)\u001b[0m\u001b[0;34m\u001b[0m\u001b[0;34m\u001b[0m\u001b[0m\n\u001b[0;32m----> 9\u001b[0;31m \u001b[0mfoo\u001b[0m\u001b[0;34m(\u001b[0m\u001b[0;34m'I am a'\u001b[0m\u001b[0;34m,\u001b[0m \u001b[0;36m5\u001b[0m\u001b[0;34m,\u001b[0m \u001b[0;36m7\u001b[0m\u001b[0;34m,\u001b[0m \u001b[0;36m8\u001b[0m\u001b[0;34m,\u001b[0m \u001b[0;36m8\u001b[0m\u001b[0;34m)\u001b[0m\u001b[0;34m\u001b[0m\u001b[0;34m\u001b[0m\u001b[0m\n\u001b[0m",
      "\u001b[0;31mTypeError\u001b[0m: foo() missing 1 required keyword-only argument: 'b'"
     ]
    }
   ],
   "source": [
    "# 在*values后还可以加其他参数。\n",
    "def foo(a,*values, b):\n",
    "    print(a)\n",
    "    print(f'These values are entered：{values}')\n",
    "    print(f'These key words are entered：{b}')\n",
    "\n",
    "# 但是在使用的时候，只能接收关键词参数。\n",
    "foo('I am a', 5, 7, 8, b = 8)\n",
    "foo('I am a', 5, 7, 8, 8)"
   ]
  },
  {
   "cell_type": "markdown",
   "metadata": {},
   "source": [
    "## def log(msg, dt=datetime.now())调用函数为什么dt不是当前时间？"
   ]
  },
  {
   "cell_type": "markdown",
   "metadata": {},
   "source": [
    "在定义函数的时候有一个非常重要的点：默认参数的设定<font color='red'>只发生在定义函数的时候，而不是这个函数被调用的时候</font>。\n",
    "\n",
    "我们定义一个题目的函数看看是否是这样的。"
   ]
  },
  {
   "cell_type": "code",
   "execution_count": 31,
   "metadata": {},
   "outputs": [
    {
     "name": "stdout",
     "output_type": "stream",
     "text": [
      "2020-09-07 18:19:30.904485:This is a test\n",
      "2020-09-07 18:19:30.904485:This is a test\n"
     ]
    }
   ],
   "source": [
    "from datetime import datetime\n",
    "def log(msg, dt=datetime.now()):\n",
    "    return f'{dt}:{msg}'\n",
    "\n",
    "print(log('This is a test'))\n",
    "print(log('This is a test'))"
   ]
  },
  {
   "cell_type": "markdown",
   "metadata": {},
   "source": [
    "可以看到在调用函数的时候2次输出时间都是完全一样的，说明dt=datetime.now()是在定义函数的时候被评估的。那我们应该如何设置这个默认参数呢？一般的做法是把默认值设置为None来达到我们的目的。"
   ]
  },
  {
   "cell_type": "code",
   "execution_count": 4,
   "metadata": {},
   "outputs": [
    {
     "name": "stdout",
     "output_type": "stream",
     "text": [
      "2020-09-07 17:33:32.686061:This is a test.\n",
      "2020-09-07 17:33:32.686139:This is a test.\n"
     ]
    }
   ],
   "source": [
    "def log(msg, dt=None):\n",
    "    if not dt:\n",
    "        dt = datetime.now()\n",
    "    return f'{dt}:{msg}'\n",
    "#这即支持自定义dt的值，又可以在不输入dt时使用now()。\n",
    "print(log('This is a test.'))\n",
    "print(log('This is a test.'))"
   ]
  },
  {
   "cell_type": "markdown",
   "metadata": {},
   "source": [
    "使用这种解决方式，每次调用函数都会重写计算dt，从而避免了题目描述的错误。"
   ]
  },
  {
   "cell_type": "markdown",
   "metadata": {},
   "source": [
    "## def foo(x, alist=[ ])可变数据类型(mutable)作为默认参数导致的问题。"
   ]
  },
  {
   "cell_type": "markdown",
   "metadata": {},
   "source": [
    "def foo(x, alist=[ ])中，默认参数alist=[ ]只有定义函数的时候被评估。所以在调用时，alist依旧是定义函数时的同一个列表，即使我们重写调用函数alist不会被清空。"
   ]
  },
  {
   "cell_type": "code",
   "execution_count": 5,
   "metadata": {},
   "outputs": [
    {
     "name": "stdout",
     "output_type": "stream",
     "text": [
      "['apple', 'pear']\n"
     ]
    }
   ],
   "source": [
    "# 定一个fruit函数\n",
    "def fruit(x, alist = []):\n",
    "    \"\"\"添加x到alist中。\"\"\"\n",
    "    alist.append(x)\n",
    "    return alist\n",
    "# 调用fruit加入apple\n",
    "all_fruit = fruit('apple')\n",
    "# 再次调用假如pear\n",
    "fruit('pear')\n",
    "print(all_fruit)"
   ]
  },
  {
   "cell_type": "code",
   "execution_count": 6,
   "metadata": {},
   "outputs": [
    {
     "name": "stdout",
     "output_type": "stream",
     "text": [
      "['apple', 'pear', 'orange']\n"
     ]
    }
   ],
   "source": [
    "# 创建新的fruit\n",
    "new_fruit = fruit('orange')\n",
    "print(new_fruit)"
   ]
  },
  {
   "cell_type": "markdown",
   "metadata": {},
   "source": [
    "从上面例子我们看到，即使我们重写调用函数第二个new_fruit的列表还是包含了all_fruit里的所有对象。原因就是alist对象是在定义的时候被创建的，即使重新调用(new_fruit = fruit('orange'))，alist依旧是创建fruit函数时候的list对象，而又因为list是可变类型(mutable type)，调用函数的时候就会把新的对象添加到同一个默认列表中。\n",
    "\n",
    "对于此类应用场景，我们会使用和第三问中一样的解决办法。"
   ]
  },
  {
   "cell_type": "code",
   "execution_count": 7,
   "metadata": {},
   "outputs": [
    {
     "name": "stdout",
     "output_type": "stream",
     "text": [
      "['apple', 'pear']\n",
      "['orange']\n"
     ]
    }
   ],
   "source": [
    "def fruit(x, alist = None):\n",
    "    \"\"\"添加x到alist中。\"\"\"\n",
    "    if not alist:\n",
    "        alist = []\n",
    "    alist.append(x)\n",
    "    return alist\n",
    "\n",
    "all_fruit = fruit('apple')\n",
    "#添加新水果到all_fruit的时候输入all_fruit\n",
    "fruit('pear', all_fruit)\n",
    "print(all_fruit)\n",
    "new_fruit = fruit('orange')\n",
    "print(new_fruit)"
   ]
  },
  {
   "cell_type": "markdown",
   "metadata": {},
   "source": [
    "## lambda和sorted()的组合使用。"
   ]
  },
  {
   "cell_type": "markdown",
   "metadata": {},
   "source": [
    "lambda 是Python中使用率非常高的一个功能，它用于创建匿名函数（没有函数名的函数）。有时候我们只是临时性或者一次性使用一个函数，那就可以用lambda快速创建一个匿名函数。"
   ]
  },
  {
   "cell_type": "code",
   "execution_count": 33,
   "metadata": {},
   "outputs": [
    {
     "data": {
      "text/plain": [
       "<function __main__.<lambda>(a)>"
      ]
     },
     "execution_count": 33,
     "metadata": {},
     "output_type": "execute_result"
    }
   ],
   "source": [
    "# 比如这个简单的例子，把输入参数加１\n",
    "lambda a: a+1"
   ]
  },
  {
   "cell_type": "markdown",
   "metadata": {},
   "source": [
    "lambda的强大之处是可以和其他函数共用使得代码简洁易懂。这里我们看下lambda与Python常用函数sorted()的组合使用。\n",
    "\n",
    "**例子一：排序大小写字母**\n",
    "\n",
    "对一个包含大小字母的列表进行排序。"
   ]
  },
  {
   "cell_type": "code",
   "execution_count": 35,
   "metadata": {},
   "outputs": [
    {
     "data": {
      "text/plain": [
       "['B', 'D', 'F', 'a', 'c', 'e']"
      ]
     },
     "execution_count": 35,
     "metadata": {},
     "output_type": "execute_result"
    }
   ],
   "source": [
    "l = ['a', 'B', 'c', 'D', 'e', 'F']\n",
    "sorted(l)"
   ]
  },
  {
   "cell_type": "markdown",
   "metadata": {},
   "source": [
    "Python并没有按照我们的意愿进行字母排序，原因是大小不同不能进行字母排序。解决办法就是输入lambda函数给sorted的key参数。"
   ]
  },
  {
   "cell_type": "code",
   "execution_count": 38,
   "metadata": {},
   "outputs": [
    {
     "data": {
      "text/plain": [
       "['Aiden', 'April', 'Ashely', 'John', 'Mike', 'Musk']"
      ]
     },
     "execution_count": 38,
     "metadata": {},
     "output_type": "execute_result"
    }
   ],
   "source": [
    "# 把lambda x:x.upper()输入后相当于把每个对象转化成大写后再排序。\n",
    "sorted(l, key = lambda x:x.upper())"
   ]
  },
  {
   "cell_type": "markdown",
   "metadata": {},
   "source": [
    "**例子二：按照最后一个字母排序**"
   ]
  },
  {
   "cell_type": "code",
   "execution_count": 37,
   "metadata": {},
   "outputs": [
    {
     "data": {
      "text/plain": [
       "['Mike', 'Musk', 'April', 'Aiden', 'John', 'Ashely']"
      ]
     },
     "execution_count": 37,
     "metadata": {},
     "output_type": "execute_result"
    }
   ],
   "source": [
    "l = ['Aiden', 'Mike', 'April', 'Ashely', 'Musk', 'John']\n",
    "# 取每个元素最后一个字符进行排序\n",
    "sorted(l, key = lambda x:x[-1])"
   ]
  },
  {
   "cell_type": "markdown",
   "metadata": {},
   "source": [
    "## 什么是列表解析(list comprehensions)？"
   ]
  },
  {
   "cell_type": "markdown",
   "metadata": {},
   "source": [
    "[列表解析提供了一种简洁的方式去创建列表(list)](https://docs.python.org/3/tutorial/datastructures.html#list-comprehensions)。在生成列表时用```[]```包裹起来，里面包含了表达式以及至少一个for语句，根据需要可以使用更多for或者if语句。使用一个for和if的简单形式可以表示为：\n",
    "```[<expression> for <varname> in <iterable> if <condition>]```\n",
    "\n",
    "接下来我们看几个列表解析的例子：\n",
    "\n",
    "**例一：生成一个列表的平方**\n",
    "\n",
    "给定一个列表，使用列表解析创建一个新的列表，使得每个元素都是自身的平方。"
   ]
  },
  {
   "cell_type": "code",
   "execution_count": 45,
   "metadata": {},
   "outputs": [
    {
     "name": "stdout",
     "output_type": "stream",
     "text": [
      "[16, 25, 36]\n"
     ]
    }
   ],
   "source": [
    "l = [4, 5, 6]\n",
    "[n*n for n in l]\n",
    "\n",
    "# 这个例子等于\n",
    "# alist = []\n",
    "# for n in l:\n",
    "#     alist.append(n*n)\n",
    "# print(alist)"
   ]
  },
  {
   "cell_type": "markdown",
   "metadata": {},
   "source": [
    "**例二：获取两个列表对应位置的幂次方**"
   ]
  },
  {
   "cell_type": "code",
   "execution_count": 46,
   "metadata": {},
   "outputs": [
    {
     "name": "stdout",
     "output_type": "stream",
     "text": [
      "[7, 64, 729]\n"
     ]
    }
   ],
   "source": [
    "l1 = [7, 8, 9]\n",
    "l2= [1, 2, 3]\n",
    "[a**b for a,b in zip(l1,l2)]\n",
    "\n",
    "# 这个例子等于\n",
    "# alist = []\n",
    "# for a,b in zip(l1, l2):\n",
    "#     alist.append(a**b)\n",
    "# print(alist)"
   ]
  },
  {
   "cell_type": "markdown",
   "metadata": {},
   "source": [
    "**例三：找出所有偶数**"
   ]
  },
  {
   "cell_type": "code",
   "execution_count": 47,
   "metadata": {},
   "outputs": [
    {
     "name": "stdout",
     "output_type": "stream",
     "text": [
      "[2, 4, 6, 8, 10, 12, 14, 16, 18]\n"
     ]
    }
   ],
   "source": [
    "l = range(20)\n",
    "[a for a in l if (a%2 == 0)&(a != 0)]\n",
    "\n",
    "# 这个例子等于\n",
    "# alist = []\n",
    "# for a in l:\n",
    "#     if (a%2 == 0)&(a != 0):\n",
    "#         alist.append(a)\n",
    "# print(alist)"
   ]
  },
  {
   "cell_type": "markdown",
   "metadata": {},
   "source": [
    "**例四：转换嵌套列表成无嵌套列表**"
   ]
  },
  {
   "cell_type": "code",
   "execution_count": 48,
   "metadata": {},
   "outputs": [
    {
     "data": {
      "text/plain": [
       "[1, 2, 3, 4, 5, 7, 8, 9, 10]"
      ]
     },
     "execution_count": 48,
     "metadata": {},
     "output_type": "execute_result"
    }
   ],
   "source": [
    "l = [[1, 2], [3, 4, 5], [7, 8, 9, 10]]\n",
    "[x for a in l for x in a]\n",
    "\n",
    "# 这个例子等于\n",
    "# alist = []\n",
    "# for a in l:\n",
    "#     for x in a:\n",
    "#         alist.append(x)\n",
    "# print(alist)"
   ]
  },
  {
   "cell_type": "markdown",
   "metadata": {},
   "source": [
    "从上面例子可以看出转换嵌套列表成无嵌套列表相当于把一个嵌套循环写在一行，这样就非常容易理解啦。"
   ]
  },
  {
   "cell_type": "markdown",
   "metadata": {},
   "source": [
    "**例五：矩阵转置**\n",
    "\n",
    "这个是一个非常有意思的应用，有列表解析解决这个问题十分优雅、简洁。"
   ]
  },
  {
   "cell_type": "code",
   "execution_count": 49,
   "metadata": {},
   "outputs": [
    {
     "data": {
      "text/plain": [
       "[[1, 6], [2, 7], [3, 8]]"
      ]
     },
     "execution_count": 49,
     "metadata": {},
     "output_type": "execute_result"
    }
   ],
   "source": [
    "m = [[1, 2, 3],\n",
    "     [6, 7, 8]]\n",
    "[list(r) for r in zip(*m)]"
   ]
  },
  {
   "cell_type": "markdown",
   "metadata": {},
   "source": [
    "通过上面的例子，我们看到使用列表解析可以使得代码非常简洁，这对于减少编程错误和提高代码可读性有很大帮助。"
   ]
  },
  {
   "cell_type": "markdown",
   "metadata": {},
   "source": [
    "## 如何理解python中的闭包和使用场景。"
   ]
  },
  {
   "attachments": {
    "python_scope-2.png": {
     "image/png": "[encoded data removed]"
    }
   },
   "cell_type": "markdown",
   "metadata": {},
   "source": [
    "在理解闭包前我们先看下python变量的**作用域**。我们平时所说的python代码都写在模块中，是一个 Python 文件，以 .py 结尾，包含了 Python 对象定义和Python语句。\n",
    "\n",
    "当我们在模块中定义一个变量x=10，x就称为**全球变量**(global variable)，而x所在的值域称为**全球值域**(global scope)。然后我们再在模块中定义一个函数f1并且在f1中定一个变量y=20和一个函数inner，再在inner中定义一个z，则y和z都称为**局部变量**(local variable)，而y或者z所在的值域称为**局部值域**(local scope)，函数inner则称为内部函数或嵌套函数。\n",
    "\n",
    "```python\n",
    "x = 10                #全球变量\n",
    "def f1(v):\n",
    "    y = 20            #局部变量\n",
    "    def inner():\n",
    "        z = 'python'  #局部变量\n",
    "        print(y)\n",
    "    return inner\n",
    "```\n",
    "Python的值域是从模块向下包含的关系（如下图所示），就意味着在在模块层我们只能使用变量x而不能使用y；在f1函数中可以使用变量x和y，即使x没有在f1中定义；在函数inner中也可以使用变量x和y。\n",
    "\n",
    "![python_scope-2.png](attachment:python_scope-2.png)\n",
    "\n",
    "但是，如果我们想要在在局部值域改动全球变量x，则需要加上global x。如果不加global直接使用x = 40，则相当于在f1的局部值域创建了一个局部变量x，并且对局部变量x的改动并不会影响全球变量x。\n",
    "```python\n",
    "x = 10\n",
    "def f1(v):\n",
    "    #改变全球变量x,需要加上global x\n",
    "    global x\n",
    "    x = 40\n",
    "    y = 20\n",
    "    def inner():\n",
    "        z = 'python'\n",
    "        print(y)\n",
    "    return inner\n",
    "```\n",
    "相似的，如果我们要在inner中改动f1局部值域下的局部变量y，我们则需要在inner中加上```nonlocal y```，这表明y不是inner的局部变量而是一个**非局部变量**(nonlocal variable)。\n",
    "```python\n",
    "x = 10\n",
    "def f1(v):\n",
    "    y = 20\n",
    "    def inner():\n",
    "        z = 'python'\n",
    "        nonlocal y\n",
    "        y = 50\n",
    "        print(y)\n",
    "    return inner\n",
    "```\n",
    "在了解了Python值域后，我们知道非局部变量y可以在inner中使用，即使它没有在inner中定义。这里y就称做一个**自由变量**[(free variables)](https://docs.python.org/3/reference/executionmodel.html#binding-of-names)。自由变量y加上内部函数inner就组成了一个闭包，所以可以简单地理解为**自由变量加上内部函数组成了闭包**。此外，在这个例子中f1函数返回了inner，其实就是返回了一个闭包（即自由变量y加上inner函数）。"
   ]
  },
  {
   "attachments": {
    "closure-4.png": {
     "image/png": "[encoded data removed]"
    }
   },
   "cell_type": "markdown",
   "metadata": {},
   "source": [
    "![closure-4.png](attachment:closure-4.png)"
   ]
  },
  {
   "cell_type": "markdown",
   "metadata": {},
   "source": [
    "我们用例子来来看下：\n",
    "1. f1中的y和闭包中的y是不是指向同一个对象？\n",
    "2. f1返回的inner是不是一个闭包？"
   ]
  },
  {
   "cell_type": "code",
   "execution_count": 51,
   "metadata": {},
   "outputs": [
    {
     "name": "stdout",
     "output_type": "stream",
     "text": [
      "0x7fe75a45bbb0\n",
      "0x7fe75a45bbb0\n",
      "(<cell at 0x7fe73ec2b5b0: str object at 0x7fe75a45bbb0>,)\n"
     ]
    }
   ],
   "source": [
    "# hex(id(y))可以得到存储y的内存地址。\n",
    "def f1():\n",
    "    y = 'closure'\n",
    "    print(hex(id(y)))\n",
    "    def inner():\n",
    "        print(hex(id(y)))\n",
    "    return inner\n",
    "\n",
    "# c为返回的inner\n",
    "c = f1()\n",
    "# 如果我们调用c，相当于调用inner()\n",
    "c()\n",
    "# 打印出c的closure属性。\n",
    "print(c.__closure__)"
   ]
  },
  {
   "cell_type": "markdown",
   "metadata": {},
   "source": [
    "从这个例子我们看到，返回的inner是一个closure（闭包），在这个closure中的y和f1函数下的定义的y最终指向的是同一个内存地址，即同一个对象。\n",
    "\n",
    "这个例子中我们没有在inner中改动y的值（指向一个新的对象），如果需要在闭包中改动非局部变量的值，我们需要使用nonlocal。"
   ]
  },
  {
   "cell_type": "code",
   "execution_count": 52,
   "metadata": {},
   "outputs": [
    {
     "name": "stdout",
     "output_type": "stream",
     "text": [
      "This is a closure\n",
      "(<cell at 0x7fe73ee71df0: str object at 0x7fe73e602f30>,)\n"
     ]
    }
   ],
   "source": [
    "# hex(id(y))可以得到存储y的内存地址。\n",
    "def f1():\n",
    "    y = 'closure'\n",
    "    def inner():\n",
    "        # 加上nonlocal y语句来改变非局部变量y。\n",
    "        nonlocal y\n",
    "        y = 'This is a ' + y\n",
    "        return y\n",
    "    return inner\n",
    "\n",
    "# c为返回的inner\n",
    "c = f1()\n",
    "# 如果我们调用c，相当于调用inner()\n",
    "print(c())\n",
    "# 打印出c的closure属性。\n",
    "print(c.__closure__)"
   ]
  },
  {
   "cell_type": "markdown",
   "metadata": {},
   "source": [
    "在函数inner中加上nonlocal y后，我们就可以使自由变量指向新的对象，并且inner依旧是一个闭包。\n",
    "\n",
    "我们接下来看一些闭包的使用场景。\n",
    "\n",
    "**例一：计算平均值**\n",
    "\n",
    "构建一个函数，每输入一个数则输出所有输入数的平均值。"
   ]
  },
  {
   "cell_type": "code",
   "execution_count": 53,
   "metadata": {},
   "outputs": [
    {
     "name": "stdout",
     "output_type": "stream",
     "text": [
      "输入10后平均值是10.0\n",
      "输入30后平均值是20.0\n",
      "输入20后平均值是20.0\n",
      "输入60后平均值是30.0\n"
     ]
    }
   ],
   "source": [
    "# 第一步：构建一个外部函数。返回内部函数\n",
    "def averager():\n",
    "    \"\"\"每输入一个数计算所有输入数的平均数。\"\"\"\n",
    "    # 第二步：定义局部变量。\n",
    "    total = 0\n",
    "    count = 0\n",
    "    # 第三步：构建一个内部函数\n",
    "    def inner(num):\n",
    "        # 使用nonlocal因为每次输入会更新变量的值。\n",
    "        nonlocal total,count\n",
    "        total += num\n",
    "        count += 1\n",
    "        return total/count\n",
    "    return inner\n",
    "\n",
    "avg = averager()\n",
    "print(f'输入10后平均值是{avg(10)}')\n",
    "print(f'输入30后平均值是{avg(30)}')\n",
    "print(f'输入20后平均值是{avg(20)}')\n",
    "print(f'输入60后平均值是{avg(60)}')"
   ]
  },
  {
   "cell_type": "markdown",
   "metadata": {},
   "source": [
    "**例二：与平均分的差值**\n",
    "\n",
    "构建一个函数，计算每个同学和平均分的差值。"
   ]
  },
  {
   "cell_type": "code",
   "execution_count": 54,
   "metadata": {},
   "outputs": [
    {
     "name": "stdout",
     "output_type": "stream",
     "text": [
      "第一个与平均分相差16\n",
      "第二个与平均分相差-25\n",
      "第三个与平均分相差1\n"
     ]
    }
   ],
   "source": [
    "# 第一步：构建一个外部函数。返回内部函数\n",
    "def avg_dif(avg_score):\n",
    "    \"\"\"每次输入score输出它与avg_score的差值。\"\"\"\n",
    "    # 第二步：定义局部变量。\n",
    "    avg = avg_score\n",
    "    # 第三步：构建一个内部函数\n",
    "    def cal_dif(score):\n",
    "        return score - avg\n",
    "    return cal_dif\n",
    "\n",
    "# 假设平均分是80分\n",
    "dif = avg_dif(80)\n",
    "print(f'第一个与平均分相差{dif(96)}')\n",
    "print(f'第二个与平均分相差{dif(55)}')\n",
    "print(f'第三个与平均分相差{dif(81)}')"
   ]
  },
  {
   "cell_type": "markdown",
   "metadata": {},
   "source": [
    "通过上面的讲解和例子，我们对闭包有了一个初步的认识。接下来通过闭包我们要学习到Python中一个非常重要的功能————装饰器(Ｄecorator)。"
   ]
  },
  {
   "cell_type": "markdown",
   "metadata": {},
   "source": [
    "## 什么是装饰器(Decorator)？"
   ]
  },
  {
   "cell_type": "markdown",
   "metadata": {},
   "source": [
    "我们先通过一个例子来理解下什么是装饰器。\n",
    "\n",
    "假设我们希望知道我们一段代码的运行时间，我们可以通过datetime的now()去实现。\n",
    "\n",
    "```python\n",
    "from datetime import datetime\n",
    "def foo(x):\n",
    "    start = datetime.now()\n",
    "    a = 1\n",
    "    for i in range(x):\n",
    "        a += a*i\n",
    "    return a\n",
    "    print(f'总运行时间是{datetime.now() - start}')\n",
    "    return a\n",
    "```\n",
    "只要用结束时间减去开始时间就可以知道运行时间。但是想对于多个函数统计他们的运行时间，每次都去写datetime.now() - start即不高效，也不优雅。我们希望有一个功能可以简单且优美地把计时功能添加到函数foo上。这时使用闭包的知识就可以实现这个功能。"
   ]
  },
  {
   "cell_type": "code",
   "execution_count": 55,
   "metadata": {},
   "outputs": [],
   "source": [
    "from datetime import datetime\n",
    "# 定义外部函数，输入参数是需要添加计时功能的函数\n",
    "def running_time(func):\n",
    "    \"\"\"装饰函数打印func运行时间。\"\"\"\n",
    "    # 定义个局部变量start记录起始时间\n",
    "    start = datetime.now()\n",
    "    # 定义一个内部函数，输入参数会作为输入函数的参数\n",
    "    def inner(*arg):\n",
    "        #运行输入函数\n",
    "        result = func(*arg)\n",
    "        #计算输入函数运行事件\n",
    "        print(f'总运行时间是{datetime.now() - start}')\n",
    "        return result\n",
    "    # 返回闭包inner\n",
    "    return inner"
   ]
  },
  {
   "cell_type": "markdown",
   "metadata": {},
   "source": [
    "通过闭包的知识，我们定义了一个函数running_time，输入参数是需要计时的函数，返回的是一个闭包。这个闭包由输入参数func、start和inner组成。接下来我们看看怎么使用这个函数。"
   ]
  },
  {
   "cell_type": "code",
   "execution_count": 56,
   "metadata": {},
   "outputs": [
    {
     "name": "stdout",
     "output_type": "stream",
     "text": [
      "总运行时间是0:00:00.000022\n"
     ]
    },
    {
     "data": {
      "text/plain": [
       "3628800"
      ]
     },
     "execution_count": 56,
     "metadata": {},
     "output_type": "execute_result"
    }
   ],
   "source": [
    "# 定义一个我们需要计时的函数\n",
    "def foo(x):\n",
    "    a = 1\n",
    "    for i in range(x):\n",
    "        a += a*i\n",
    "    return a\n",
    "\n",
    "# 第一步调用running_time,返回闭包inner\n",
    "foo = running_time(foo)\n",
    "# 第二步调用inner\n",
    "foo(10)"
   ]
  },
  {
   "cell_type": "markdown",
   "metadata": {},
   "source": [
    "这个例子中第一步```running_time(foo)```返回的结果其实就是闭包inner，我们把闭包inner赋值给了一个函数名foo。接下来只要调用foo(10)就等于运行了inner函数(inner是一个闭包，所以变量start和foo可以被使用)得到运行时间。其实这两步可以简化合并成一步```cal_running = running_time(foo)(10)```。更棒的是Python还提供了一种更“偷懒”的方式—使用```＠```。"
   ]
  },
  {
   "cell_type": "code",
   "execution_count": 57,
   "metadata": {
    "scrolled": false
   },
   "outputs": [
    {
     "name": "stdout",
     "output_type": "stream",
     "text": [
      "总运行时间是0:00:00.000038\n"
     ]
    },
    {
     "data": {
      "text/plain": [
       "3628800"
      ]
     },
     "execution_count": 57,
     "metadata": {},
     "output_type": "execute_result"
    }
   ],
   "source": [
    "@running_time\n",
    "def foo(x):\n",
    "    a = 1\n",
    "    for i in range(x):\n",
    "        a += a*i\n",
    "    return a\n",
    "foo(10)"
   ]
  },
  {
   "cell_type": "markdown",
   "metadata": {},
   "source": [
    "上面例子中使用```@running_time def foo(x)相当于foo = running_time(foo)```，这样我们再调用函数foo(注意这里foo是装饰后的函数然不是原来定义的foo函数)就可以使用running_time中的功能。\n",
    "\n",
    "所以总结来说，[Decorator的作用就是在不改变源代码的情况下改变函数，方法或者类的功能](https://wiki.python.org/moin/PythonDecorators#What_is_a_Decorator)。它具有以下特点：\n",
    "* 把一个函数作为输入参数\n",
    "* 返回一个闭包\n",
    "* 闭包输入参数一般设置为```(*args,**kwargs)```，作为输入函数的参数。\n",
    "* 闭包实现一些功能，并运行输入函数。\n",
    "* 闭包的返回值就是输入函数的返回值。\n",
    "\n",
    "那装饰器有什么用呢？我们用几个例子理解下。\n",
    "\n",
    "**例一：计数器**\n",
    "\n",
    "定义个装饰器counter可以记录函数的总调用次数。"
   ]
  },
  {
   "cell_type": "code",
   "execution_count": 64,
   "metadata": {},
   "outputs": [
    {
     "name": "stdout",
     "output_type": "stream",
     "text": [
      "weird_word is called 1 times.\n",
      "The apple is a weird word!\n",
      "weird_word is called 2 times.\n",
      "The Mike is a weird word!\n"
     ]
    }
   ],
   "source": [
    "def counter(fn):\n",
    "    \"\"\"装饰函数记录fn的运行次数。\"\"\"\n",
    "    count = 0\n",
    "    def inner(*args, **kwargs):\n",
    "        nonlocal count\n",
    "        result = fn(*args, **kwargs)\n",
    "        count += 1\n",
    "        print(f'{fn.__name__} is called {count} times.')\n",
    "        return result\n",
    "    return inner\n",
    "    \n",
    "@counter\n",
    "def weird_word(astr):\n",
    "    return 'The ' + astr + ' is a weird word!'\n",
    "print(weird_word('apple'))\n",
    "print(weird_word('Mike'))"
   ]
  },
  {
   "cell_type": "markdown",
   "metadata": {},
   "source": [
    "**例二：对函数weird_word计数器同时记录运行日志**\n",
    "\n",
    "定义一个装饰器logger打印出函数运行时间。然后同时使用装饰器counter打印运行次数。"
   ]
  },
  {
   "cell_type": "code",
   "execution_count": 82,
   "metadata": {},
   "outputs": [
    {
     "name": "stdout",
     "output_type": "stream",
     "text": [
      "08/09/20 22:23:14: The program is running...\n",
      "three_pow is called 1 times.\n",
      "08/09/20 22:23:15: Completed!\n",
      "59049\n",
      "08/09/20 22:23:15: The program is running...\n",
      "three_pow is called 2 times.\n",
      "08/09/20 22:23:16: Completed!\n",
      "3486784401\n"
     ]
    }
   ],
   "source": [
    "from datetime import datetime\n",
    "import time\n",
    "def logger(fn):\n",
    "    \"\"\"装饰函数打印函数fn运行进程。\"\"\"\n",
    "    def inner(*args, **kwargs):\n",
    "        print(f'{datetime.now():%d/%m/%y %H:%M:%S}: The program is running...')\n",
    "        result = fn(*args, **kwargs)\n",
    "        print(f'{datetime.now():%d/%m/%y %H:%M:%S}: Completed!')\n",
    "        return result\n",
    "    return inner\n",
    "\n",
    "@logger\n",
    "@counter\n",
    "def three_pow(n):\n",
    "    \"\"\" Return 3 to the power of n.\"\"\"\n",
    "    time.sleep(1)\n",
    "    return 3**n\n",
    "print(three_pow(10))\n",
    "print(three_pow(20))"
   ]
  },
  {
   "cell_type": "markdown",
   "metadata": {},
   "source": [
    "我们看到多个装饰器可以嵌套使用，这里相当于```three_pow = logger(counter(three_pow))```。"
   ]
  },
  {
   "cell_type": "markdown",
   "metadata": {},
   "source": [
    "**例三：记录历史运行结果提高效率**\n",
    "\n",
    "定义一个装饰器来提高[斐波那契](https://zh.wikipedia.org/wiki/%E6%96%90%E6%B3%A2%E9%82%A3%E5%A5%91%E6%95%B0%E5%88%97)函数运行效率。在下面这个fib函数中，由于运用了递归方法(recursion)，可以看到有些数字会被多次计算。我们需要一个装饰器来记住已经计算过的结果，如果运行到已经计算过的数字则直接输出结果。\n",
    "\n",
    "```python\n",
    "def fib(n):\n",
    "    print(f'计算fib({n})...')\n",
    "    if n < 3:\n",
    "        return 1\n",
    "    else:\n",
    "        return fib(n-1) + fib(n-2)\n",
    "    \n",
    "fib(5)\n",
    "\n",
    "计算fib(5)...\n",
    "计算fib(4)...\n",
    "计算fib(3)...\n",
    "计算fib(2)...\n",
    "计算fib(1)...\n",
    "计算fib(2)...\n",
    "计算fib(3)...\n",
    "计算fib(2)...\n",
    "计算fib(1)...\n",
    "```"
   ]
  },
  {
   "cell_type": "code",
   "execution_count": 111,
   "metadata": {},
   "outputs": [
    {
     "name": "stdout",
     "output_type": "stream",
     "text": [
      "计算fib(5)...\n",
      "计算fib(4)...\n",
      "计算fib(3)...\n",
      "计算fib(2)...\n",
      "计算fib(1)...\n"
     ]
    },
    {
     "data": {
      "text/plain": [
       "5"
      ]
     },
     "execution_count": 111,
     "metadata": {},
     "output_type": "execute_result"
    }
   ],
   "source": [
    "def memorize(fn):\n",
    "    \"\"\"记录历史结果的装饰器。\"\"\"\n",
    "    dict_result = {}\n",
    "    def inner(n):\n",
    "        if n not in dict_result:\n",
    "            dict_result[n] = fn(n)\n",
    "        return dict_result[n]\n",
    "    return inner\n",
    "\n",
    "@memorize\n",
    "def fib(n):\n",
    "    \"\"\"计算斐波那契级数。\"\"\"\n",
    "    print(f'计算fib({n})...')\n",
    "    if n < 3:\n",
    "        return 1\n",
    "    else:\n",
    "        return fib(n-1) + fib(n-2)\n",
    "    \n",
    "fib(5)"
   ]
  },
  {
   "cell_type": "markdown",
   "metadata": {},
   "source": [
    "使用memorize装饰器后，如果一个数字计算过则会直接返回历史记录，从而提高了运行效率。\n",
    "\n",
    "此外装饰器还可以输入参数。\n",
    "\n",
    "**例四：计数器设置默认起始值**\n",
    "\n",
    "在第一个例子计数器中，我们默认从0开始计数，接下来我们要改写count装饰器使它可以输入额外参数来改变起始值，比如从10开始数。"
   ]
  },
  {
   "cell_type": "code",
   "execution_count": 115,
   "metadata": {},
   "outputs": [
    {
     "name": "stdout",
     "output_type": "stream",
     "text": [
      "weird_word is called 11 times.\n",
      "The apple is a weird word!\n",
      "weird_word is called 12 times.\n",
      "The Mike is a weird word!\n"
     ]
    }
   ],
   "source": [
    "def counter(count = 0):\n",
    "    \"\"\"装饰函数记录fn的运行次数，并且可以改变计数起始值。\"\"\"\n",
    "    def decor(fn):\n",
    "        def inner(*args, **kwargs):\n",
    "            nonlocal count\n",
    "            result = fn(*args, **kwargs)\n",
    "            count += 1\n",
    "            print(f'{fn.__name__} is called {count} times.')\n",
    "            return result\n",
    "        return inner\n",
    "    return decor\n",
    "    \n",
    "@counter(10)\n",
    "def weird_word(astr):\n",
    "    return 'The ' + astr + ' is a weird word!'\n",
    "print(weird_word('apple'))\n",
    "print(weird_word('Mike'))"
   ]
  },
  {
   "cell_type": "markdown",
   "metadata": {},
   "source": [
    "上面的装饰函数counter的使用相当于```weird_word = counter(10)decor(weird_word)```，这样就达到了在装饰器中输入参数的目的。\n",
    "\n",
    "通过上面装饰器的几个例子，相信你感受到了装饰器在Python编程中的重要地位。在实际工作中已经有许多的内置装饰器或者是来自三方包的装饰器，所以多数时候并不需要自己写新的装饰器，比如之前例子中memorize可以使用功能更强大的lru_cache()，但是对装饰器的理解绝对是对学习Python编程有帮助巨大的。"
   ]
  }
 ],
 "metadata": {
  "kernelspec": {
   "display_name": "Python 3",
   "language": "python",
   "name": "python3"
  },
  "language_info": {
   "codemirror_mode": {
    "name": "ipython",
    "version": 3
   },
   "file_extension": ".py",
   "mimetype": "text/x-python",
   "name": "python",
   "nbconvert_exporter": "python",
   "pygments_lexer": "ipython3",
   "version": "3.8.5"
  },
  "toc": {
   "base_numbering": 1,
   "nav_menu": {},
   "number_sections": true,
   "sideBar": true,
   "skip_h1_title": false,
   "title_cell": "Table of Contents",
   "title_sidebar": "Contents",
   "toc_cell": false,
   "toc_position": {},
   "toc_section_display": true,
   "toc_window_display": false
  }
 },
 "nbformat": 4,
 "nbformat_minor": 4
}
