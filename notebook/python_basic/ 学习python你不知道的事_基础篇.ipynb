{
 "cells": [
  {
   "cell_type": "markdown",
   "metadata": {},
   "source": [
    "在学习Python的过程中难免会遇到许多疑惑，这篇分享记录了我在学习过程中一些疑问以及我在查阅一些资料后对于这些问题的回答。其实每个问题单独拿出来讲都可以写一篇文章，这里对于大多数问题我只做到了浅尝则止。如果有欠缺的地方欢迎大家指出，感谢!"
   ]
  },
  {
   "cell_type": "markdown",
   "metadata": {},
   "source": [
    "# 问题目录\n",
    "\n",
    "1. 怎么理解在Python中，所有东西都是对象(object)？\n",
    "2. 为什么说Python的变量相当于“标签”，而不是一个“容器”？\n",
    "3. 为什么两个变量都等于299，他们的内存地址不同？\n",
    "4. 说Python是动态型编程语言是什么意思？\n",
    "5. 怎么理解Python中的mutable(可变)和immutable(不可变)？\n",
    "6. round(4.5)＝4，这里为什么不是四舍五入？\n",
    "7. 为什么0.1+0.1+0.1不等于0.3？\n",
    "8. Python中is和==的区别？\n",
    "9. Python字符串前面加r是什么意思？例如r'c:\\folder'\n",
    "10. Python3的f-string的用法?例如f'a={x}'\n",
    "11. 为什么Python中a,b = b,a可以交换a,b的值？\n",
    "12. 循环中continue和break的区别。"
   ]
  },
  {
   "cell_type": "markdown",
   "metadata": {},
   "source": [
    "## 怎么理解在Python中，所有东西都是对象(object)？"
   ]
  },
  {
   "cell_type": "markdown",
   "metadata": {},
   "source": [
    "Python是一个面向对象的编程语言，一个对象指一个类(class)的实例，它包含了一些属性(attributes)和一些方法（methods）。调用一个对象的属性和方法是在对象后面接\".\"。不同对象之间也可以进行操作，比如１＋５=6，　或者'a'+'c'= 'ac'。"
   ]
  },
  {
   "cell_type": "code",
   "execution_count": 1,
   "metadata": {},
   "outputs": [
    {
     "name": "stdout",
     "output_type": "stream",
     "text": [
      "<class 'int'>\n",
      "7\n"
     ]
    }
   ],
   "source": [
    "# 数字是对象\n",
    "a = 100\n",
    "print(type(a))\n",
    "# 调用对象a的属性\n",
    "#print(a.__doc__)\n",
    "# 使用对象a的方法，比特长度\n",
    "print(a.bit_length())"
   ]
  },
  {
   "cell_type": "code",
   "execution_count": 2,
   "metadata": {},
   "outputs": [
    {
     "name": "stdout",
     "output_type": "stream",
     "text": [
      "======一个简单的类=======\n",
      "<class '__main__.human'>\n",
      "mike 的最大生命长度为: 100\n",
      "吃了一餐!\n"
     ]
    }
   ],
   "source": [
    "print('======一个简单的类=======')\n",
    "# 我们创建一个简单的类\n",
    "class human:\n",
    "    def __init__(self):\n",
    "        self.maxlifespan = 100\n",
    "    def eat(self):\n",
    "        print('吃了一餐!')\n",
    "# 我们用新建的类来创建一个对象\n",
    "mike = human()\n",
    "print(type(mike))\n",
    "# 我们调用mike的属性\n",
    "print('mike 的最大生命长度为:',mike.maxlifespan)\n",
    "# 调用mike的方法\n",
    "mike.eat()"
   ]
  },
  {
   "cell_type": "markdown",
   "metadata": {},
   "source": [
    "## 为什么说Python的变量相当于“标签”，而不是一个“容器”？"
   ]
  },
  {
   "cell_type": "code",
   "execution_count": 3,
   "metadata": {
    "scrolled": true
   },
   "outputs": [
    {
     "name": "stdout",
     "output_type": "stream",
     "text": [
      "v1指向的id为94711155393600\n",
      "v2指向的id为94711155393760\n",
      "v3指向的id为94711155393600\n",
      "改变v1的值后：\n",
      "v1指向的id为94711155393760\n"
     ]
    }
   ],
   "source": [
    "# Python的运算符 = 是引用，而非赋值运算，\n",
    "# 所以 v1 = 15 的含义是创建一个值为 15 的 int 对象\n",
    "# 再将 v1 指向该对象的地址。\n",
    "v1 = 15\n",
    "# 同理创建了一个变量标签v2指向对象20。\n",
    "v2 = 20\n",
    "v3 = 15\n",
    "# 函数id(对象)返回一个唯一的值，可以代表内存中一个唯一的位置。\n",
    "# 所以相同的id意味着相同的内存地址。\n",
    "# 打印出v1的id。　\n",
    "print(f'v1指向的id为{id(v1)}')\n",
    "print(f'v2指向的id为{id(v2)}')\n",
    "print(f'v3指向的id为{id(v3)}')\n",
    "print('改变v1的值后：')\n",
    "v1 = v1+5\n",
    "print(f'v1指向的id为{id(v1)}')"
   ]
  },
  {
   "cell_type": "markdown",
   "metadata": {},
   "source": [
    "可以看到v1和v3都指向同一个地址。而我们对v1重新引用：把v1+5后，v1又指向了v2指向的地址，即int对象20的地址。由此可以看出pyhton中的变量并不是像一个容器（容器指，如果有新的改动就回去修改这个变量中（容器中）的内容，而保持内存地址不变）一样，在数据改变后变量的指向的内存地址也改变了，所以它更像标签一个样指向一个对象内存地址。如果重写引用，则这个标签又会指向一个新对象的地址。"
   ]
  },
  {
   "cell_type": "markdown",
   "metadata": {},
   "source": [
    "## 为什么两个变量都等于299，他们的内存地址不同？"
   ]
  },
  {
   "cell_type": "code",
   "execution_count": 4,
   "metadata": {},
   "outputs": [
    {
     "name": "stdout",
     "output_type": "stream",
     "text": [
      "a的id是94711155393280\n",
      "b的id是94711155393280\n",
      "v1的id是140176265117456\n",
      "v2的id是140176265117328\n"
     ]
    }
   ],
   "source": [
    "a = 5\n",
    "b = 5\n",
    "print(f'a的id是{id(a)}')\n",
    "print(f'b的id是{id(b)}')\n",
    "v1 = 299\n",
    "v2 = 299\n",
    "print(f'v1的id是{id(v1)}')\n",
    "print(f'v2的id是{id(v2)}')"
   ]
  },
  {
   "cell_type": "markdown",
   "metadata": {},
   "source": [
    "造成id不同的原因是: Python把[-5,256]的数字会预先存到内存变为全球变量，换句话说这个范围内的数字在内存中只被创建一次，你把python中-5到256之间的值引用给任何变量或者使用这些对象，相同数字他们指向的内存地址都是相同的。而这个范围以外的数字会在你创建它的时候写入内存，就算是同一个数字，比如都是299，他们所存储的地址都是不同的。\n",
    "\n",
    "使用这个机制的原因是为了优化速度，小的整数在代码中使用频率更高，这样预先存入内存中并只创建一次，从而方便快速访问。而其他数字使用频率低的，只有在使用的时候才在内存中创建。在完成使用后，python会把他们从内存中清除。\n",
    "\n",
    "同样的，所有标识符(identifiers)比如变量名，函数名，类名等都会被存在内存中并只创建一次（这个过程叫做intern，intern指把标识符的是存入内存中，并只创建一次作为全球变量）。此外，有些类似标识符的字符也会被intern。"
   ]
  },
  {
   "cell_type": "code",
   "execution_count": 5,
   "metadata": {
    "scrolled": true
   },
   "outputs": [
    {
     "name": "stdout",
     "output_type": "stream",
     "text": [
      "a的地址为140176264853120, b的地址为140176264853120\n",
      "a的地址为140176264965936, b的地址为140176264965936\n"
     ]
    }
   ],
   "source": [
    "# 函数名作为identifier会被interned.\n",
    "def foo():\n",
    "    pass\n",
    "a = foo\n",
    "b = foo\n",
    "print(f'a的地址为{id(a)}, b的地址为{id(b)}')\n",
    "# 类似identifer的字符串也会被interned.\n",
    "a = 'hello'\n",
    "b = 'hello'\n",
    "print(f'a的地址为{id(a)}, b的地址为{id(b)}')"
   ]
  },
  {
   "cell_type": "markdown",
   "metadata": {},
   "source": [
    "## 说Python是动态型编程语言是什么意思？"
   ]
  },
  {
   "cell_type": "markdown",
   "metadata": {},
   "source": [
    "编程语言主要分为静态型(Static Typing)及动态型(Dynamic Typing)。在一些新兴的语言中则有推论型(Infered types),它其实正好处在静态型和动态型中间，这里我们不做展开。静态型主要有C, C++, C#, Java 等。而动态型主要有Javascript, PHP, Python等。我们用一个例子来简单解答下什么是静态型，如果对这个感兴趣可以去网上查阅更多资料了解。"
   ]
  },
  {
   "cell_type": "code",
   "execution_count": 6,
   "metadata": {},
   "outputs": [
    {
     "name": "stdout",
     "output_type": "stream",
     "text": [
      "<class 'str'>\n",
      "<class 'int'>\n",
      "<class 'function'>\n"
     ]
    }
   ],
   "source": [
    "# 简单来说静态型的变量没有任何数据类型，只有它所指向对象有数据类型。\n",
    "# 因此我们使用Python的时候不需要提前定义变量，而静态型语言则需要\n",
    "# 在使用一个变量前，提前定义他是什么类型的变量。\n",
    "a = 'apple'\n",
    "print(type(a))\n",
    "a = 10\n",
    "print(type(a))\n",
    "a = lambda x: x*2\n",
    "print(type(a))"
   ]
  },
  {
   "cell_type": "markdown",
   "metadata": {},
   "source": [
    "## 怎么理解Python中的mutable和immutable？"
   ]
  },
  {
   "cell_type": "markdown",
   "metadata": {},
   "source": [
    "Python中，任何东西都是对象(object)。\n",
    "\n",
    "[一个对象就包含了一个id（你可以把它想像成一个内存地址），一个对象类型（type，即对象本身）,一个值（value）。在一个对象被创建的时候，id和类型就不会再被改变了，但是有些对象的值是可以改变的。根据对象的值是否可以改变，对象分为mutable和immutable。mutable的对象就是在对象创建后，其值可以改变，而immutable的对象在创建后其值无法再改变，除非创建一个新的对象](https://docs.python.org/2.0/ref/objects.html#:~:text=Objects%20are%20Python's%20abstraction%20for,or%20by%20relations%20between%20objects.&text=Every%20object%20has%20an%20identity,the%20object's%20address%20in%20memory.)。\n",
    "\n",
    "常见的immutable objects:\n",
    "* string\n",
    "* int, float, decimal, bool, complex\n",
    "* tuple\n",
    "\n",
    "常见的mutable objects:\n",
    "* list\n",
    "* dict\n",
    "* set"
   ]
  },
  {
   "cell_type": "code",
   "execution_count": 7,
   "metadata": {},
   "outputs": [
    {
     "name": "stdout",
     "output_type": "stream",
     "text": [
      "a的id是140176340510256\n",
      "更新后a的id是140176309222704\n"
     ]
    }
   ],
   "source": [
    "# immutable objects\n",
    "a = 'f'\n",
    "print(f'a的id是{id(a)}')\n",
    "a = 'f' + 'oo'\n",
    "print(f'更新后a的id是{id(a)}')"
   ]
  },
  {
   "cell_type": "code",
   "execution_count": 8,
   "metadata": {
    "scrolled": true
   },
   "outputs": [
    {
     "name": "stdout",
     "output_type": "stream",
     "text": [
      "a的id是140176265282096\n",
      "更新后a的id是140176265282096\n"
     ]
    }
   ],
   "source": [
    "# mutable objects\n",
    "a = [1, 'ty', 'go']\n",
    "print(f'a的id是{id(a)}')\n",
    "a.append(10)\n",
    "print(f'更新后a的id是{id(a)}')"
   ]
  },
  {
   "cell_type": "markdown",
   "metadata": {},
   "source": [
    "可以看到immutable对象更新值后id改变了，说明更新后的a是一个新的对象。而mutable对象在更新值后id并没有改变，依然是同一个对象。"
   ]
  },
  {
   "cell_type": "markdown",
   "metadata": {},
   "source": [
    "## round(4.5)＝4，这里为什么不是四舍五入？"
   ]
  },
  {
   "cell_type": "markdown",
   "metadata": {},
   "source": [
    "round()所使用的方法叫做银行家舍入(Banker's rounding)，即“四舍六入五取偶”，而不是我们小时候学的“四舍五入”。简单来说，小于4舍或者大于6入，但如果舍入位是5，则舍入后最后一位为最靠近的偶数。"
   ]
  },
  {
   "cell_type": "code",
   "execution_count": 9,
   "metadata": {},
   "outputs": [
    {
     "name": "stdout",
     "output_type": "stream",
     "text": [
      "4\n",
      "6\n",
      "1.23\n",
      "1.24\n"
     ]
    }
   ],
   "source": [
    "print(round(4.5))\n",
    "print(round(5.5))\n",
    "\n",
    "print(round(1.225, 2))\n",
    "print(round(1.235, 2))"
   ]
  },
  {
   "cell_type": "markdown",
   "metadata": {},
   "source": [
    "那为什么要使用银行家舍入？　答案是它更精确。我们来看一个例子："
   ]
  },
  {
   "cell_type": "code",
   "execution_count": 10,
   "metadata": {},
   "outputs": [
    {
     "name": "stdout",
     "output_type": "stream",
     "text": [
      "[0.995, 1.995, 2.995, 3.995, 4.995, 5.995, 6.995, 7.995, 8.995]\n",
      "所有金额的平均值为： 4.995\n",
      "每个数四舍五入后的平均值为： 5.0\n",
      "每个数使用银行家舍入后的平均值为： 4.997777777777778\n"
     ]
    }
   ],
   "source": [
    "# 假设我们有10个数代表10个金额\n",
    "a = [d - 0.005 for d in range(1,10)]\n",
    "print(a)\n",
    "print('所有金额的平均值为：', sum(a)/len(a))\n",
    "# 如果使用简单的四舍五入法,这里第二位小数都要加一，\n",
    "# 我们可以使用math.ceil()。在这里例子里和四舍五入法是一样的效果。\n",
    "import math\n",
    "b = [math.ceil(d) for d in a]\n",
    "print('每个数四舍五入后的平均值为：', sum(b)/len(b))\n",
    "c = [round(d, 2) for d in a]\n",
    "print('每个数使用银行家舍入后的平均值为：', sum(c)/len(c))"
   ]
  },
  {
   "cell_type": "markdown",
   "metadata": {},
   "source": [
    "从上面例子我们可以看到使用银行家舍入(Banker's rounding)后，均值的误差比单纯四舍五入的误差要小。所以round()的时候使用更为科学的银行家舍入。"
   ]
  },
  {
   "cell_type": "markdown",
   "metadata": {},
   "source": [
    "## 为什么0.1+0.1+0.1不等于0.3？"
   ]
  },
  {
   "cell_type": "markdown",
   "metadata": {},
   "source": [
    "计算机记录存储数据是使用二进制的。在表示浮点型(float)的时候有些数是不能精确表示的，[因为它是以二进制的分数存储的(比如1/8)](https://docs.python.org/2/tutorial/floatingpoint.html)。"
   ]
  },
  {
   "cell_type": "code",
   "execution_count": 11,
   "metadata": {},
   "outputs": [
    {
     "name": "stdout",
     "output_type": "stream",
     "text": [
      "0.1000000000000000055511151\n",
      "0.1250000000000000000000000\n"
     ]
    }
   ],
   "source": [
    "# 比如0.1,当我们显示小数点后25位的时候。\n",
    "print(format(0.1, '.25f'))\n",
    "# 正因为是二进制存储的过程，有些数（1/8）是可以正确表示的。\n",
    "print(format(0.125, '.25f'))"
   ]
  },
  {
   "cell_type": "code",
   "execution_count": 12,
   "metadata": {},
   "outputs": [
    {
     "name": "stdout",
     "output_type": "stream",
     "text": [
      "False\n"
     ]
    }
   ],
   "source": [
    "#那我们如何让0.1+0.1+0.1=0.3呢？\n",
    "a = 0.1 + 0.1 + 0.1\n",
    "b = 0.3\n",
    "print(a == b)"
   ]
  },
  {
   "cell_type": "code",
   "execution_count": 13,
   "metadata": {},
   "outputs": [
    {
     "name": "stdout",
     "output_type": "stream",
     "text": [
      "True\n"
     ]
    }
   ],
   "source": [
    "#我们可以使用math.isclose()进行比较。\n",
    "from math import isclose\n",
    "print(isclose(a, b))"
   ]
  },
  {
   "cell_type": "code",
   "execution_count": 14,
   "metadata": {},
   "outputs": [
    {
     "name": "stdout",
     "output_type": "stream",
     "text": [
      "a = b: True\n",
      "x = y: True\n"
     ]
    }
   ],
   "source": [
    "# 在isclose中有２个参数\n",
    "# rel_tol 相对误差\n",
    "# abs_tol 绝对误差\n",
    "# 比如我们需要比较以下数字的时候,我们需要相对误差去比较。\n",
    "# 因为他们相对来说是比较接近的。\n",
    "a = 999999999.01\n",
    "b = 999999999.02\n",
    "# 而在比较以下数字的时候，它们的绝对误差是比较小的。\n",
    "x = 0.0000001\n",
    "y = 0.0000002\n",
    "# 我们可以把相对误差和绝对误差组合起来使用\n",
    "print('a = b:', isclose(a, b, abs_tol=0.0001, rel_tol=0.01))\n",
    "print('x = y:', isclose(x, y, abs_tol=0.0001, rel_tol=0.01))"
   ]
  },
  {
   "cell_type": "markdown",
   "metadata": {},
   "source": [
    "## Python中is和==的区别？"
   ]
  },
  {
   "cell_type": "markdown",
   "metadata": {},
   "source": [
    "Python中is比较的是对象(object)的id是否相同，而==对比的是对象的值是否相同。"
   ]
  },
  {
   "cell_type": "code",
   "execution_count": 15,
   "metadata": {},
   "outputs": [
    {
     "name": "stdout",
     "output_type": "stream",
     "text": [
      "a is b : True\n",
      "a == b : True\n",
      "a的id是： 94711155393280\n",
      "b的id是： 94711155393280\n"
     ]
    }
   ],
   "source": [
    "# Python在[-5,256]的范围内引用数字，都是指向同一个对象。\n",
    "a = 5\n",
    "b = 5\n",
    "print('a is b :', a is b)\n",
    "print('a == b :', a == b)\n",
    "print('a的id是：',id(a))\n",
    "print('b的id是：',id(b))"
   ]
  },
  {
   "cell_type": "code",
   "execution_count": 16,
   "metadata": {
    "scrolled": true
   },
   "outputs": [
    {
     "name": "stdout",
     "output_type": "stream",
     "text": [
      "a is b : False\n",
      "a == b : True\n",
      "a的id是： 140176265012464\n",
      "b的id是： 140176265011856\n"
     ]
    }
   ],
   "source": [
    "a = 999\n",
    "b = 999\n",
    "print('a is b :', a is b)\n",
    "print('a == b :', a == b)\n",
    "print('a的id是：',id(a))\n",
    "print('b的id是：',id(b))"
   ]
  },
  {
   "cell_type": "markdown",
   "metadata": {},
   "source": [
    "从上面可以看出，当比较时是同一个id，则用is或者==都是True。而在id不同值一样的情况下只用有==才会是True。"
   ]
  },
  {
   "cell_type": "markdown",
   "metadata": {},
   "source": [
    "## Python字符串前面加r是什么意思？"
   ]
  },
  {
   "cell_type": "markdown",
   "metadata": {},
   "source": [
    "字符串前面最常用的用法是在打开路经的时候：r'c:\\yourpath'\n",
    "\n",
    "'r'的作用是防止字符转义。比如'\\t'代表tab。具体用法参考[官方文档](https://docs.python.org/2.0/ref/strings.html)"
   ]
  },
  {
   "cell_type": "code",
   "execution_count": 17,
   "metadata": {},
   "outputs": [
    {
     "name": "stdout",
     "output_type": "stream",
     "text": [
      "c:\this is a test\n",
      "ew folder\text.txt\n",
      "====添加r后===\n",
      "c:\\this is a test\\new folder\\text.txt\n",
      "====添加\\后===\n",
      "c:\\this is a test\\new folder\\text.txt\n"
     ]
    }
   ],
   "source": [
    "# 不加r\n",
    "print('c:\\this is a test\\new folder\\text.txt')\n",
    "# 加r防止字符转义\n",
    "print('====添加r后===')\n",
    "print(r'c:\\this is a test\\new folder\\text.txt')\n",
    "# 在\\前加一个\\也可以正确显示\n",
    "print('====添加\\后===')\n",
    "print('c:\\\\this is a test\\\\new folder\\\\text.txt')"
   ]
  },
  {
   "cell_type": "markdown",
   "metadata": {},
   "source": [
    "## Python3的f-string的用法?例如f'a={x}'"
   ]
  },
  {
   "cell_type": "markdown",
   "metadata": {},
   "source": [
    "f-string,亦称为格式化字符串常量（formatted string literals），是Python3.6新引入的一种字符串格式化方法，主要目的是使格式化字符串的操作更加简便。\n",
    "\n",
    "f-string在形式上是以 f 或 F 修饰符引领的字符串（f'xxx' 或 F'xxx'），以大括号 {} 标明被替换的字段；[f-string在本质上并不是字符串常量，而是一个在运行时运算求值的表达式](https://docs.python.org/3/whatsnew/3.6.html#whatsnew36-pep498)，与str.format()的用法相似。\n",
    "\n",
    "f-string采用 {content:format} 设置字符串格式，其中 content 是替换并填入字符串的内容，可以是变量、表达式或函数等，format 是格式描述符，可以省略。详细语法可以查阅[官方文档](https://docs.python.org/3/library/string.html#format-string-syntax)。\n"
   ]
  },
  {
   "cell_type": "code",
   "execution_count": 18,
   "metadata": {},
   "outputs": [
    {
     "name": "stdout",
     "output_type": "stream",
     "text": [
      "The price is 99.99\n",
      "The length is 5\n",
      "\n",
      "This\n",
      "is\n",
      "a\n",
      "test\n",
      "\n",
      "a is 99.999\n",
      "Today's date is 2020/08/26.\n"
     ]
    }
   ],
   "source": [
    "# {}中直接填变量\n",
    "a = 99.99\n",
    "print(f'The price is {a}')\n",
    "# 填入函数\n",
    "print(f'The length is {len(range(5))}')\n",
    "# 多行f-string\n",
    "print(f'''\n",
    "This\n",
    "{'is'}\n",
    "a\n",
    "{'test'}\n",
    "''')\n",
    "# 使用{content:format}设置\n",
    "a = 99.9989\n",
    "print(f'a is {a:.3f}')\n",
    "import datetime\n",
    "d = datetime.datetime.today().date()\n",
    "print(f'Today\\'s date is {d:%Y/%m/%d}.')"
   ]
  },
  {
   "cell_type": "markdown",
   "metadata": {},
   "source": [
    "## 为什么Python中a,b = b,a可以交换a,b的值？"
   ]
  },
  {
   "cell_type": "markdown",
   "metadata": {},
   "source": [
    "解释这个问题之前要了解python的两个知识点。\n",
    "* 元组(tuple)如何创建\n",
    "* 什么是unpack"
   ]
  },
  {
   "cell_type": "code",
   "execution_count": 19,
   "metadata": {},
   "outputs": [
    {
     "name": "stdout",
     "output_type": "stream",
     "text": [
      "<class 'tuple'>\n"
     ]
    }
   ],
   "source": [
    "# 在一开始学习的时候我们最常用的方式\n",
    "a = (6,7)\n",
    "# 也许会认为创建tuple的必要条件是()\n",
    "# 但其实创建元组的必要条件是逗号,\n",
    "b = 6,\n",
    "print(type(b))"
   ]
  },
  {
   "cell_type": "markdown",
   "metadata": {},
   "source": [
    "我们看到即使是一个数加上逗号也是一个元组。那问题中等式右侧b,a就组成了一个元组。接下来就使用unpack的方式让a指向元组的第一个元素，b指向元组的第二个元素。"
   ]
  },
  {
   "cell_type": "code",
   "execution_count": 20,
   "metadata": {},
   "outputs": [
    {
     "name": "stdout",
     "output_type": "stream",
     "text": [
      "a:7, b:6\n"
     ]
    }
   ],
   "source": [
    "# 所以a,b = b,a可以分成以下２步\n",
    "a = 6\n",
    "b = 7\n",
    "# 第一步构建元组c\n",
    "c = b,a\n",
    "#　第二步使用unpack让变量引用新的对象\n",
    "a,b = c\n",
    "print(f'a:{a}, b:{b}')"
   ]
  },
  {
   "cell_type": "markdown",
   "metadata": {},
   "source": [
    "## 循环中continue和break的区别。"
   ]
  },
  {
   "cell_type": "markdown",
   "metadata": {},
   "source": [
    "Python中，break和continue语句用来改变循环的进程。\n",
    "\n",
    "一般循环会一直运行到条件为false则结束循环，但是有时候我们希望提前结束整个循环或者结束本轮循环而不用判断条件是否是false。break的作用就是直接结束整个循环，而continue的作用是结束本轮循环。"
   ]
  },
  {
   "cell_type": "code",
   "execution_count": 21,
   "metadata": {},
   "outputs": [
    {
     "name": "stdout",
     "output_type": "stream",
     "text": [
      "It reaches 6,let's take a break!\n",
      "6\n"
     ]
    }
   ],
   "source": [
    "# break的用法\n",
    "# c 记录循环了几次\n",
    "c = 0\n",
    "for i in range(10):\n",
    "    if i>5:\n",
    "        print(f'It reaches {i},let\\'s take a break!')\n",
    "        break\n",
    "    c += 1\n",
    "print(c)"
   ]
  },
  {
   "cell_type": "markdown",
   "metadata": {},
   "source": [
    "当运行到break后，整个循环就马上结束了。"
   ]
  },
  {
   "cell_type": "code",
   "execution_count": 22,
   "metadata": {},
   "outputs": [
    {
     "name": "stdout",
     "output_type": "stream",
     "text": [
      "It reaches 5,let's take a break!\n",
      "9\n"
     ]
    }
   ],
   "source": [
    "# break的用法\n",
    "# c 记录循环了几次\n",
    "c = 0\n",
    "for i in range(10):\n",
    "    if i == 5:\n",
    "        print(f'It reaches {i},let\\'s take a break!')\n",
    "        continue\n",
    "    c += 1\n",
    "print(c)"
   ]
  },
  {
   "cell_type": "markdown",
   "metadata": {},
   "source": [
    "当运行到continue后，本轮循环之后的语句就会直接跳过进入下一个循环。所以这里c只记录到了9而不是10。"
   ]
  }
 ],
 "metadata": {
  "kernelspec": {
   "display_name": "Python 3",
   "language": "python",
   "name": "python3"
  },
  "language_info": {
   "codemirror_mode": {
    "name": "ipython",
    "version": 3
   },
   "file_extension": ".py",
   "mimetype": "text/x-python",
   "name": "python",
   "nbconvert_exporter": "python",
   "pygments_lexer": "ipython3",
   "version": "3.7.6"
  },
  "toc": {
   "base_numbering": 1,
   "nav_menu": {},
   "number_sections": true,
   "sideBar": true,
   "skip_h1_title": false,
   "title_cell": "Table of Contents",
   "title_sidebar": "Contents",
   "toc_cell": false,
   "toc_position": {},
   "toc_section_display": true,
   "toc_window_display": false
  }
 },
 "nbformat": 4,
 "nbformat_minor": 4
}
